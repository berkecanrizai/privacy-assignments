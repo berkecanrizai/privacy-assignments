{
 "cells": [
  {
   "cell_type": "code",
   "execution_count": 1,
   "id": "37c72a8c-cc45-470a-94eb-cd9d4bb79a5c",
   "metadata": {},
   "outputs": [],
   "source": [
    "with open('digitalcorp.txt') as f:\n",
    "    lines = f.readlines()"
   ]
  },
  {
   "cell_type": "code",
   "execution_count": 2,
   "id": "60ac9b6b-9126-49e8-8916-da8e6ea81b48",
   "metadata": {},
   "outputs": [],
   "source": [
    "import pandas as pd"
   ]
  },
  {
   "cell_type": "code",
   "execution_count": 3,
   "id": "7cbe4bda-2325-4e5b-88ab-0367ae296662",
   "metadata": {},
   "outputs": [],
   "source": [
    "import numpy as np"
   ]
  },
  {
   "cell_type": "code",
   "execution_count": 4,
   "id": "94d5fc44-6716-4116-963a-977d531d37d9",
   "metadata": {},
   "outputs": [],
   "source": [
    "import hashlib"
   ]
  },
  {
   "cell_type": "markdown",
   "id": "833ce4a5-b7ec-4859-a13e-fd2c45f56062",
   "metadata": {},
   "source": [
    "# PART 1"
   ]
  },
  {
   "cell_type": "code",
   "execution_count": 5,
   "id": "b54f82ae-ddab-4f86-a63e-5facc588e82b",
   "metadata": {},
   "outputs": [],
   "source": [
    "lines = [i.replace(\"\\n\", \"\") for i in lines]"
   ]
  },
  {
   "cell_type": "code",
   "execution_count": 6,
   "id": "4574ae40-4d46-4c13-ab37-4030f788455d",
   "metadata": {},
   "outputs": [],
   "source": [
    "df = pd.read_table('digitalcorp.txt', sep=',')"
   ]
  },
  {
   "cell_type": "code",
   "execution_count": 7,
   "id": "b4004f62-896f-4e41-bd9d-30bb2117a214",
   "metadata": {},
   "outputs": [],
   "source": [
    "passwords = list(pd.read_table('rockyou.txt', header=None)[0])"
   ]
  },
  {
   "cell_type": "code",
   "execution_count": 8,
   "id": "ee9927d9-87e6-4d44-8dd0-4c27a15959db",
   "metadata": {},
   "outputs": [],
   "source": [
    "#passwords"
   ]
  },
  {
   "cell_type": "code",
   "execution_count": 9,
   "id": "cd8bffe1-aba3-42f2-95bb-6c088dcb8a7b",
   "metadata": {},
   "outputs": [],
   "source": [
    "dc = {}\n",
    "for st in passwords:\n",
    "    inp = bytes(st, 'utf-8')\n",
    "    dc[(hashlib.sha512(inp).hexdigest())] = st"
   ]
  },
  {
   "cell_type": "code",
   "execution_count": 10,
   "id": "21057b5f-cdd4-435d-bd5a-40f12dbcbb05",
   "metadata": {},
   "outputs": [],
   "source": [
    "cracked = []\n",
    "for hashed_pw in df.hash_of_password:\n",
    "    if hashed_pw in dc:\n",
    "        cracked.append(dc[hashed_pw])"
   ]
  },
  {
   "cell_type": "code",
   "execution_count": 11,
   "id": "6bab3935-ce50-48e6-9eef-ee0fa5c7ba1f",
   "metadata": {},
   "outputs": [],
   "source": [
    "df['cracked'] = cracked"
   ]
  },
  {
   "cell_type": "code",
   "execution_count": 12,
   "id": "01b44ecf-0cbe-4087-8228-1e9f041da57e",
   "metadata": {},
   "outputs": [
    {
     "data": {
      "text/html": [
       "<div>\n",
       "<style scoped>\n",
       "    .dataframe tbody tr th:only-of-type {\n",
       "        vertical-align: middle;\n",
       "    }\n",
       "\n",
       "    .dataframe tbody tr th {\n",
       "        vertical-align: top;\n",
       "    }\n",
       "\n",
       "    .dataframe thead th {\n",
       "        text-align: right;\n",
       "    }\n",
       "</style>\n",
       "<table border=\"1\" class=\"dataframe\">\n",
       "  <thead>\n",
       "    <tr style=\"text-align: right;\">\n",
       "      <th></th>\n",
       "      <th>username</th>\n",
       "      <th>hash_of_password</th>\n",
       "      <th>cracked</th>\n",
       "    </tr>\n",
       "  </thead>\n",
       "  <tbody>\n",
       "    <tr>\n",
       "      <th>0</th>\n",
       "      <td>Creed</td>\n",
       "      <td>f286725e49415dfeb4546d96bba3dc88e9d9d096ff4e5b...</td>\n",
       "      <td>cocacola</td>\n",
       "    </tr>\n",
       "    <tr>\n",
       "      <th>1</th>\n",
       "      <td>Meredith</td>\n",
       "      <td>7f8e33ea99bca90fe54caf134c9258e160945600e06849...</td>\n",
       "      <td>50cent</td>\n",
       "    </tr>\n",
       "    <tr>\n",
       "      <th>2</th>\n",
       "      <td>Stanley</td>\n",
       "      <td>d8e44d39c4e438dc668c4e105c536a2a90630f51b4d2bf...</td>\n",
       "      <td>patrick</td>\n",
       "    </tr>\n",
       "    <tr>\n",
       "      <th>3</th>\n",
       "      <td>Phyllis</td>\n",
       "      <td>8512de11f6042ae4128256c8e6c1bfb68ee50434ab09ae...</td>\n",
       "      <td>newyork</td>\n",
       "    </tr>\n",
       "  </tbody>\n",
       "</table>\n",
       "</div>"
      ],
      "text/plain": [
       "   username                                   hash_of_password   cracked\n",
       "0     Creed  f286725e49415dfeb4546d96bba3dc88e9d9d096ff4e5b...  cocacola\n",
       "1  Meredith  7f8e33ea99bca90fe54caf134c9258e160945600e06849...    50cent\n",
       "2   Stanley  d8e44d39c4e438dc668c4e105c536a2a90630f51b4d2bf...   patrick\n",
       "3   Phyllis  8512de11f6042ae4128256c8e6c1bfb68ee50434ab09ae...   newyork"
      ]
     },
     "execution_count": 12,
     "metadata": {},
     "output_type": "execute_result"
    }
   ],
   "source": [
    "df"
   ]
  },
  {
   "cell_type": "markdown",
   "id": "7cc63dde-9dc5-4f03-b9bb-cade3acedca0",
   "metadata": {},
   "source": [
    "# PART 2"
   ]
  },
  {
   "cell_type": "code",
   "execution_count": 13,
   "id": "1ec51a4b-84e9-44e4-ac47-bd76e1b4df0c",
   "metadata": {},
   "outputs": [],
   "source": [
    "sdf = pd.read_table('salty-digitalcorp.txt', sep=',')"
   ]
  },
  {
   "cell_type": "code",
   "execution_count": 14,
   "id": "5bf5d174-9f4b-4217-8a76-866f414fff71",
   "metadata": {},
   "outputs": [
    {
     "data": {
      "text/html": [
       "<div>\n",
       "<style scoped>\n",
       "    .dataframe tbody tr th:only-of-type {\n",
       "        vertical-align: middle;\n",
       "    }\n",
       "\n",
       "    .dataframe tbody tr th {\n",
       "        vertical-align: top;\n",
       "    }\n",
       "\n",
       "    .dataframe thead th {\n",
       "        text-align: right;\n",
       "    }\n",
       "</style>\n",
       "<table border=\"1\" class=\"dataframe\">\n",
       "  <thead>\n",
       "    <tr style=\"text-align: right;\">\n",
       "      <th></th>\n",
       "      <th>username</th>\n",
       "      <th>salt</th>\n",
       "      <th>hash_outcome</th>\n",
       "    </tr>\n",
       "  </thead>\n",
       "  <tbody>\n",
       "    <tr>\n",
       "      <th>0</th>\n",
       "      <td>Kevin</td>\n",
       "      <td>6aa2bbb690bdff92</td>\n",
       "      <td>c6050538cc65f06079a3e17abe415cb31c2ef1d5c8a18d...</td>\n",
       "    </tr>\n",
       "    <tr>\n",
       "      <th>1</th>\n",
       "      <td>Angela</td>\n",
       "      <td>42ccd5c0f6455812</td>\n",
       "      <td>9cfe4177d36350de4dbacb41ec735b5e07492415e9aa62...</td>\n",
       "    </tr>\n",
       "    <tr>\n",
       "      <th>2</th>\n",
       "      <td>Oscar</td>\n",
       "      <td>d61e65884e0d3203</td>\n",
       "      <td>6be96652538e7ae4835e071e101117279c1a8e0f37a562...</td>\n",
       "    </tr>\n",
       "    <tr>\n",
       "      <th>3</th>\n",
       "      <td>Darryl</td>\n",
       "      <td>1d5dbcb692042997</td>\n",
       "      <td>cfedd51710a577ee51277cdcac2045a8483275f4b61a27...</td>\n",
       "    </tr>\n",
       "  </tbody>\n",
       "</table>\n",
       "</div>"
      ],
      "text/plain": [
       "  username              salt  \\\n",
       "0    Kevin  6aa2bbb690bdff92   \n",
       "1   Angela  42ccd5c0f6455812   \n",
       "2    Oscar  d61e65884e0d3203   \n",
       "3   Darryl  1d5dbcb692042997   \n",
       "\n",
       "                                        hash_outcome  \n",
       "0  c6050538cc65f06079a3e17abe415cb31c2ef1d5c8a18d...  \n",
       "1  9cfe4177d36350de4dbacb41ec735b5e07492415e9aa62...  \n",
       "2  6be96652538e7ae4835e071e101117279c1a8e0f37a562...  \n",
       "3  cfedd51710a577ee51277cdcac2045a8483275f4b61a27...  "
      ]
     },
     "execution_count": 14,
     "metadata": {},
     "output_type": "execute_result"
    }
   ],
   "source": [
    "sdf"
   ]
  },
  {
   "cell_type": "code",
   "execution_count": 15,
   "id": "7acb727a-e374-40ac-ab30-51fb8a03d755",
   "metadata": {},
   "outputs": [],
   "source": [
    "dcs = {}\n",
    "for i in range(len(sdf)):\n",
    "    salt = (sdf.iloc[i].salt)\n",
    "    #pw = sdf.iloc[i].hash_outcome\n",
    "    \n",
    "    for st in passwords:\n",
    "        inp = bytes(st + salt, 'utf-8')\n",
    "        inp2 = bytes(salt + st, 'utf-8')\n",
    "        dcs[(hashlib.sha512(inp).hexdigest())] = st\n",
    "        dcs[(hashlib.sha512(inp2).hexdigest())] = st"
   ]
  },
  {
   "cell_type": "code",
   "execution_count": 16,
   "id": "5fa89def-f92f-4eea-b367-49ceedbb9603",
   "metadata": {},
   "outputs": [],
   "source": [
    "cracked_salted = []\n",
    "for hashed_pw in sdf.hash_outcome:\n",
    "    if hashed_pw in dcs:\n",
    "        cracked_salted.append(dcs[hashed_pw])"
   ]
  },
  {
   "cell_type": "code",
   "execution_count": 17,
   "id": "83d85017-e9a1-44f9-bcec-bb6137ad603d",
   "metadata": {},
   "outputs": [
    {
     "data": {
      "text/plain": [
       "['tinkerbell', 'chrisbrown', 'chivas', 'eminem']"
      ]
     },
     "execution_count": 17,
     "metadata": {},
     "output_type": "execute_result"
    }
   ],
   "source": [
    "cracked_salted"
   ]
  },
  {
   "cell_type": "code",
   "execution_count": 18,
   "id": "ae39ed6c-24bd-40f9-83e2-7f6d93de2b5d",
   "metadata": {},
   "outputs": [],
   "source": [
    "sdf['cracked'] = cracked_salted"
   ]
  },
  {
   "cell_type": "code",
   "execution_count": 19,
   "id": "67897854-0c93-404a-82c9-d556c09b35d9",
   "metadata": {},
   "outputs": [
    {
     "data": {
      "text/html": [
       "<div>\n",
       "<style scoped>\n",
       "    .dataframe tbody tr th:only-of-type {\n",
       "        vertical-align: middle;\n",
       "    }\n",
       "\n",
       "    .dataframe tbody tr th {\n",
       "        vertical-align: top;\n",
       "    }\n",
       "\n",
       "    .dataframe thead th {\n",
       "        text-align: right;\n",
       "    }\n",
       "</style>\n",
       "<table border=\"1\" class=\"dataframe\">\n",
       "  <thead>\n",
       "    <tr style=\"text-align: right;\">\n",
       "      <th></th>\n",
       "      <th>username</th>\n",
       "      <th>salt</th>\n",
       "      <th>hash_outcome</th>\n",
       "      <th>cracked</th>\n",
       "    </tr>\n",
       "  </thead>\n",
       "  <tbody>\n",
       "    <tr>\n",
       "      <th>0</th>\n",
       "      <td>Kevin</td>\n",
       "      <td>6aa2bbb690bdff92</td>\n",
       "      <td>c6050538cc65f06079a3e17abe415cb31c2ef1d5c8a18d...</td>\n",
       "      <td>tinkerbell</td>\n",
       "    </tr>\n",
       "    <tr>\n",
       "      <th>1</th>\n",
       "      <td>Angela</td>\n",
       "      <td>42ccd5c0f6455812</td>\n",
       "      <td>9cfe4177d36350de4dbacb41ec735b5e07492415e9aa62...</td>\n",
       "      <td>chrisbrown</td>\n",
       "    </tr>\n",
       "    <tr>\n",
       "      <th>2</th>\n",
       "      <td>Oscar</td>\n",
       "      <td>d61e65884e0d3203</td>\n",
       "      <td>6be96652538e7ae4835e071e101117279c1a8e0f37a562...</td>\n",
       "      <td>chivas</td>\n",
       "    </tr>\n",
       "    <tr>\n",
       "      <th>3</th>\n",
       "      <td>Darryl</td>\n",
       "      <td>1d5dbcb692042997</td>\n",
       "      <td>cfedd51710a577ee51277cdcac2045a8483275f4b61a27...</td>\n",
       "      <td>eminem</td>\n",
       "    </tr>\n",
       "  </tbody>\n",
       "</table>\n",
       "</div>"
      ],
      "text/plain": [
       "  username              salt  \\\n",
       "0    Kevin  6aa2bbb690bdff92   \n",
       "1   Angela  42ccd5c0f6455812   \n",
       "2    Oscar  d61e65884e0d3203   \n",
       "3   Darryl  1d5dbcb692042997   \n",
       "\n",
       "                                        hash_outcome     cracked  \n",
       "0  c6050538cc65f06079a3e17abe415cb31c2ef1d5c8a18d...  tinkerbell  \n",
       "1  9cfe4177d36350de4dbacb41ec735b5e07492415e9aa62...  chrisbrown  \n",
       "2  6be96652538e7ae4835e071e101117279c1a8e0f37a562...      chivas  \n",
       "3  cfedd51710a577ee51277cdcac2045a8483275f4b61a27...      eminem  "
      ]
     },
     "execution_count": 19,
     "metadata": {},
     "output_type": "execute_result"
    }
   ],
   "source": [
    "sdf"
   ]
  },
  {
   "cell_type": "code",
   "execution_count": null,
   "id": "c40b1bf2-598f-4988-ad55-dc11796f9ef6",
   "metadata": {},
   "outputs": [],
   "source": []
  },
  {
   "cell_type": "markdown",
   "id": "c869af20-81cb-4ad5-aa98-0d79bb53d227",
   "metadata": {},
   "source": [
    "# PART 3"
   ]
  },
  {
   "cell_type": "code",
   "execution_count": 20,
   "id": "c821e0f6-0e58-48cd-91e8-aaf57bae6031",
   "metadata": {},
   "outputs": [],
   "source": [
    "kdf = pd.read_table('keystreching-digitalcorp.txt', sep=',')"
   ]
  },
  {
   "cell_type": "code",
   "execution_count": 21,
   "id": "7ee853bd-2f90-4a75-83a3-79de509adb90",
   "metadata": {},
   "outputs": [
    {
     "data": {
      "text/html": [
       "<div>\n",
       "<style scoped>\n",
       "    .dataframe tbody tr th:only-of-type {\n",
       "        vertical-align: middle;\n",
       "    }\n",
       "\n",
       "    .dataframe tbody tr th {\n",
       "        vertical-align: top;\n",
       "    }\n",
       "\n",
       "    .dataframe thead th {\n",
       "        text-align: right;\n",
       "    }\n",
       "</style>\n",
       "<table border=\"1\" class=\"dataframe\">\n",
       "  <thead>\n",
       "    <tr style=\"text-align: right;\">\n",
       "      <th></th>\n",
       "      <th>username</th>\n",
       "      <th>salt</th>\n",
       "      <th>hash_outcome</th>\n",
       "    </tr>\n",
       "  </thead>\n",
       "  <tbody>\n",
       "    <tr>\n",
       "      <th>0</th>\n",
       "      <td>Jim</td>\n",
       "      <td>6aa2bbb690bdff01</td>\n",
       "      <td>3b3a82652d9f3a5a3ed894665f106ffe36b845490d588d...</td>\n",
       "    </tr>\n",
       "    <tr>\n",
       "      <th>1</th>\n",
       "      <td>Pam</td>\n",
       "      <td>42ccd5c0f6455810</td>\n",
       "      <td>817367d6e9b8e4219fa5c78d85ca75e9ed1dc6f64eb747...</td>\n",
       "    </tr>\n",
       "    <tr>\n",
       "      <th>2</th>\n",
       "      <td>Dwight</td>\n",
       "      <td>d61e65884e0d3299</td>\n",
       "      <td>483075aa9c8b9298eb882d22c4a54bd522f8694d44b91f...</td>\n",
       "    </tr>\n",
       "    <tr>\n",
       "      <th>3</th>\n",
       "      <td>Michael</td>\n",
       "      <td>1d5dbcb692042924</td>\n",
       "      <td>3e4d009b62c74dd4a14085deb5463bec3b7f8cf2ed3a38...</td>\n",
       "    </tr>\n",
       "  </tbody>\n",
       "</table>\n",
       "</div>"
      ],
      "text/plain": [
       "  username              salt  \\\n",
       "0      Jim  6aa2bbb690bdff01   \n",
       "1      Pam  42ccd5c0f6455810   \n",
       "2   Dwight  d61e65884e0d3299   \n",
       "3  Michael  1d5dbcb692042924   \n",
       "\n",
       "                                        hash_outcome  \n",
       "0  3b3a82652d9f3a5a3ed894665f106ffe36b845490d588d...  \n",
       "1  817367d6e9b8e4219fa5c78d85ca75e9ed1dc6f64eb747...  \n",
       "2  483075aa9c8b9298eb882d22c4a54bd522f8694d44b91f...  \n",
       "3  3e4d009b62c74dd4a14085deb5463bec3b7f8cf2ed3a38...  "
      ]
     },
     "execution_count": 21,
     "metadata": {},
     "output_type": "execute_result"
    }
   ],
   "source": [
    "kdf"
   ]
  },
  {
   "cell_type": "code",
   "execution_count": 22,
   "id": "e38e2ef5-25aa-4343-b31d-749d16eb754b",
   "metadata": {},
   "outputs": [],
   "source": [
    "salt = kdf.salt.iloc[0] #Jim"
   ]
  },
  {
   "cell_type": "code",
   "execution_count": 23,
   "id": "baf62ba7-8a29-4788-a558-4011d979fa6c",
   "metadata": {},
   "outputs": [],
   "source": [
    "def crack_with_salt(salt):\n",
    "    xi = ''\n",
    "    exp_ls = []\n",
    "    dict_2000 = {}\n",
    "\n",
    "    for pw in passwords:\n",
    "        xi = ''\n",
    "        xi1 = ''\n",
    "        xi2 = ''\n",
    "        xi3 = ''\n",
    "\n",
    "        exp_ls = []\n",
    "        for i in range(2000): #TODO: change\n",
    "            xi = bytes(xi + salt + pw, 'utf-8') #xi + pw + salt #pw + salt + xi #xi + salt + pw #xi + salt + pw\n",
    "            #xi + pw + salt, xi + salt + pw, pw + salt + xi, \n",
    "            xi = hashlib.sha512(xi).hexdigest()\n",
    "            exp_ls.append(xi)\n",
    "\n",
    "            xi1 = bytes(pw + xi1 + salt, 'utf-8')\n",
    "            xi1 = hashlib.sha512(xi1).hexdigest()\n",
    "            exp_ls.append(xi1)\n",
    "\n",
    "            #xi2 = bytes(xi2 + salt + pw, 'utf-8')\n",
    "            #xi2 = hashlib.sha512(xi2).hexdigest()\n",
    "            #exp_ls.append(xi2)\n",
    "\n",
    "            xi3 = bytes(salt + xi3 + pw, 'utf-8')\n",
    "            xi3 = hashlib.sha512(xi3).hexdigest()\n",
    "            exp_ls.append(xi3)\n",
    "\n",
    "\n",
    "        dict_2000[pw] = exp_ls\n",
    "    \n",
    "    crack_list_2000 = []\n",
    "    key = ''\n",
    "\n",
    "    for hashed in kdf.hash_outcome:\n",
    "        for key in dict_2000:\n",
    "            cur_ls = dict_2000[key]\n",
    "\n",
    "            if hashed in cur_ls:\n",
    "                crack_list_2000.append(key)\n",
    "                return key\n",
    "    return key"
   ]
  },
  {
   "cell_type": "code",
   "execution_count": 24,
   "id": "7494d8f7-0f30-414e-a9d7-97cc90785140",
   "metadata": {},
   "outputs": [],
   "source": [
    "cracked_list_p3 = []\n",
    "\n",
    "for salt in kdf.salt.iloc[:]:\n",
    "    cr = crack_with_salt(salt)\n",
    "    cracked_list_p3.append(cr)"
   ]
  },
  {
   "cell_type": "code",
   "execution_count": 25,
   "id": "208278ad-1abe-4d59-a208-1252fea9704b",
   "metadata": {},
   "outputs": [
    {
     "data": {
      "text/plain": [
       "['hottie', 'cutiepie', 'angelica', 'superstar']"
      ]
     },
     "execution_count": 25,
     "metadata": {},
     "output_type": "execute_result"
    }
   ],
   "source": [
    "cracked_list_p3"
   ]
  },
  {
   "cell_type": "code",
   "execution_count": 26,
   "id": "2722d9f2-9827-4761-a977-ebb651024a67",
   "metadata": {},
   "outputs": [],
   "source": [
    "kdf['cracked'] = cracked_list_p3"
   ]
  },
  {
   "cell_type": "code",
   "execution_count": 27,
   "id": "b213001b-c8ff-446f-b072-bdef443081ba",
   "metadata": {},
   "outputs": [
    {
     "data": {
      "text/plain": [
       "'crack_list_2000 = []\\n\\nfor hashed in kdf.hash_outcome:\\n    for key in dict_2000:\\n        cur_ls = dict_2000[key]\\n        \\n        if hashed in cur_ls:\\n            crack_list_2000.append(key)\\n    '"
      ]
     },
     "execution_count": 27,
     "metadata": {},
     "output_type": "execute_result"
    }
   ],
   "source": [
    "'''crack_list_2000 = []\n",
    "\n",
    "for hashed in kdf.hash_outcome:\n",
    "    for key in dict_2000:\n",
    "        cur_ls = dict_2000[key]\n",
    "        \n",
    "        if hashed in cur_ls:\n",
    "            crack_list_2000.append(key)\n",
    "    '''"
   ]
  },
  {
   "cell_type": "code",
   "execution_count": 28,
   "id": "94c63298-32d2-4a2e-9e1b-ba1c3c3584bc",
   "metadata": {},
   "outputs": [
    {
     "data": {
      "text/html": [
       "<div>\n",
       "<style scoped>\n",
       "    .dataframe tbody tr th:only-of-type {\n",
       "        vertical-align: middle;\n",
       "    }\n",
       "\n",
       "    .dataframe tbody tr th {\n",
       "        vertical-align: top;\n",
       "    }\n",
       "\n",
       "    .dataframe thead th {\n",
       "        text-align: right;\n",
       "    }\n",
       "</style>\n",
       "<table border=\"1\" class=\"dataframe\">\n",
       "  <thead>\n",
       "    <tr style=\"text-align: right;\">\n",
       "      <th></th>\n",
       "      <th>username</th>\n",
       "      <th>salt</th>\n",
       "      <th>hash_outcome</th>\n",
       "      <th>cracked</th>\n",
       "    </tr>\n",
       "  </thead>\n",
       "  <tbody>\n",
       "    <tr>\n",
       "      <th>0</th>\n",
       "      <td>Jim</td>\n",
       "      <td>6aa2bbb690bdff01</td>\n",
       "      <td>3b3a82652d9f3a5a3ed894665f106ffe36b845490d588d...</td>\n",
       "      <td>hottie</td>\n",
       "    </tr>\n",
       "    <tr>\n",
       "      <th>1</th>\n",
       "      <td>Pam</td>\n",
       "      <td>42ccd5c0f6455810</td>\n",
       "      <td>817367d6e9b8e4219fa5c78d85ca75e9ed1dc6f64eb747...</td>\n",
       "      <td>cutiepie</td>\n",
       "    </tr>\n",
       "    <tr>\n",
       "      <th>2</th>\n",
       "      <td>Dwight</td>\n",
       "      <td>d61e65884e0d3299</td>\n",
       "      <td>483075aa9c8b9298eb882d22c4a54bd522f8694d44b91f...</td>\n",
       "      <td>angelica</td>\n",
       "    </tr>\n",
       "    <tr>\n",
       "      <th>3</th>\n",
       "      <td>Michael</td>\n",
       "      <td>1d5dbcb692042924</td>\n",
       "      <td>3e4d009b62c74dd4a14085deb5463bec3b7f8cf2ed3a38...</td>\n",
       "      <td>superstar</td>\n",
       "    </tr>\n",
       "  </tbody>\n",
       "</table>\n",
       "</div>"
      ],
      "text/plain": [
       "  username              salt  \\\n",
       "0      Jim  6aa2bbb690bdff01   \n",
       "1      Pam  42ccd5c0f6455810   \n",
       "2   Dwight  d61e65884e0d3299   \n",
       "3  Michael  1d5dbcb692042924   \n",
       "\n",
       "                                        hash_outcome    cracked  \n",
       "0  3b3a82652d9f3a5a3ed894665f106ffe36b845490d588d...     hottie  \n",
       "1  817367d6e9b8e4219fa5c78d85ca75e9ed1dc6f64eb747...   cutiepie  \n",
       "2  483075aa9c8b9298eb882d22c4a54bd522f8694d44b91f...   angelica  \n",
       "3  3e4d009b62c74dd4a14085deb5463bec3b7f8cf2ed3a38...  superstar  "
      ]
     },
     "execution_count": 28,
     "metadata": {},
     "output_type": "execute_result"
    }
   ],
   "source": [
    "kdf"
   ]
  },
  {
   "cell_type": "code",
   "execution_count": null,
   "id": "77ecc28d-2809-4f06-b924-8e08b017824d",
   "metadata": {},
   "outputs": [],
   "source": []
  }
 ],
 "metadata": {
  "kernelspec": {
   "display_name": "Python 3 (ipykernel)",
   "language": "python",
   "name": "python3"
  },
  "language_info": {
   "codemirror_mode": {
    "name": "ipython",
    "version": 3
   },
   "file_extension": ".py",
   "mimetype": "text/x-python",
   "name": "python",
   "nbconvert_exporter": "python",
   "pygments_lexer": "ipython3",
   "version": "3.8.13"
  }
 },
 "nbformat": 4,
 "nbformat_minor": 5
}
