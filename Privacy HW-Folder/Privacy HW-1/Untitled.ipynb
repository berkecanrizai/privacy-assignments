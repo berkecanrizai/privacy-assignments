{
 "cells": [
  {
   "cell_type": "code",
   "execution_count": 28,
   "id": "c47556b3-3150-47f6-8234-7093a2a4a248",
   "metadata": {},
   "outputs": [
    {
     "name": "stdout",
     "output_type": "stream",
     "text": [
      "Usage: python3 /Users/berke/opt/anaconda3/envs/market-courier-assignment/lib/python3.8/site-packages/ipykernel_launcher.py algorithm DGH-folder raw-dataset.csv anonymized.csv k seed(for random only)\n",
      "\tWhere algorithm is one of [clustering, random, bottomup]\n"
     ]
    },
    {
     "ename": "SystemExit",
     "evalue": "1",
     "output_type": "error",
     "traceback": [
      "An exception has occurred, use %tb to see the full traceback.\n",
      "\u001b[0;31mSystemExit\u001b[0m\u001b[0;31m:\u001b[0m 1\n"
     ]
    },
    {
     "name": "stderr",
     "output_type": "stream",
     "text": [
      "/Users/berke/opt/anaconda3/envs/market-courier-assignment/lib/python3.8/site-packages/IPython/core/interactiveshell.py:3405: UserWarning: To exit: use 'exit', 'quit', or Ctrl-D.\n",
      "  warn(\"To exit: use 'exit', 'quit', or Ctrl-D.\", stacklevel=1)\n"
     ]
    }
   ],
   "source": [
    "##############################################################################\n",
    "# This skeleton was created by Efehan Guner  (efehanguner21@ku.edu.tr)       #\n",
    "# Note: requires Python 3.5+                                                 #\n",
    "##############################################################################\n",
    "\n",
    "import csv\n",
    "from enum import unique\n",
    "import glob\n",
    "import os\n",
    "import sys\n",
    "from copy import deepcopy\n",
    "import numpy as np\n",
    "import datetime\n",
    "\n",
    "if sys.version_info[0] < 3 or sys.version_info[1] < 5:\n",
    "    sys.stdout.write(\"Requires Python 3.x.\\n\")\n",
    "    sys.exit(1)\n",
    "\n",
    "##############################################################################\n",
    "# Helper Functions                                                           #\n",
    "# These functions are provided to you as starting points. They may help your #\n",
    "# code remain structured and organized. But you are not required to use      #\n",
    "# them. You can modify them or implement your own helper functions.          #\n",
    "##############################################################################\n",
    "\n",
    "def read_dataset(dataset_file: str):\n",
    "    \"\"\" Read a dataset into a list and return.\n",
    "\n",
    "    Args:\n",
    "        dataset_file (str): path to the dataset file.\n",
    "\n",
    "    Returns:\n",
    "        list[dict]: a list of dataset rows.\n",
    "    \"\"\"\n",
    "    result = []\n",
    "    with open(dataset_file) as f:\n",
    "        records = csv.DictReader(f)\n",
    "        for row in records:\n",
    "            result.append(row)\n",
    "    return result\n",
    "\n",
    "\n",
    "def write_dataset(dataset, dataset_file: str) -> bool:\n",
    "    \"\"\" Writes a dataset to a csv file.\n",
    "\n",
    "    Args:\n",
    "        dataset: the data in list[dict] format\n",
    "        dataset_file: str, the path to the csv file\n",
    "\n",
    "    Returns:\n",
    "        bool: True if succeeds.\n",
    "    \"\"\"\n",
    "    assert len(dataset)>0, \"The anonymized dataset is empty.\"\n",
    "    keys = dataset[0].keys()\n",
    "    with open(dataset_file, 'w', newline='')  as output_file:\n",
    "        dict_writer = csv.DictWriter(output_file, keys)\n",
    "        dict_writer.writeheader()\n",
    "        dict_writer.writerows(dataset)\n",
    "    return True\n",
    "\n",
    "\n",
    "\n",
    "def read_DGH(DGH_file: str):\n",
    "    \"\"\" Reads one DGH file and returns in desired format.\n",
    "\n",
    "    Args:\n",
    "        DGH_file (str): the path to DGH file.\"\"\"\n",
    "    \n",
    "    with open(DGH_file, newline = '') as games:                                                                                          \n",
    "        game_reader = csv.reader(games, delimiter='\\t')\n",
    "        ls = [i for i in game_reader]\n",
    "    parents = dict()\n",
    "    for lis in ls:\n",
    "        for j in lis:\n",
    "            if j != '':\n",
    "                parents[j] = getParent(ls, j)\n",
    "    return parents\n",
    "    \n",
    "\n",
    "\n",
    "def read_DGHs(DGH_folder: str) -> dict:\n",
    "    \"\"\" Read all DGH files from a directory and put them into a dictionary.\n",
    "\n",
    "    Args:\n",
    "        DGH_folder (str): the path to the directory containing DGH files.\n",
    "\n",
    "    Returns:\n",
    "        dict: a dictionary where each key is attribute name and values\n",
    "            are DGHs in your desired format.\n",
    "    \"\"\"\n",
    "    DGHs = {}\n",
    "    for DGH_file in glob.glob(DGH_folder + \"/*.txt\"):\n",
    "        attribute_name = os.path.basename(DGH_file)[:-4]\n",
    "        DGHs[attribute_name] = read_DGH(DGH_file)\n",
    "\n",
    "    return DGHs\n",
    "\n",
    "\n",
    "##############################################################################\n",
    "# Mandatory Functions                                                        #\n",
    "# You need to complete these functions without changing their parameters.    #\n",
    "##############################################################################\n",
    "\n",
    "\n",
    "def cost_MD(raw_dataset_file: str, anonymized_dataset_file: str,\n",
    "    DGH_folder: str) -> float:\n",
    "    \"\"\"Calculate Distortion Metric (MD) cost between two datasets.\n",
    "\n",
    "    Args:\n",
    "        raw_dataset_file (str): the path to the raw dataset file.\n",
    "        anonymized_dataset_file (str): the path to the anonymized dataset file.\n",
    "        DGH_folder (str): the path to the DGH directory.\n",
    "\n",
    "    Returns:\n",
    "        float: the calculated cost.\n",
    "    \"\"\"\n",
    "    raw_dataset = read_dataset(raw_dataset_file)\n",
    "    anonymized_dataset = read_dataset(anonymized_dataset_file)\n",
    "    assert(len(raw_dataset)>0 and len(raw_dataset) == len(anonymized_dataset)\n",
    "        and len(raw_dataset[0]) == len(anonymized_dataset[0]))\n",
    "    DGHs = read_DGHs(DGH_folder)\n",
    "\n",
    "    #TODO: complete this function.\n",
    "    return -999\n",
    "\n",
    "\n",
    "\n",
    "def cost_LM(raw_dataset_file: str, anonymized_dataset_file: str,\n",
    "    DGH_folder: str) -> float:\n",
    "    \"\"\"Calculate Loss Metric (LM) cost between two datasets.\n",
    "\n",
    "    Args:\n",
    "        raw_dataset_file (str): the path to the raw dataset file.\n",
    "        anonymized_dataset_file (str): the path to the anonymized dataset file.\n",
    "        DGH_folder (str): the path to the DGH directory.\n",
    "\n",
    "    Returns:\n",
    "        float: the calculated cost.\n",
    "    \"\"\"\n",
    "    raw_dataset = read_dataset(raw_dataset_file)\n",
    "    anonymized_dataset = read_dataset(anonymized_dataset_file)\n",
    "    assert(len(raw_dataset)>0 and len(raw_dataset) == len(anonymized_dataset)\n",
    "        and len(raw_dataset[0]) == len(anonymized_dataset[0]))\n",
    "    DGHs = read_DGHs(DGH_folder)\n",
    "\n",
    "    #TODO: complete this function.\n",
    "    diff = 0\n",
    "    for idx, original in enumerate(raw_dataset):\n",
    "        modified = anonymized_dataset[idx]\n",
    "\n",
    "        for k in original:\n",
    "            diff += difference(DGHs, k, modified[k], original[k])\n",
    "    return diff           \n",
    "            \n",
    "\n",
    "def random_anonymizer(raw_dataset_file: str, DGH_folder: str, k: int,\n",
    "    output_file: str, s: int):\n",
    "    \"\"\" K-anonymization a dataset, given a set of DGHs and a k-anonymity param.\n",
    "\n",
    "    Args:\n",
    "        raw_dataset_file (str): the path to the raw dataset file.\n",
    "        DGH_folder (str): the path to the DGH directory.\n",
    "        k (int): k-anonymity parameter.\n",
    "        output_file (str): the path to the output dataset file.\n",
    "        s (int): seed of the randomization function\n",
    "    \"\"\"\n",
    "    raw_dataset = read_dataset(raw_dataset_file)\n",
    "    DGHs = read_DGHs(DGH_folder)    \n",
    "\n",
    "    for i in range(len(raw_dataset)): ##set indexing to not lose original places of records\n",
    "        raw_dataset[i]['index'] = i\n",
    "\n",
    "    raw_dataset = np.array(raw_dataset)\n",
    "    np.random.seed(s) ## to ensure consistency between runs\n",
    "    np.random.shuffle(raw_dataset)  ##shuffle the dataset to randomize\n",
    "\n",
    "    clusters = []\n",
    "\n",
    "    D = len(raw_dataset)\n",
    "    \n",
    "    #TODO: START WRITING YOUR CODE HERE. Do not modify code in this function above this line.\n",
    "    # Store your results in the list named \"clusters\". \n",
    "    # Order of the clusters is important. First cluster should be the first EC, second cluster second EC, ...\n",
    "    curK = 5\n",
    "    \n",
    "\n",
    "    # END OF STUDENT'S CODE. Do not modify code in this function below this line.\n",
    "\n",
    "    anonymized_dataset = [None] * D\n",
    "\n",
    "    for cluster in clusters:        #restructure according to previous indexes\n",
    "        for item in cluster:\n",
    "            anonymized_dataset[item['index']] = item\n",
    "            del item['index']\n",
    "\n",
    "    write_dataset(anonymized_dataset, output_file)\n",
    "\n",
    "\n",
    "\n",
    "def clustering_anonymizer(raw_dataset_file: str, DGH_folder: str, k: int,\n",
    "    output_file: str):\n",
    "    \"\"\" Clustering-based anonymization a dataset, given a set of DGHs.\n",
    "\n",
    "    Args:\n",
    "        raw_dataset_file (str): the path to the raw dataset file.\n",
    "        DGH_folder (str): the path to the DGH directory.\n",
    "        k (int): k-anonymity parameter.\n",
    "        output_file (str): the path to the output dataset file.\n",
    "    \"\"\"\n",
    "    raw_dataset = read_dataset(raw_dataset_file)\n",
    "    DGHs = read_DGHs(DGH_folder)\n",
    "\n",
    "    #TODO: complete this function.\n",
    "    \n",
    "    # Finally, write dataset to a file\n",
    "    #write_dataset(anonymized_dataset, output_file)\n",
    "\n",
    "\n",
    "\n",
    "def bottomup_anonymizer(raw_dataset_file: str, DGH_folder: str, k: int,\n",
    "    output_file: str):\n",
    "    \"\"\" Bottom up-based anonymization a dataset, given a set of DGHs.\n",
    "\n",
    "    Args:\n",
    "        raw_dataset_file (str): the path to the raw dataset file.\n",
    "        DGH_folder (str): the path to the DGH directory.\n",
    "        k (int): k-anonymity parameter.\n",
    "        output_file (str): the path to the output dataset file.\n",
    "    \"\"\"\n",
    "\n",
    "    raw_dataset = read_dataset(raw_dataset_file)\n",
    "    DGHs = read_DGHs(DGH_folder)\n",
    "\n",
    "    #TODO: complete this function.\n",
    "\n",
    "    # Finally, write dataset to a file\n",
    "    #write_dataset(anonymized_dataset, output_file)\n",
    "\n",
    "def difference(DGHs, k, mdf, org):\n",
    "    cost = 0\n",
    "    ne = mdf\n",
    "    while ne != org:\n",
    "        ne = getParent(DGHs[k], ne)\n",
    "        cost += 1\n",
    "    return cost\n",
    "\n",
    "def getParent(ls, name):\n",
    "    placeidx = 0\n",
    "    y = 0\n",
    "    for i in range(len(ls)):\n",
    "        littlelist = ls[i]\n",
    "        if name in littlelist:\n",
    "            placeidx = i\n",
    "            y = littlelist.index(name)\n",
    "    \n",
    "    for i in range(placeidx, -1, -1):\n",
    "        littlelist = ls[i]\n",
    "        if littlelist[y - 1] != '':\n",
    "            return littlelist[y - 1]\n",
    "        \n",
    "def read_DGH(DGH_file):\n",
    "    with open(DGH_file, newline = '') as games:                                                                                          \n",
    "        game_reader = csv.reader(games, delimiter='\\t')\n",
    "        ls = [i for i in game_reader]\n",
    "    parents = dict()\n",
    "    for lis in ls:\n",
    "        for j in lis:\n",
    "            if j != '':\n",
    "                parents[j] = getParent(ls, j)\n",
    "    return parents\n",
    "\n",
    "def countChildren(dc, name):\n",
    "    res = 0\n",
    "    for k in dc:\n",
    "        val = dc[k]\n",
    "        if val == name:\n",
    "            res += 1\n",
    "    return res\n",
    "\n",
    "# Command line argument handling and calling of respective anonymizer:\n",
    "if len(sys.argv) < 6:\n",
    "    print(f\"Usage: python3 {sys.argv[0]} algorithm DGH-folder raw-dataset.csv anonymized.csv k seed(for random only)\")\n",
    "    print(f\"\\tWhere algorithm is one of [clustering, random, bottomup]\")\n",
    "    sys.exit(1)\n",
    "\n",
    "algorithm = sys.argv[1]\n",
    "if algorithm not in ['clustering', 'random', 'bottomup']:\n",
    "    print(\"Invalid algorithm.\")\n",
    "    sys.exit(2)\n",
    "\n",
    "start_time = datetime.datetime.now() ##\n",
    "print(start_time) ##\n",
    "\n",
    "dgh_path = sys.argv[2]\n",
    "raw_file = sys.argv[3]\n",
    "anonymized_file = sys.argv[4]\n",
    "k = int(sys.argv[5])\n",
    "\n",
    "function = eval(f\"{algorithm}_anonymizer\");\n",
    "if function == random_anonymizer:\n",
    "    if len(sys.argv) < 7:\n",
    "        print(f\"Usage: python3 {sys.argv[0]} algorithm DGH-folder raw-dataset.csv anonymized.csv k seed(for random only)\")\n",
    "        print(f\"\\tWhere algorithm is one of [clustering, random, bottomup]\")\n",
    "        sys.exit(1)\n",
    "        \n",
    "    seed = int(sys.argv[6])\n",
    "    function(raw_file, dgh_path, k, anonymized_file, seed)\n",
    "else:    \n",
    "    function(raw_file, dgh_path, k, anonymized_file)\n",
    "\n",
    "cost_md = cost_MD(raw_file, anonymized_file, dgh_path)\n",
    "cost_lm = cost_LM(raw_file, anonymized_file, dgh_path)\n",
    "print (f\"Results of {k}-anonimity:\\n\\tCost_MD: {cost_md}\\n\\tCost_LM: {cost_lm}\\n\")\n",
    "\n",
    "end_time = datetime.datetime.now() ##\n",
    "print(end_time) ##\n",
    "print(end_time - start_time)  ##\n",
    "\n",
    "# Sample usage:\n",
    "# python3 code.py clustering DGHs/ adult-hw1.csv result.csv 300 5"
   ]
  },
  {
   "cell_type": "code",
   "execution_count": 3,
   "id": "da967fd2-1fa4-450e-962b-3313704fd458",
   "metadata": {},
   "outputs": [
    {
     "ename": "NameError",
     "evalue": "name 'raw_dataset_file' is not defined",
     "output_type": "error",
     "traceback": [
      "\u001b[0;31m---------------------------------------------------------------------------\u001b[0m",
      "\u001b[0;31mNameError\u001b[0m                                 Traceback (most recent call last)",
      "Input \u001b[0;32mIn [3]\u001b[0m, in \u001b[0;36m<cell line: 1>\u001b[0;34m()\u001b[0m\n\u001b[0;32m----> 1\u001b[0m raw_dataset \u001b[38;5;241m=\u001b[39m read_dataset(\u001b[43mraw_dataset_file\u001b[49m)\n\u001b[1;32m      2\u001b[0m anonymized_dataset \u001b[38;5;241m=\u001b[39m read_dataset(anonymized_dataset_file)\n\u001b[1;32m      3\u001b[0m \u001b[38;5;28;01massert\u001b[39;00m(\u001b[38;5;28mlen\u001b[39m(raw_dataset)\u001b[38;5;241m>\u001b[39m\u001b[38;5;241m0\u001b[39m \u001b[38;5;129;01mand\u001b[39;00m \u001b[38;5;28mlen\u001b[39m(raw_dataset) \u001b[38;5;241m==\u001b[39m \u001b[38;5;28mlen\u001b[39m(anonymized_dataset)\n\u001b[1;32m      4\u001b[0m     \u001b[38;5;129;01mand\u001b[39;00m \u001b[38;5;28mlen\u001b[39m(raw_dataset[\u001b[38;5;241m0\u001b[39m]) \u001b[38;5;241m==\u001b[39m \u001b[38;5;28mlen\u001b[39m(anonymized_dataset[\u001b[38;5;241m0\u001b[39m]))\n",
      "\u001b[0;31mNameError\u001b[0m: name 'raw_dataset_file' is not defined"
     ]
    }
   ],
   "source": [
    "raw_dataset = read_dataset(raw_dataset_file)\n",
    "anonymized_dataset = read_dataset(anonymized_dataset_file)\n",
    "assert(len(raw_dataset)>0 and len(raw_dataset) == len(anonymized_dataset)\n",
    "    and len(raw_dataset[0]) == len(anonymized_dataset[0]))\n",
    "DGHs = read_DGHs(DGH_folder)"
   ]
  },
  {
   "cell_type": "code",
   "execution_count": 4,
   "id": "57beec38-5737-424e-83a1-b1b692b4854e",
   "metadata": {},
   "outputs": [],
   "source": [
    "import pandas as pd"
   ]
  },
  {
   "cell_type": "code",
   "execution_count": 5,
   "id": "947b2f24-40d2-4713-a600-b78540870747",
   "metadata": {},
   "outputs": [],
   "source": [
    "raw_dataset = read_dataset('adult-hw1.csv')"
   ]
  },
  {
   "cell_type": "code",
   "execution_count": 6,
   "id": "4e12f1ed-e9e1-4704-87b5-5db2b8a40e70",
   "metadata": {},
   "outputs": [],
   "source": [
    "df = pd.DataFrame(raw_dataset)"
   ]
  },
  {
   "cell_type": "code",
   "execution_count": 7,
   "id": "527b591b-c9c9-4e06-b727-5001cad6af65",
   "metadata": {},
   "outputs": [
    {
     "data": {
      "text/html": [
       "<div>\n",
       "<style scoped>\n",
       "    .dataframe tbody tr th:only-of-type {\n",
       "        vertical-align: middle;\n",
       "    }\n",
       "\n",
       "    .dataframe tbody tr th {\n",
       "        vertical-align: top;\n",
       "    }\n",
       "\n",
       "    .dataframe thead th {\n",
       "        text-align: right;\n",
       "    }\n",
       "</style>\n",
       "<table border=\"1\" class=\"dataframe\">\n",
       "  <thead>\n",
       "    <tr style=\"text-align: right;\">\n",
       "      <th></th>\n",
       "      <th>age</th>\n",
       "      <th>workclass</th>\n",
       "      <th>education</th>\n",
       "      <th>marital-status</th>\n",
       "      <th>occupation</th>\n",
       "      <th>relationship</th>\n",
       "      <th>gender</th>\n",
       "      <th>native-country</th>\n",
       "      <th>income</th>\n",
       "    </tr>\n",
       "  </thead>\n",
       "  <tbody>\n",
       "    <tr>\n",
       "      <th>0</th>\n",
       "      <td>27</td>\n",
       "      <td>Private</td>\n",
       "      <td>Bachelors</td>\n",
       "      <td>Married-civ-spouse</td>\n",
       "      <td>Tech-support</td>\n",
       "      <td>Husband</td>\n",
       "      <td>Male</td>\n",
       "      <td>India</td>\n",
       "      <td>&gt;50K</td>\n",
       "    </tr>\n",
       "    <tr>\n",
       "      <th>1</th>\n",
       "      <td>64</td>\n",
       "      <td>Private</td>\n",
       "      <td>HS-grad</td>\n",
       "      <td>Widowed</td>\n",
       "      <td>Adm-clerical</td>\n",
       "      <td>Unmarried</td>\n",
       "      <td>Female</td>\n",
       "      <td>United-States</td>\n",
       "      <td>&lt;=50K</td>\n",
       "    </tr>\n",
       "    <tr>\n",
       "      <th>2</th>\n",
       "      <td>49</td>\n",
       "      <td>Private</td>\n",
       "      <td>11th</td>\n",
       "      <td>Never-married</td>\n",
       "      <td>Other-service</td>\n",
       "      <td>Not-in-family</td>\n",
       "      <td>Male</td>\n",
       "      <td>United-States</td>\n",
       "      <td>&lt;=50K</td>\n",
       "    </tr>\n",
       "    <tr>\n",
       "      <th>3</th>\n",
       "      <td>45</td>\n",
       "      <td>Private</td>\n",
       "      <td>HS-grad</td>\n",
       "      <td>Married-civ-spouse</td>\n",
       "      <td>Craft-repair</td>\n",
       "      <td>Husband</td>\n",
       "      <td>Male</td>\n",
       "      <td>United-States</td>\n",
       "      <td>&lt;=50K</td>\n",
       "    </tr>\n",
       "    <tr>\n",
       "      <th>4</th>\n",
       "      <td>37</td>\n",
       "      <td>Private</td>\n",
       "      <td>Prof-school</td>\n",
       "      <td>Married-civ-spouse</td>\n",
       "      <td>Prof-specialty</td>\n",
       "      <td>Husband</td>\n",
       "      <td>Male</td>\n",
       "      <td>United-States</td>\n",
       "      <td>&gt;50K</td>\n",
       "    </tr>\n",
       "    <tr>\n",
       "      <th>...</th>\n",
       "      <td>...</td>\n",
       "      <td>...</td>\n",
       "      <td>...</td>\n",
       "      <td>...</td>\n",
       "      <td>...</td>\n",
       "      <td>...</td>\n",
       "      <td>...</td>\n",
       "      <td>...</td>\n",
       "      <td>...</td>\n",
       "    </tr>\n",
       "    <tr>\n",
       "      <th>1995</th>\n",
       "      <td>46</td>\n",
       "      <td>Private</td>\n",
       "      <td>HS-grad</td>\n",
       "      <td>Divorced</td>\n",
       "      <td>Prof-specialty</td>\n",
       "      <td>Not-in-family</td>\n",
       "      <td>Female</td>\n",
       "      <td>United-States</td>\n",
       "      <td>&lt;=50K</td>\n",
       "    </tr>\n",
       "    <tr>\n",
       "      <th>1996</th>\n",
       "      <td>46</td>\n",
       "      <td>Private</td>\n",
       "      <td>7th-8th</td>\n",
       "      <td>Never-married</td>\n",
       "      <td>Other-service</td>\n",
       "      <td>Own-child</td>\n",
       "      <td>Male</td>\n",
       "      <td>United-States</td>\n",
       "      <td>&lt;=50K</td>\n",
       "    </tr>\n",
       "    <tr>\n",
       "      <th>1997</th>\n",
       "      <td>41</td>\n",
       "      <td>Self-emp-not-inc</td>\n",
       "      <td>HS-grad</td>\n",
       "      <td>Married-civ-spouse</td>\n",
       "      <td>Farming-fishing</td>\n",
       "      <td>Husband</td>\n",
       "      <td>Male</td>\n",
       "      <td>United-States</td>\n",
       "      <td>&lt;=50K</td>\n",
       "    </tr>\n",
       "    <tr>\n",
       "      <th>1998</th>\n",
       "      <td>31</td>\n",
       "      <td>Private</td>\n",
       "      <td>HS-grad</td>\n",
       "      <td>Never-married</td>\n",
       "      <td>Adm-clerical</td>\n",
       "      <td>Own-child</td>\n",
       "      <td>Male</td>\n",
       "      <td>United-States</td>\n",
       "      <td>&lt;=50K</td>\n",
       "    </tr>\n",
       "    <tr>\n",
       "      <th>1999</th>\n",
       "      <td>51</td>\n",
       "      <td>Self-emp-inc</td>\n",
       "      <td>HS-grad</td>\n",
       "      <td>Never-married</td>\n",
       "      <td>Exec-managerial</td>\n",
       "      <td>Not-in-family</td>\n",
       "      <td>Male</td>\n",
       "      <td>United-States</td>\n",
       "      <td>&gt;50K</td>\n",
       "    </tr>\n",
       "  </tbody>\n",
       "</table>\n",
       "<p>2000 rows × 9 columns</p>\n",
       "</div>"
      ],
      "text/plain": [
       "     age         workclass    education      marital-status       occupation  \\\n",
       "0     27           Private    Bachelors  Married-civ-spouse     Tech-support   \n",
       "1     64           Private      HS-grad             Widowed     Adm-clerical   \n",
       "2     49           Private         11th       Never-married    Other-service   \n",
       "3     45           Private      HS-grad  Married-civ-spouse     Craft-repair   \n",
       "4     37           Private  Prof-school  Married-civ-spouse   Prof-specialty   \n",
       "...   ..               ...          ...                 ...              ...   \n",
       "1995  46           Private      HS-grad            Divorced   Prof-specialty   \n",
       "1996  46           Private      7th-8th       Never-married    Other-service   \n",
       "1997  41  Self-emp-not-inc      HS-grad  Married-civ-spouse  Farming-fishing   \n",
       "1998  31           Private      HS-grad       Never-married     Adm-clerical   \n",
       "1999  51      Self-emp-inc      HS-grad       Never-married  Exec-managerial   \n",
       "\n",
       "       relationship  gender native-country income  \n",
       "0           Husband    Male          India   >50K  \n",
       "1         Unmarried  Female  United-States  <=50K  \n",
       "2     Not-in-family    Male  United-States  <=50K  \n",
       "3           Husband    Male  United-States  <=50K  \n",
       "4           Husband    Male  United-States   >50K  \n",
       "...             ...     ...            ...    ...  \n",
       "1995  Not-in-family  Female  United-States  <=50K  \n",
       "1996      Own-child    Male  United-States  <=50K  \n",
       "1997        Husband    Male  United-States  <=50K  \n",
       "1998      Own-child    Male  United-States  <=50K  \n",
       "1999  Not-in-family    Male  United-States   >50K  \n",
       "\n",
       "[2000 rows x 9 columns]"
      ]
     },
     "execution_count": 7,
     "metadata": {},
     "output_type": "execute_result"
    }
   ],
   "source": [
    "df"
   ]
  },
  {
   "cell_type": "code",
   "execution_count": 12,
   "id": "064adc69-7678-4664-aba7-34e2c5b5020d",
   "metadata": {},
   "outputs": [],
   "source": [
    "raw_dataset = np.array(raw_dataset)\n",
    "np.random.seed(12) ## to ensure consistency between runs\n",
    "np.random.shuffle(raw_dataset)  ##shuffle the dataset to randomize"
   ]
  },
  {
   "cell_type": "code",
   "execution_count": 13,
   "id": "b3553174-def7-485d-afe7-4c255e907318",
   "metadata": {},
   "outputs": [
    {
     "data": {
      "text/plain": [
       "Index(['age', 'workclass', 'education', 'marital-status', 'occupation',\n",
       "       'relationship', 'gender', 'native-country'],\n",
       "      dtype='object')"
      ]
     },
     "execution_count": 13,
     "metadata": {},
     "output_type": "execute_result"
    }
   ],
   "source": [
    "pd.DataFrame(list(raw_dataset)).columns[:-1]"
   ]
  },
  {
   "cell_type": "code",
   "execution_count": 8,
   "id": "07c91b75-4a3d-4eb1-bc08-6cd417b603c2",
   "metadata": {},
   "outputs": [],
   "source": [
    "def getK(df):\n",
    "    #print(df.columns[:-1])\n",
    "    \n",
    "    mini = np.inf\n",
    "    for i, d in df.groupby(list(df.columns[:-1])):\n",
    "        #print(len(d))\n",
    "        if mini > len(d):\n",
    "            mini = len(d)\n",
    "    #print(\"kanon\", mini)\n",
    "    return mini"
   ]
  },
  {
   "cell_type": "code",
   "execution_count": 9,
   "id": "2387ebc5-a12e-4346-8352-508bc5e15636",
   "metadata": {},
   "outputs": [
    {
     "ename": "NameError",
     "evalue": "name 'DGHs' is not defined",
     "output_type": "error",
     "traceback": [
      "\u001b[0;31m---------------------------------------------------------------------------\u001b[0m",
      "\u001b[0;31mNameError\u001b[0m                                 Traceback (most recent call last)",
      "Input \u001b[0;32mIn [9]\u001b[0m, in \u001b[0;36m<cell line: 1>\u001b[0;34m()\u001b[0m\n\u001b[0;32m----> 1\u001b[0m \u001b[38;5;28;01mfor\u001b[39;00m k \u001b[38;5;129;01min\u001b[39;00m \u001b[43mDGHs\u001b[49m:\n\u001b[1;32m      2\u001b[0m     \u001b[38;5;28mprint\u001b[39m(k)\n",
      "\u001b[0;31mNameError\u001b[0m: name 'DGHs' is not defined"
     ]
    }
   ],
   "source": [
    "for k in DGHs:\n",
    "    print(k)"
   ]
  },
  {
   "cell_type": "code",
   "execution_count": 16,
   "id": "53c4d07d-548c-4e12-b6ab-da7fc9953600",
   "metadata": {},
   "outputs": [],
   "source": [
    "for i in range(0, len(df), 5):\n",
    "    curdf = (df.iloc[i: i+5])"
   ]
  },
  {
   "cell_type": "code",
   "execution_count": 17,
   "id": "f94c431a-8650-43ab-964b-55a734cecd0f",
   "metadata": {},
   "outputs": [
    {
     "data": {
      "text/plain": [
       "array(['Private', 'Self-emp-not-inc', 'Self-emp-inc'], dtype=object)"
      ]
     },
     "execution_count": 17,
     "metadata": {},
     "output_type": "execute_result"
    }
   ],
   "source": [
    "curdf['workclass'].unique()"
   ]
  },
  {
   "cell_type": "code",
   "execution_count": 182,
   "id": "b35c0ad2-f310-41e6-963e-aa0622356a24",
   "metadata": {},
   "outputs": [
    {
     "data": {
      "text/plain": [
       "{'Any': 'Any',\n",
       " 'In-family': 'Any',\n",
       " 'Wife': 'In-family',\n",
       " 'Own-child': 'In-family',\n",
       " 'Husband': 'In-family',\n",
       " 'Not-in-family': 'Any',\n",
       " 'Other-relative': 'Any',\n",
       " 'Unmarried': 'Any'}"
      ]
     },
     "execution_count": 182,
     "metadata": {},
     "output_type": "execute_result"
    }
   ],
   "source": [
    "DGHs['relationship']"
   ]
  },
  {
   "cell_type": "code",
   "execution_count": 183,
   "id": "b07ea5a2-56e3-42a8-a8e7-b4afd08b662d",
   "metadata": {},
   "outputs": [
    {
     "data": {
      "text/plain": [
       "{'Any': 'Any',\n",
       " 'Married': 'Any',\n",
       " 'Partner-present': 'Married',\n",
       " 'Married-civ-spouse': 'Partner-present',\n",
       " 'Married-AF-spouse': 'Partner-present',\n",
       " 'Partner-absent': 'Married',\n",
       " 'Divorced': 'Partner-absent',\n",
       " 'Separated': 'Partner-absent',\n",
       " 'Widowed': 'Partner-absent',\n",
       " 'Married-spouse-absent': 'Partner-absent',\n",
       " 'Never-married': 'Any'}"
      ]
     },
     "execution_count": 183,
     "metadata": {},
     "output_type": "execute_result"
    }
   ],
   "source": [
    "DGHs['marital-status']"
   ]
  },
  {
   "cell_type": "code",
   "execution_count": 184,
   "id": "3935db48-5508-4c03-9b6e-180307dab5bc",
   "metadata": {},
   "outputs": [],
   "source": [
    "mar = DGHs['marital-status']"
   ]
  },
  {
   "cell_type": "code",
   "execution_count": 186,
   "id": "a29aa5c4-087f-4d51-ac45-fcfd3b930030",
   "metadata": {},
   "outputs": [
    {
     "name": "stdout",
     "output_type": "stream",
     "text": [
      "Any\n",
      "Any\n",
      "Married\n",
      "Partner-present\n",
      "Partner-present\n",
      "Married\n",
      "Partner-absent\n",
      "Partner-absent\n",
      "Partner-absent\n",
      "Partner-absent\n",
      "Any\n"
     ]
    }
   ],
   "source": [
    "level_dict = {}\n",
    "for k, v in mar.items():\n",
    "    if v == 'Any':\n",
    "        level_dict[k] = 1\n",
    "    "
   ]
  },
  {
   "cell_type": "code",
   "execution_count": 10,
   "id": "7e302857-2a5d-4919-a9c2-f4244a677a08",
   "metadata": {},
   "outputs": [],
   "source": [
    "with open(\"DGHs/relationship.txt\", newline = '') as games:                                                                                          \n",
    "    game_reader = csv.reader(games, delimiter='\\t')\n",
    "    ls = [i for i in game_reader]"
   ]
  },
  {
   "cell_type": "code",
   "execution_count": 11,
   "id": "1bd93923-26df-4f53-aac2-09e5eea8afb8",
   "metadata": {},
   "outputs": [],
   "source": [
    "def getLevelDict(DGH_file):\n",
    "    with open(DGH_file, newline = '') as games:                                                                                          \n",
    "        game_reader = csv.reader(games, delimiter='\\t')\n",
    "        ls = [i for i in game_reader]\n",
    "    level_dict = {}\n",
    "    for l in ls:\n",
    "        count = 0\n",
    "        for c in l:\n",
    "            if c == '':\n",
    "                count += 1\n",
    "            else:\n",
    "                level_dict[c] = count\n",
    "\n",
    "    return level_dict"
   ]
  },
  {
   "cell_type": "code",
   "execution_count": null,
   "id": "a37f3f59-0590-412a-9b88-d82ea940407a",
   "metadata": {},
   "outputs": [],
   "source": []
  },
  {
   "cell_type": "code",
   "execution_count": 12,
   "id": "469eadf2-00bd-476c-bd4b-7fd5704842e0",
   "metadata": {},
   "outputs": [],
   "source": [
    "def read_DGH(DGH_file: str):\n",
    "    with open(DGH_file, newline = '') as games:                                                                                          \n",
    "        game_reader = csv.reader(games, delimiter='\\t')\n",
    "        ls = [i for i in game_reader]\n",
    "    parents = dict()\n",
    "    for lis in ls:\n",
    "        for j in lis:\n",
    "            if j != '':\n",
    "                parents[j] = getParent(ls, j)\n",
    "    return parents"
   ]
  },
  {
   "cell_type": "code",
   "execution_count": 13,
   "id": "752c748c-a326-4de4-81f4-630cb02ac9c1",
   "metadata": {},
   "outputs": [],
   "source": [
    "def getLevelDict(DGH_file):\n",
    "    with open(DGH_file, newline = '') as games:                                                                                          \n",
    "        game_reader = csv.reader(games, delimiter='\\t')\n",
    "        ls = [i for i in game_reader]\n",
    "    level_dict = {}\n",
    "    for l in ls:\n",
    "        count = 0\n",
    "        for c in l:\n",
    "            if c == '':\n",
    "                count += 1\n",
    "            else:\n",
    "                level_dict[c] = count\n",
    "\n",
    "    return level_dict\n",
    "\n",
    "def read_Levels(DGH_folder: str) -> dict:\n",
    "    DGHs = {}\n",
    "    for DGH_file in glob.glob(DGH_folder + \"/*.txt\"):\n",
    "        attribute_name = os.path.basename(DGH_file)[:-4]\n",
    "        DGHs[attribute_name] = getLevelDict(DGH_file)\n",
    "        \n",
    "    return DGHs"
   ]
  },
  {
   "cell_type": "code",
   "execution_count": 14,
   "id": "a6458ce5-cc56-4983-81b6-3d241b98f250",
   "metadata": {},
   "outputs": [],
   "source": [
    "def anonimizeDf(df, col):\n",
    "    ls = []\n",
    "    for i, d in df.groupby(list(df.columns[:-1])):\n",
    "        d[col] = DGHs[col][d[col].iloc[0]]\n",
    "        ls.append(d)\n",
    "    return pd.concat(ls)"
   ]
  },
  {
   "cell_type": "code",
   "execution_count": 15,
   "id": "4adb59aa-8cff-4e19-ab4a-508a4543cf49",
   "metadata": {},
   "outputs": [
    {
     "data": {
      "text/plain": [
       "0       27\n",
       "1       64\n",
       "2       49\n",
       "3       45\n",
       "4       37\n",
       "        ..\n",
       "1995    46\n",
       "1996    46\n",
       "1997    41\n",
       "1998    31\n",
       "1999    51\n",
       "Name: age, Length: 2000, dtype: object"
      ]
     },
     "execution_count": 15,
     "metadata": {},
     "output_type": "execute_result"
    }
   ],
   "source": [
    "df['age']"
   ]
  },
  {
   "cell_type": "code",
   "execution_count": 211,
   "id": "def27f67-0296-44ce-b405-6731df960a98",
   "metadata": {},
   "outputs": [
    {
     "data": {
      "text/plain": [
       "0       27\n",
       "1       64\n",
       "2       49\n",
       "3       45\n",
       "4       37\n",
       "        ..\n",
       "1995    46\n",
       "1996    46\n",
       "1997    41\n",
       "1998    31\n",
       "1999    51\n",
       "Name: age, Length: 2000, dtype: object"
      ]
     },
     "execution_count": 211,
     "metadata": {},
     "output_type": "execute_result"
    }
   ],
   "source": [
    "df['age']"
   ]
  },
  {
   "cell_type": "code",
   "execution_count": 131,
   "id": "785856b6-0951-4932-b629-61308cc2c8e4",
   "metadata": {},
   "outputs": [],
   "source": [
    "ls = []\n",
    "col = 'age'\n",
    "for i, d in df.groupby(list(df.columns[:-1])):\n",
    "    d[col] = DGHs[col][d[col].iloc[0]]\n",
    "    ls.append(d)"
   ]
  },
  {
   "cell_type": "code",
   "execution_count": 128,
   "id": "350d5fbc-32ff-428f-92b6-131de9b0caf8",
   "metadata": {},
   "outputs": [
    {
     "data": {
      "text/html": [
       "<div>\n",
       "<style scoped>\n",
       "    .dataframe tbody tr th:only-of-type {\n",
       "        vertical-align: middle;\n",
       "    }\n",
       "\n",
       "    .dataframe tbody tr th {\n",
       "        vertical-align: top;\n",
       "    }\n",
       "\n",
       "    .dataframe thead th {\n",
       "        text-align: right;\n",
       "    }\n",
       "</style>\n",
       "<table border=\"1\" class=\"dataframe\">\n",
       "  <thead>\n",
       "    <tr style=\"text-align: right;\">\n",
       "      <th></th>\n",
       "      <th>age</th>\n",
       "      <th>workclass</th>\n",
       "      <th>education</th>\n",
       "      <th>marital-status</th>\n",
       "      <th>occupation</th>\n",
       "      <th>relationship</th>\n",
       "      <th>gender</th>\n",
       "      <th>native-country</th>\n",
       "      <th>income</th>\n",
       "    </tr>\n",
       "  </thead>\n",
       "  <tbody>\n",
       "    <tr>\n",
       "      <th>59</th>\n",
       "      <td>[20,24)</td>\n",
       "      <td>Private</td>\n",
       "      <td>Bachelors</td>\n",
       "      <td>Never-married</td>\n",
       "      <td>Craft-repair</td>\n",
       "      <td>Not-in-family</td>\n",
       "      <td>Male</td>\n",
       "      <td>United-States</td>\n",
       "      <td>&gt;50K</td>\n",
       "    </tr>\n",
       "    <tr>\n",
       "      <th>70</th>\n",
       "      <td>[20,24)</td>\n",
       "      <td>Private</td>\n",
       "      <td>Bachelors</td>\n",
       "      <td>Never-married</td>\n",
       "      <td>Prof-specialty</td>\n",
       "      <td>Own-child</td>\n",
       "      <td>Male</td>\n",
       "      <td>United-States</td>\n",
       "      <td>&gt;50K</td>\n",
       "    </tr>\n",
       "    <tr>\n",
       "      <th>587</th>\n",
       "      <td>[20,24)</td>\n",
       "      <td>State-gov</td>\n",
       "      <td>Some-college</td>\n",
       "      <td>Never-married</td>\n",
       "      <td>Protective-serv</td>\n",
       "      <td>Not-in-family</td>\n",
       "      <td>Female</td>\n",
       "      <td>United-States</td>\n",
       "      <td>&gt;50K</td>\n",
       "    </tr>\n",
       "    <tr>\n",
       "      <th>417</th>\n",
       "      <td>[25,29)</td>\n",
       "      <td>Private</td>\n",
       "      <td>Bachelors</td>\n",
       "      <td>Married-civ-spouse</td>\n",
       "      <td>Prof-specialty</td>\n",
       "      <td>Wife</td>\n",
       "      <td>Female</td>\n",
       "      <td>United-States</td>\n",
       "      <td>&gt;50K</td>\n",
       "    </tr>\n",
       "    <tr>\n",
       "      <th>1552</th>\n",
       "      <td>[25,29)</td>\n",
       "      <td>Private</td>\n",
       "      <td>Bachelors</td>\n",
       "      <td>Never-married</td>\n",
       "      <td>Exec-managerial</td>\n",
       "      <td>Not-in-family</td>\n",
       "      <td>Female</td>\n",
       "      <td>United-States</td>\n",
       "      <td>&gt;50K</td>\n",
       "    </tr>\n",
       "    <tr>\n",
       "      <th>...</th>\n",
       "      <td>...</td>\n",
       "      <td>...</td>\n",
       "      <td>...</td>\n",
       "      <td>...</td>\n",
       "      <td>...</td>\n",
       "      <td>...</td>\n",
       "      <td>...</td>\n",
       "      <td>...</td>\n",
       "      <td>...</td>\n",
       "    </tr>\n",
       "    <tr>\n",
       "      <th>58</th>\n",
       "      <td>[70,74)</td>\n",
       "      <td>Private</td>\n",
       "      <td>7th-8th</td>\n",
       "      <td>Married-civ-spouse</td>\n",
       "      <td>Transport-moving</td>\n",
       "      <td>Husband</td>\n",
       "      <td>Male</td>\n",
       "      <td>United-States</td>\n",
       "      <td>&gt;50K</td>\n",
       "    </tr>\n",
       "    <tr>\n",
       "      <th>1529</th>\n",
       "      <td>[70,74)</td>\n",
       "      <td>Private</td>\n",
       "      <td>Bachelors</td>\n",
       "      <td>Divorced</td>\n",
       "      <td>Sales</td>\n",
       "      <td>Not-in-family</td>\n",
       "      <td>Female</td>\n",
       "      <td>United-States</td>\n",
       "      <td>&gt;50K</td>\n",
       "    </tr>\n",
       "    <tr>\n",
       "      <th>1939</th>\n",
       "      <td>[70,74)</td>\n",
       "      <td>Private</td>\n",
       "      <td>Bachelors</td>\n",
       "      <td>Never-married</td>\n",
       "      <td>Craft-repair</td>\n",
       "      <td>Not-in-family</td>\n",
       "      <td>Male</td>\n",
       "      <td>United-States</td>\n",
       "      <td>&gt;50K</td>\n",
       "    </tr>\n",
       "    <tr>\n",
       "      <th>1347</th>\n",
       "      <td>[70,74)</td>\n",
       "      <td>Self-emp-not-inc</td>\n",
       "      <td>Doctorate</td>\n",
       "      <td>Married-spouse-absent</td>\n",
       "      <td>Prof-specialty</td>\n",
       "      <td>Not-in-family</td>\n",
       "      <td>Male</td>\n",
       "      <td>United-States</td>\n",
       "      <td>&gt;50K</td>\n",
       "    </tr>\n",
       "    <tr>\n",
       "      <th>74</th>\n",
       "      <td>[75,79)</td>\n",
       "      <td>Private</td>\n",
       "      <td>Bachelors</td>\n",
       "      <td>Married-civ-spouse</td>\n",
       "      <td>Adm-clerical</td>\n",
       "      <td>Husband</td>\n",
       "      <td>Male</td>\n",
       "      <td>United-States</td>\n",
       "      <td>&gt;50K</td>\n",
       "    </tr>\n",
       "  </tbody>\n",
       "</table>\n",
       "<p>520 rows × 9 columns</p>\n",
       "</div>"
      ],
      "text/plain": [
       "          age         workclass     education         marital-status  \\\n",
       "59    [20,24)           Private     Bachelors          Never-married   \n",
       "70    [20,24)           Private     Bachelors          Never-married   \n",
       "587   [20,24)         State-gov  Some-college          Never-married   \n",
       "417   [25,29)           Private     Bachelors     Married-civ-spouse   \n",
       "1552  [25,29)           Private     Bachelors          Never-married   \n",
       "...       ...               ...           ...                    ...   \n",
       "58    [70,74)           Private       7th-8th     Married-civ-spouse   \n",
       "1529  [70,74)           Private     Bachelors               Divorced   \n",
       "1939  [70,74)           Private     Bachelors          Never-married   \n",
       "1347  [70,74)  Self-emp-not-inc     Doctorate  Married-spouse-absent   \n",
       "74    [75,79)           Private     Bachelors     Married-civ-spouse   \n",
       "\n",
       "            occupation   relationship  gender native-country income  \n",
       "59        Craft-repair  Not-in-family    Male  United-States   >50K  \n",
       "70      Prof-specialty      Own-child    Male  United-States   >50K  \n",
       "587    Protective-serv  Not-in-family  Female  United-States   >50K  \n",
       "417     Prof-specialty           Wife  Female  United-States   >50K  \n",
       "1552   Exec-managerial  Not-in-family  Female  United-States   >50K  \n",
       "...                ...            ...     ...            ...    ...  \n",
       "58    Transport-moving        Husband    Male  United-States   >50K  \n",
       "1529             Sales  Not-in-family  Female  United-States   >50K  \n",
       "1939      Craft-repair  Not-in-family    Male  United-States   >50K  \n",
       "1347    Prof-specialty  Not-in-family    Male  United-States   >50K  \n",
       "74        Adm-clerical        Husband    Male  United-States   >50K  \n",
       "\n",
       "[520 rows x 9 columns]"
      ]
     },
     "execution_count": 128,
     "metadata": {},
     "output_type": "execute_result"
    }
   ],
   "source": [
    "pd.concat(ls)"
   ]
  },
  {
   "cell_type": "code",
   "execution_count": 246,
   "id": "9aa7ab61-e47a-4e00-9b8b-d47b86a2e902",
   "metadata": {},
   "outputs": [],
   "source": [
    "import pickle"
   ]
  },
  {
   "cell_type": "code",
   "execution_count": 249,
   "id": "5171e4b3-ee51-40d4-b896-5649bb28e8d6",
   "metadata": {},
   "outputs": [],
   "source": [
    "del andf['level_0']"
   ]
  },
  {
   "cell_type": "code",
   "execution_count": 251,
   "id": "3c6256b3-4bdf-4f03-8553-6c6a52cce2f8",
   "metadata": {},
   "outputs": [
    {
     "data": {
      "text/plain": [
       "{'age': 'Any',\n",
       " 'workclass': 'Any',\n",
       " 'education': 'Any',\n",
       " 'marital-status': 'Any',\n",
       " 'occupation': 'Any',\n",
       " 'relationship': 'Any',\n",
       " 'gender': 'Any ',\n",
       " 'native-country': 'Any',\n",
       " 'income': '<=50K',\n",
       " 'index': 364}"
      ]
     },
     "execution_count": 251,
     "metadata": {},
     "output_type": "execute_result"
    }
   ],
   "source": [
    "andf.iloc[0].to_dict()"
   ]
  },
  {
   "cell_type": "code",
   "execution_count": 247,
   "id": "9a74b578-aaf5-4452-a9fd-3e3d6d3703a1",
   "metadata": {},
   "outputs": [
    {
     "ename": "ValueError",
     "evalue": "cannot insert level_0, already exists",
     "output_type": "error",
     "traceback": [
      "\u001b[0;31m---------------------------------------------------------------------------\u001b[0m",
      "\u001b[0;31mValueError\u001b[0m                                Traceback (most recent call last)",
      "Input \u001b[0;32mIn [247]\u001b[0m, in \u001b[0;36m<cell line: 3>\u001b[0;34m()\u001b[0m\n\u001b[1;32m      1\u001b[0m \u001b[38;5;28;01mwith\u001b[39;00m \u001b[38;5;28mopen\u001b[39m(\u001b[38;5;124m'\u001b[39m\u001b[38;5;124mandf.pickle\u001b[39m\u001b[38;5;124m'\u001b[39m, \u001b[38;5;124m'\u001b[39m\u001b[38;5;124mrb\u001b[39m\u001b[38;5;124m'\u001b[39m) \u001b[38;5;28;01mas\u001b[39;00m handle:\n\u001b[1;32m      2\u001b[0m     andf \u001b[38;5;241m=\u001b[39m pickle\u001b[38;5;241m.\u001b[39mload(handle)\n\u001b[0;32m----> 3\u001b[0m \u001b[43mandf\u001b[49m\u001b[38;5;241;43m.\u001b[39;49m\u001b[43mreset_index\u001b[49m\u001b[43m(\u001b[49m\u001b[43minplace\u001b[49m\u001b[38;5;241;43m=\u001b[39;49m\u001b[38;5;28;43;01mTrue\u001b[39;49;00m\u001b[43m)\u001b[49m\n",
      "File \u001b[0;32m~/opt/anaconda3/envs/market-courier-assignment/lib/python3.8/site-packages/pandas/util/_decorators.py:311\u001b[0m, in \u001b[0;36mdeprecate_nonkeyword_arguments.<locals>.decorate.<locals>.wrapper\u001b[0;34m(*args, **kwargs)\u001b[0m\n\u001b[1;32m    305\u001b[0m \u001b[38;5;28;01mif\u001b[39;00m \u001b[38;5;28mlen\u001b[39m(args) \u001b[38;5;241m>\u001b[39m num_allow_args:\n\u001b[1;32m    306\u001b[0m     warnings\u001b[38;5;241m.\u001b[39mwarn(\n\u001b[1;32m    307\u001b[0m         msg\u001b[38;5;241m.\u001b[39mformat(arguments\u001b[38;5;241m=\u001b[39marguments),\n\u001b[1;32m    308\u001b[0m         \u001b[38;5;167;01mFutureWarning\u001b[39;00m,\n\u001b[1;32m    309\u001b[0m         stacklevel\u001b[38;5;241m=\u001b[39mstacklevel,\n\u001b[1;32m    310\u001b[0m     )\n\u001b[0;32m--> 311\u001b[0m \u001b[38;5;28;01mreturn\u001b[39;00m \u001b[43mfunc\u001b[49m\u001b[43m(\u001b[49m\u001b[38;5;241;43m*\u001b[39;49m\u001b[43margs\u001b[49m\u001b[43m,\u001b[49m\u001b[43m \u001b[49m\u001b[38;5;241;43m*\u001b[39;49m\u001b[38;5;241;43m*\u001b[39;49m\u001b[43mkwargs\u001b[49m\u001b[43m)\u001b[49m\n",
      "File \u001b[0;32m~/opt/anaconda3/envs/market-courier-assignment/lib/python3.8/site-packages/pandas/core/frame.py:5839\u001b[0m, in \u001b[0;36mDataFrame.reset_index\u001b[0;34m(self, level, drop, inplace, col_level, col_fill)\u001b[0m\n\u001b[1;32m   5833\u001b[0m         \u001b[38;5;28;01mif\u001b[39;00m lab \u001b[38;5;129;01mis\u001b[39;00m \u001b[38;5;129;01mnot\u001b[39;00m \u001b[38;5;28;01mNone\u001b[39;00m:\n\u001b[1;32m   5834\u001b[0m             \u001b[38;5;66;03m# if we have the codes, extract the values with a mask\u001b[39;00m\n\u001b[1;32m   5835\u001b[0m             level_values \u001b[38;5;241m=\u001b[39m algorithms\u001b[38;5;241m.\u001b[39mtake(\n\u001b[1;32m   5836\u001b[0m                 level_values, lab, allow_fill\u001b[38;5;241m=\u001b[39m\u001b[38;5;28;01mTrue\u001b[39;00m, fill_value\u001b[38;5;241m=\u001b[39mlev\u001b[38;5;241m.\u001b[39m_na_value\n\u001b[1;32m   5837\u001b[0m             )\n\u001b[0;32m-> 5839\u001b[0m         \u001b[43mnew_obj\u001b[49m\u001b[38;5;241;43m.\u001b[39;49m\u001b[43minsert\u001b[49m\u001b[43m(\u001b[49m\u001b[38;5;241;43m0\u001b[39;49m\u001b[43m,\u001b[49m\u001b[43m \u001b[49m\u001b[43mname\u001b[49m\u001b[43m,\u001b[49m\u001b[43m \u001b[49m\u001b[43mlevel_values\u001b[49m\u001b[43m)\u001b[49m\n\u001b[1;32m   5841\u001b[0m new_obj\u001b[38;5;241m.\u001b[39mindex \u001b[38;5;241m=\u001b[39m new_index\n\u001b[1;32m   5842\u001b[0m \u001b[38;5;28;01mif\u001b[39;00m \u001b[38;5;129;01mnot\u001b[39;00m inplace:\n",
      "File \u001b[0;32m~/opt/anaconda3/envs/market-courier-assignment/lib/python3.8/site-packages/pandas/core/frame.py:4440\u001b[0m, in \u001b[0;36mDataFrame.insert\u001b[0;34m(self, loc, column, value, allow_duplicates)\u001b[0m\n\u001b[1;32m   4434\u001b[0m     \u001b[38;5;28;01mraise\u001b[39;00m \u001b[38;5;167;01mValueError\u001b[39;00m(\n\u001b[1;32m   4435\u001b[0m         \u001b[38;5;124m\"\u001b[39m\u001b[38;5;124mCannot specify \u001b[39m\u001b[38;5;124m'\u001b[39m\u001b[38;5;124mallow_duplicates=True\u001b[39m\u001b[38;5;124m'\u001b[39m\u001b[38;5;124m when \u001b[39m\u001b[38;5;124m\"\u001b[39m\n\u001b[1;32m   4436\u001b[0m         \u001b[38;5;124m\"\u001b[39m\u001b[38;5;124m'\u001b[39m\u001b[38;5;124mself.flags.allows_duplicate_labels\u001b[39m\u001b[38;5;124m'\u001b[39m\u001b[38;5;124m is False.\u001b[39m\u001b[38;5;124m\"\u001b[39m\n\u001b[1;32m   4437\u001b[0m     )\n\u001b[1;32m   4438\u001b[0m \u001b[38;5;28;01mif\u001b[39;00m \u001b[38;5;129;01mnot\u001b[39;00m allow_duplicates \u001b[38;5;129;01mand\u001b[39;00m column \u001b[38;5;129;01min\u001b[39;00m \u001b[38;5;28mself\u001b[39m\u001b[38;5;241m.\u001b[39mcolumns:\n\u001b[1;32m   4439\u001b[0m     \u001b[38;5;66;03m# Should this be a different kind of error??\u001b[39;00m\n\u001b[0;32m-> 4440\u001b[0m     \u001b[38;5;28;01mraise\u001b[39;00m \u001b[38;5;167;01mValueError\u001b[39;00m(\u001b[38;5;124mf\u001b[39m\u001b[38;5;124m\"\u001b[39m\u001b[38;5;124mcannot insert \u001b[39m\u001b[38;5;132;01m{\u001b[39;00mcolumn\u001b[38;5;132;01m}\u001b[39;00m\u001b[38;5;124m, already exists\u001b[39m\u001b[38;5;124m\"\u001b[39m)\n\u001b[1;32m   4441\u001b[0m \u001b[38;5;28;01mif\u001b[39;00m \u001b[38;5;129;01mnot\u001b[39;00m \u001b[38;5;28misinstance\u001b[39m(loc, \u001b[38;5;28mint\u001b[39m):\n\u001b[1;32m   4442\u001b[0m     \u001b[38;5;28;01mraise\u001b[39;00m \u001b[38;5;167;01mTypeError\u001b[39;00m(\u001b[38;5;124m\"\u001b[39m\u001b[38;5;124mloc must be int\u001b[39m\u001b[38;5;124m\"\u001b[39m)\n",
      "\u001b[0;31mValueError\u001b[0m: cannot insert level_0, already exists"
     ]
    }
   ],
   "source": [
    "with open('andf.pickle', 'rb') as handle:\n",
    "    andf = pickle.load(handle)\n",
    "andf.reset_index(inplace=True)"
   ]
  },
  {
   "cell_type": "code",
   "execution_count": 243,
   "id": "4a25dd52-c02a-4d70-9da1-5d8f05b9fece",
   "metadata": {},
   "outputs": [],
   "source": [
    "andf.reset_index(inplace=True)\n",
    "ls = []\n",
    "for i in range(len(andf)):\n",
    "    ls.append(andf.iloc[i].to_dict())"
   ]
  },
  {
   "cell_type": "code",
   "execution_count": 252,
   "id": "7a73f532-ad31-4c4f-a68a-72733e23f3ea",
   "metadata": {},
   "outputs": [],
   "source": [
    "#ls"
   ]
  },
  {
   "cell_type": "code",
   "execution_count": 241,
   "id": "ee19d89a-1e6f-4a5c-ae79-1aadb96d37f3",
   "metadata": {},
   "outputs": [],
   "source": [
    "#andf.T.to_dict()"
   ]
  },
  {
   "cell_type": "code",
   "execution_count": 223,
   "id": "d8781250-88d9-430f-a2e7-98c01b5c7d88",
   "metadata": {},
   "outputs": [],
   "source": [
    "andf.reset_index(inplace=True)"
   ]
  },
  {
   "cell_type": "code",
   "execution_count": 226,
   "id": "09d9cba5-2605-44ed-a899-1df2d523e948",
   "metadata": {},
   "outputs": [],
   "source": [
    "andf.reset_index(inplace=True)\n",
    "andf['index'] = andf['level_0']\n",
    "del andf['level_0']\n",
    "andf.set_index('index')"
   ]
  },
  {
   "cell_type": "code",
   "execution_count": 229,
   "id": "2b0d4607-b809-4bed-ad44-9da8b849ee72",
   "metadata": {},
   "outputs": [
    {
     "data": {
      "text/html": [
       "<div>\n",
       "<style scoped>\n",
       "    .dataframe tbody tr th:only-of-type {\n",
       "        vertical-align: middle;\n",
       "    }\n",
       "\n",
       "    .dataframe tbody tr th {\n",
       "        vertical-align: top;\n",
       "    }\n",
       "\n",
       "    .dataframe thead th {\n",
       "        text-align: right;\n",
       "    }\n",
       "</style>\n",
       "<table border=\"1\" class=\"dataframe\">\n",
       "  <thead>\n",
       "    <tr style=\"text-align: right;\">\n",
       "      <th></th>\n",
       "      <th>age</th>\n",
       "      <th>workclass</th>\n",
       "      <th>education</th>\n",
       "      <th>marital-status</th>\n",
       "      <th>occupation</th>\n",
       "      <th>relationship</th>\n",
       "      <th>gender</th>\n",
       "      <th>native-country</th>\n",
       "      <th>income</th>\n",
       "    </tr>\n",
       "    <tr>\n",
       "      <th>index</th>\n",
       "      <th></th>\n",
       "      <th></th>\n",
       "      <th></th>\n",
       "      <th></th>\n",
       "      <th></th>\n",
       "      <th></th>\n",
       "      <th></th>\n",
       "      <th></th>\n",
       "      <th></th>\n",
       "    </tr>\n",
       "  </thead>\n",
       "  <tbody>\n",
       "    <tr>\n",
       "      <th>1937</th>\n",
       "      <td>Any</td>\n",
       "      <td>Any</td>\n",
       "      <td>Any</td>\n",
       "      <td>Any</td>\n",
       "      <td>Any</td>\n",
       "      <td>Any</td>\n",
       "      <td>Any</td>\n",
       "      <td>Any</td>\n",
       "      <td>&lt;=50K</td>\n",
       "    </tr>\n",
       "    <tr>\n",
       "      <th>1024</th>\n",
       "      <td>Any</td>\n",
       "      <td>Any</td>\n",
       "      <td>Any</td>\n",
       "      <td>Any</td>\n",
       "      <td>Any</td>\n",
       "      <td>Any</td>\n",
       "      <td>Any</td>\n",
       "      <td>Any</td>\n",
       "      <td>&gt;50K</td>\n",
       "    </tr>\n",
       "    <tr>\n",
       "      <th>915</th>\n",
       "      <td>Any</td>\n",
       "      <td>Any</td>\n",
       "      <td>Any</td>\n",
       "      <td>Any</td>\n",
       "      <td>Any</td>\n",
       "      <td>Any</td>\n",
       "      <td>Any</td>\n",
       "      <td>Any</td>\n",
       "      <td>&lt;=50K</td>\n",
       "    </tr>\n",
       "    <tr>\n",
       "      <th>540</th>\n",
       "      <td>Any</td>\n",
       "      <td>Any</td>\n",
       "      <td>Any</td>\n",
       "      <td>Any</td>\n",
       "      <td>Any</td>\n",
       "      <td>Any</td>\n",
       "      <td>Any</td>\n",
       "      <td>Any</td>\n",
       "      <td>&lt;=50K</td>\n",
       "    </tr>\n",
       "    <tr>\n",
       "      <th>1707</th>\n",
       "      <td>Any</td>\n",
       "      <td>Any</td>\n",
       "      <td>Any</td>\n",
       "      <td>Any</td>\n",
       "      <td>Any</td>\n",
       "      <td>Any</td>\n",
       "      <td>Any</td>\n",
       "      <td>Any</td>\n",
       "      <td>&gt;50K</td>\n",
       "    </tr>\n",
       "  </tbody>\n",
       "</table>\n",
       "</div>"
      ],
      "text/plain": [
       "       age workclass education marital-status occupation relationship gender  \\\n",
       "index                                                                          \n",
       "1937   Any       Any       Any            Any        Any          Any   Any    \n",
       "1024   Any       Any       Any            Any        Any          Any   Any    \n",
       "915    Any       Any       Any            Any        Any          Any   Any    \n",
       "540    Any       Any       Any            Any        Any          Any   Any    \n",
       "1707   Any       Any       Any            Any        Any          Any   Any    \n",
       "\n",
       "      native-country income  \n",
       "index                        \n",
       "1937             Any  <=50K  \n",
       "1024             Any   >50K  \n",
       "915              Any  <=50K  \n",
       "540              Any  <=50K  \n",
       "1707             Any   >50K  "
      ]
     },
     "execution_count": 229,
     "metadata": {},
     "output_type": "execute_result"
    }
   ],
   "source": [
    "andf.set_index('index')"
   ]
  },
  {
   "cell_type": "code",
   "execution_count": 253,
   "id": "f42433d0-f980-417e-a0d7-3f8aefefd552",
   "metadata": {},
   "outputs": [],
   "source": [
    "#[andf.T.to_dict()]"
   ]
  },
  {
   "cell_type": "code",
   "execution_count": 39,
   "id": "d66f9394-80f7-47e5-911c-6e61b14e86e9",
   "metadata": {},
   "outputs": [],
   "source": []
  },
  {
   "cell_type": "code",
   "execution_count": 16,
   "id": "404cfd82-c82c-4735-ac63-7ff7310def1c",
   "metadata": {},
   "outputs": [],
   "source": [
    "def isLeaf(nd, dc):\n",
    "    return not (nd in [v for k, v in dc.items()])\n",
    "\n",
    "def countChildren(DGHs, dc, name):\n",
    "    if isLeaf(name, dc):\n",
    "        return 1\n",
    "    res = 0\n",
    "    chls = []\n",
    "    for k in dc:\n",
    "        val = dc[k]\n",
    "        if val == name:\n",
    "            chls.append(k)\n",
    "            \n",
    "    tt = 0\n",
    "    for i in chls:\n",
    "        tt += countChildren(DGHs, dc, i)\n",
    "\n",
    "    return res + tt"
   ]
  },
  {
   "cell_type": "code",
   "execution_count": 65,
   "id": "f0c977c0-3e50-4e0e-b9fe-637d361cf838",
   "metadata": {},
   "outputs": [
    {
     "data": {
      "text/plain": [
       "False"
      ]
     },
     "execution_count": 65,
     "metadata": {},
     "output_type": "execute_result"
    }
   ],
   "source": [
    "isLeaf('Married', DGHs['marital-status'], )"
   ]
  },
  {
   "cell_type": "code",
   "execution_count": 66,
   "id": "7393d68d-2463-4d0d-9c3f-50131ab41b27",
   "metadata": {},
   "outputs": [
    {
     "data": {
      "text/plain": [
       "6"
      ]
     },
     "execution_count": 66,
     "metadata": {},
     "output_type": "execute_result"
    }
   ],
   "source": [
    "countChildren(DGHs, DGHs['marital-status'], 'Married')"
   ]
  },
  {
   "cell_type": "code",
   "execution_count": 52,
   "id": "9dc0a755-b06a-468d-8472-8ff209ea3376",
   "metadata": {},
   "outputs": [
    {
     "data": {
      "text/plain": [
       "{'Any': 'Any',\n",
       " 'Married': 'Any',\n",
       " 'Partner-present': 'Married',\n",
       " 'Married-civ-spouse': 'Partner-present',\n",
       " 'Married-AF-spouse': 'Partner-present',\n",
       " 'Partner-absent': 'Married',\n",
       " 'Divorced': 'Partner-absent',\n",
       " 'Separated': 'Partner-absent',\n",
       " 'Widowed': 'Partner-absent',\n",
       " 'Married-spouse-absent': 'Partner-absent',\n",
       " 'Never-married': 'Any'}"
      ]
     },
     "execution_count": 52,
     "metadata": {},
     "output_type": "execute_result"
    }
   ],
   "source": [
    "DGHs['marital-status']"
   ]
  },
  {
   "cell_type": "code",
   "execution_count": 17,
   "id": "fd59cde0-5f22-4807-b068-ce655812048c",
   "metadata": {},
   "outputs": [],
   "source": [
    "DGHs = read_DGHs('DGHs')"
   ]
  },
  {
   "cell_type": "code",
   "execution_count": 18,
   "id": "728224df-9df2-47bd-917b-24ab6eef87a4",
   "metadata": {},
   "outputs": [],
   "source": [
    "def countChildren(dc, name):\n",
    "    res = 0\n",
    "    for k in dc:\n",
    "        val = dc[k]\n",
    "        if val == name:\n",
    "            res += 1\n",
    "    return res"
   ]
  },
  {
   "cell_type": "code",
   "execution_count": 19,
   "id": "ae58db97-33d9-40f1-96b3-ff284ec6bdd8",
   "metadata": {},
   "outputs": [
    {
     "ename": "NameError",
     "evalue": "name 'countLeaves' is not defined",
     "output_type": "error",
     "traceback": [
      "\u001b[0;31m---------------------------------------------------------------------------\u001b[0m",
      "\u001b[0;31mNameError\u001b[0m                                 Traceback (most recent call last)",
      "Input \u001b[0;32mIn [19]\u001b[0m, in \u001b[0;36m<cell line: 1>\u001b[0;34m()\u001b[0m\n\u001b[0;32m----> 1\u001b[0m \u001b[43mcountLeaves\u001b[49m(DGHs[\u001b[38;5;124m'\u001b[39m\u001b[38;5;124mmarital-status\u001b[39m\u001b[38;5;124m'\u001b[39m])\n",
      "\u001b[0;31mNameError\u001b[0m: name 'countLeaves' is not defined"
     ]
    }
   ],
   "source": [
    "countLeaves(DGHs['marital-status'])"
   ]
  },
  {
   "cell_type": "code",
   "execution_count": 20,
   "id": "01f3fa23-343c-4146-8d67-19e8cd0cbd9a",
   "metadata": {},
   "outputs": [],
   "source": [
    "def countLeaves(dc):\n",
    "    counter = {}\n",
    "    for k in dc:\n",
    "        val = dc[k]\n",
    "        counter[val] = counter.get(val, 0) + 1\n",
    "    \n",
    "    return len(set(dc) - set(counter))"
   ]
  },
  {
   "cell_type": "code",
   "execution_count": 21,
   "id": "db258650-d981-46fc-8d3e-f6d3375c2936",
   "metadata": {},
   "outputs": [
    {
     "data": {
      "text/plain": [
       "7"
      ]
     },
     "execution_count": 21,
     "metadata": {},
     "output_type": "execute_result"
    }
   ],
   "source": [
    "countLeaves(DGHs['marital-status'])"
   ]
  },
  {
   "cell_type": "code",
   "execution_count": 22,
   "id": "206c5a84-e980-400d-9ef2-95e368adf2a0",
   "metadata": {},
   "outputs": [],
   "source": [
    "def selectRecord(marks):\n",
    "    for idx, m in enumerate(marks):\n",
    "        if not m:\n",
    "            return idx\n",
    "    \n",
    "    return None\n"
   ]
  },
  {
   "cell_type": "code",
   "execution_count": 23,
   "id": "77d8142a-c851-4b32-aed2-0b1d7beb28e2",
   "metadata": {},
   "outputs": [
    {
     "ename": "NameError",
     "evalue": "name 'marks' is not defined",
     "output_type": "error",
     "traceback": [
      "\u001b[0;31m---------------------------------------------------------------------------\u001b[0m",
      "\u001b[0;31mNameError\u001b[0m                                 Traceback (most recent call last)",
      "Input \u001b[0;32mIn [23]\u001b[0m, in \u001b[0;36m<cell line: 1>\u001b[0;34m()\u001b[0m\n\u001b[0;32m----> 1\u001b[0m selectRecord(\u001b[43mmarks\u001b[49m)\n",
      "\u001b[0;31mNameError\u001b[0m: name 'marks' is not defined"
     ]
    }
   ],
   "source": [
    "selectRecord(marks)"
   ]
  },
  {
   "cell_type": "code",
   "execution_count": 271,
   "id": "18de0b63-4b37-44ec-8e20-afddbd17dbdf",
   "metadata": {},
   "outputs": [],
   "source": [
    "marks = len(df) * [False]"
   ]
  },
  {
   "cell_type": "code",
   "execution_count": null,
   "id": "83ce01fd-807e-449a-ade7-e0bf85bac292",
   "metadata": {},
   "outputs": [],
   "source": [
    "idx = selectRecord(marks)\n",
    "marks[idx] = True\n",
    "dfi = df.sort_values(list(df.columns)).iloc[idx]\n",
    "\n",
    "dists = \n",
    "for i in range(len(df)):\n",
    "    "
   ]
  },
  {
   "cell_type": "code",
   "execution_count": 433,
   "id": "6e6b620b-2911-4b8f-8168-d2698e21e61e",
   "metadata": {},
   "outputs": [
    {
     "data": {
      "text/plain": [
       "['marital-status',\n",
       " 'native-country',\n",
       " 'education',\n",
       " 'occupation',\n",
       " 'age',\n",
       " 'gender',\n",
       " 'workclass',\n",
       " 'relationship']"
      ]
     },
     "execution_count": 433,
     "metadata": {},
     "output_type": "execute_result"
    }
   ],
   "source": [
    "[i for i in levels]"
   ]
  },
  {
   "cell_type": "code",
   "execution_count": 437,
   "id": "d144a958-2a64-4726-848d-3ddef872d6dd",
   "metadata": {},
   "outputs": [],
   "source": [
    "son = []"
   ]
  },
  {
   "cell_type": "code",
   "execution_count": 450,
   "id": "4f6857b1-15ff-4d9d-a050-b9e75135e21d",
   "metadata": {},
   "outputs": [
    {
     "data": {
      "text/plain": [
       "0       2\n",
       "1       2\n",
       "2       2\n",
       "3       2\n",
       "4       2\n",
       "       ..\n",
       "1995    2\n",
       "1996    2\n",
       "1997    2\n",
       "1998    2\n",
       "1999    2\n",
       "Name: occupation, Length: 2000, dtype: int64"
      ]
     },
     "execution_count": 450,
     "metadata": {},
     "output_type": "execute_result"
    }
   ],
   "source": [
    "son[3]"
   ]
  },
  {
   "cell_type": "code",
   "execution_count": 72,
   "id": "8eda77eb-c9ce-468e-bf33-07cbc696bfbd",
   "metadata": {},
   "outputs": [
    {
     "ename": "NameError",
     "evalue": "name 'levels' is not defined",
     "output_type": "error",
     "traceback": [
      "\u001b[0;31m---------------------------------------------------------------------------\u001b[0m",
      "\u001b[0;31mNameError\u001b[0m                                 Traceback (most recent call last)",
      "Input \u001b[0;32mIn [72]\u001b[0m, in \u001b[0;36m<cell line: 2>\u001b[0;34m()\u001b[0m\n\u001b[1;32m      1\u001b[0m son \u001b[38;5;241m=\u001b[39m []\n\u001b[0;32m----> 2\u001b[0m \u001b[38;5;28;01mfor\u001b[39;00m col \u001b[38;5;129;01min\u001b[39;00m [i \u001b[38;5;28;01mfor\u001b[39;00m i \u001b[38;5;129;01min\u001b[39;00m \u001b[43mlevels\u001b[49m]:\n\u001b[1;32m      3\u001b[0m     son\u001b[38;5;241m.\u001b[39mappend(sdf[col]\u001b[38;5;241m.\u001b[39mmap(levels[col]))\n\u001b[1;32m      5\u001b[0m \u001b[38;5;28;01mfor\u001b[39;00m i \u001b[38;5;129;01min\u001b[39;00m son:\n",
      "\u001b[0;31mNameError\u001b[0m: name 'levels' is not defined"
     ]
    }
   ],
   "source": [
    "son = []\n",
    "for col in [i for i in levels]:\n",
    "    son.append(sdf[col].map(levels[col]))\n",
    "\n",
    "for i in son:\n",
    "    i.mx_level = np.max(i)\n",
    "    \n",
    "max_levels = [i.mx_level for i in son]\n",
    "\n",
    "max_levels = np.array(max_levels)"
   ]
  },
  {
   "cell_type": "code",
   "execution_count": 653,
   "id": "c0904fff-fac6-4e41-a96c-3b9f66f80141",
   "metadata": {},
   "outputs": [
    {
     "data": {
      "text/html": [
       "<div>\n",
       "<style scoped>\n",
       "    .dataframe tbody tr th:only-of-type {\n",
       "        vertical-align: middle;\n",
       "    }\n",
       "\n",
       "    .dataframe tbody tr th {\n",
       "        vertical-align: top;\n",
       "    }\n",
       "\n",
       "    .dataframe thead th {\n",
       "        text-align: right;\n",
       "    }\n",
       "</style>\n",
       "<table border=\"1\" class=\"dataframe\">\n",
       "  <thead>\n",
       "    <tr style=\"text-align: right;\">\n",
       "      <th></th>\n",
       "      <th>age</th>\n",
       "      <th>workclass</th>\n",
       "      <th>education</th>\n",
       "      <th>marital-status</th>\n",
       "      <th>occupation</th>\n",
       "      <th>relationship</th>\n",
       "      <th>gender</th>\n",
       "      <th>native-country</th>\n",
       "      <th>income</th>\n",
       "    </tr>\n",
       "  </thead>\n",
       "  <tbody>\n",
       "    <tr>\n",
       "      <th>1026</th>\n",
       "      <td>17</td>\n",
       "      <td>Private</td>\n",
       "      <td>10th</td>\n",
       "      <td>Never-married</td>\n",
       "      <td>Handlers-cleaners</td>\n",
       "      <td>Own-child</td>\n",
       "      <td>Male</td>\n",
       "      <td>United-States</td>\n",
       "      <td>&lt;=50K</td>\n",
       "    </tr>\n",
       "    <tr>\n",
       "      <th>1336</th>\n",
       "      <td>17</td>\n",
       "      <td>Private</td>\n",
       "      <td>10th</td>\n",
       "      <td>Never-married</td>\n",
       "      <td>Other-service</td>\n",
       "      <td>Not-in-family</td>\n",
       "      <td>Male</td>\n",
       "      <td>United-States</td>\n",
       "      <td>&lt;=50K</td>\n",
       "    </tr>\n",
       "    <tr>\n",
       "      <th>533</th>\n",
       "      <td>17</td>\n",
       "      <td>Private</td>\n",
       "      <td>10th</td>\n",
       "      <td>Never-married</td>\n",
       "      <td>Other-service</td>\n",
       "      <td>Own-child</td>\n",
       "      <td>Male</td>\n",
       "      <td>United-States</td>\n",
       "      <td>&lt;=50K</td>\n",
       "    </tr>\n",
       "    <tr>\n",
       "      <th>862</th>\n",
       "      <td>17</td>\n",
       "      <td>Private</td>\n",
       "      <td>10th</td>\n",
       "      <td>Never-married</td>\n",
       "      <td>Other-service</td>\n",
       "      <td>Own-child</td>\n",
       "      <td>Male</td>\n",
       "      <td>United-States</td>\n",
       "      <td>&lt;=50K</td>\n",
       "    </tr>\n",
       "    <tr>\n",
       "      <th>1977</th>\n",
       "      <td>17</td>\n",
       "      <td>Private</td>\n",
       "      <td>10th</td>\n",
       "      <td>Never-married</td>\n",
       "      <td>Other-service</td>\n",
       "      <td>Own-child</td>\n",
       "      <td>Male</td>\n",
       "      <td>United-States</td>\n",
       "      <td>&lt;=50K</td>\n",
       "    </tr>\n",
       "    <tr>\n",
       "      <th>...</th>\n",
       "      <td>...</td>\n",
       "      <td>...</td>\n",
       "      <td>...</td>\n",
       "      <td>...</td>\n",
       "      <td>...</td>\n",
       "      <td>...</td>\n",
       "      <td>...</td>\n",
       "      <td>...</td>\n",
       "      <td>...</td>\n",
       "    </tr>\n",
       "    <tr>\n",
       "      <th>1441</th>\n",
       "      <td>80</td>\n",
       "      <td>Self-emp-not-inc</td>\n",
       "      <td>7th-8th</td>\n",
       "      <td>Never-married</td>\n",
       "      <td>Farming-fishing</td>\n",
       "      <td>Unmarried</td>\n",
       "      <td>Male</td>\n",
       "      <td>United-States</td>\n",
       "      <td>&lt;=50K</td>\n",
       "    </tr>\n",
       "    <tr>\n",
       "      <th>1986</th>\n",
       "      <td>81</td>\n",
       "      <td>Self-emp-not-inc</td>\n",
       "      <td>7th-8th</td>\n",
       "      <td>Married-civ-spouse</td>\n",
       "      <td>Farming-fishing</td>\n",
       "      <td>Husband</td>\n",
       "      <td>Male</td>\n",
       "      <td>United-States</td>\n",
       "      <td>&lt;=50K</td>\n",
       "    </tr>\n",
       "    <tr>\n",
       "      <th>416</th>\n",
       "      <td>83</td>\n",
       "      <td>Private</td>\n",
       "      <td>Some-college</td>\n",
       "      <td>Never-married</td>\n",
       "      <td>Exec-managerial</td>\n",
       "      <td>Not-in-family</td>\n",
       "      <td>Female</td>\n",
       "      <td>United-States</td>\n",
       "      <td>&lt;=50K</td>\n",
       "    </tr>\n",
       "    <tr>\n",
       "      <th>852</th>\n",
       "      <td>90</td>\n",
       "      <td>Private</td>\n",
       "      <td>HS-grad</td>\n",
       "      <td>Never-married</td>\n",
       "      <td>Other-service</td>\n",
       "      <td>Not-in-family</td>\n",
       "      <td>Male</td>\n",
       "      <td>United-States</td>\n",
       "      <td>&lt;=50K</td>\n",
       "    </tr>\n",
       "    <tr>\n",
       "      <th>1388</th>\n",
       "      <td>90</td>\n",
       "      <td>Self-emp-not-inc</td>\n",
       "      <td>Prof-school</td>\n",
       "      <td>Widowed</td>\n",
       "      <td>Prof-specialty</td>\n",
       "      <td>Not-in-family</td>\n",
       "      <td>Male</td>\n",
       "      <td>United-States</td>\n",
       "      <td>&lt;=50K</td>\n",
       "    </tr>\n",
       "  </tbody>\n",
       "</table>\n",
       "<p>2000 rows × 9 columns</p>\n",
       "</div>"
      ],
      "text/plain": [
       "     age         workclass     education      marital-status  \\\n",
       "1026  17           Private          10th       Never-married   \n",
       "1336  17           Private          10th       Never-married   \n",
       "533   17           Private          10th       Never-married   \n",
       "862   17           Private          10th       Never-married   \n",
       "1977  17           Private          10th       Never-married   \n",
       "...   ..               ...           ...                 ...   \n",
       "1441  80  Self-emp-not-inc       7th-8th       Never-married   \n",
       "1986  81  Self-emp-not-inc       7th-8th  Married-civ-spouse   \n",
       "416   83           Private  Some-college       Never-married   \n",
       "852   90           Private       HS-grad       Never-married   \n",
       "1388  90  Self-emp-not-inc   Prof-school             Widowed   \n",
       "\n",
       "             occupation   relationship  gender native-country income  \n",
       "1026  Handlers-cleaners      Own-child    Male  United-States  <=50K  \n",
       "1336      Other-service  Not-in-family    Male  United-States  <=50K  \n",
       "533       Other-service      Own-child    Male  United-States  <=50K  \n",
       "862       Other-service      Own-child    Male  United-States  <=50K  \n",
       "1977      Other-service      Own-child    Male  United-States  <=50K  \n",
       "...                 ...            ...     ...            ...    ...  \n",
       "1441    Farming-fishing      Unmarried    Male  United-States  <=50K  \n",
       "1986    Farming-fishing        Husband    Male  United-States  <=50K  \n",
       "416     Exec-managerial  Not-in-family  Female  United-States  <=50K  \n",
       "852       Other-service  Not-in-family    Male  United-States  <=50K  \n",
       "1388     Prof-specialty  Not-in-family    Male  United-States  <=50K  \n",
       "\n",
       "[2000 rows x 9 columns]"
      ]
     },
     "execution_count": 653,
     "metadata": {},
     "output_type": "execute_result"
    }
   ],
   "source": [
    "generalizeColumn(sdf, max_levels)"
   ]
  },
  {
   "cell_type": "code",
   "execution_count": 71,
   "id": "8992e317-a769-4c04-864a-d3aef84771b0",
   "metadata": {},
   "outputs": [
    {
     "ename": "NameError",
     "evalue": "name 'max_levels' is not defined",
     "output_type": "error",
     "traceback": [
      "\u001b[0;31m---------------------------------------------------------------------------\u001b[0m",
      "\u001b[0;31mNameError\u001b[0m                                 Traceback (most recent call last)",
      "Input \u001b[0;32mIn [71]\u001b[0m, in \u001b[0;36m<cell line: 1>\u001b[0;34m()\u001b[0m\n\u001b[0;32m----> 1\u001b[0m [i \u001b[38;5;28;01mif\u001b[39;00m i \u001b[38;5;241m>\u001b[39m \u001b[38;5;241m0\u001b[39m \u001b[38;5;28;01melse\u001b[39;00m \u001b[38;5;241m0\u001b[39m \u001b[38;5;28;01mfor\u001b[39;00m i \u001b[38;5;129;01min\u001b[39;00m \u001b[43mmax_levels\u001b[49m]\n",
      "\u001b[0;31mNameError\u001b[0m: name 'max_levels' is not defined"
     ]
    }
   ],
   "source": [
    "[i if i > 0 else 0 for i in max_levels]"
   ]
  },
  {
   "cell_type": "code",
   "execution_count": 484,
   "id": "45f03caf-54b8-4784-bab3-4e58af182468",
   "metadata": {},
   "outputs": [
    {
     "data": {
      "text/plain": [
       "False"
      ]
     },
     "execution_count": 484,
     "metadata": {},
     "output_type": "execute_result"
    }
   ],
   "source": [
    "np.all(next_level_tree == 0)"
   ]
  },
  {
   "cell_type": "code",
   "execution_count": 510,
   "id": "7674cb7d-30b9-4b08-9a8f-ef836669cc90",
   "metadata": {},
   "outputs": [],
   "source": [
    "for i in son:\n",
    "    i.mx_level = np.max(i)\n",
    "max_levels = [i.mx_level for i in son]\n",
    "max_levels = np.array(max_levels)\n",
    "all_levels = []\n",
    "\n",
    "while np.any(next_level_tree):\n",
    "    next_level_tree = []\n",
    "    for j in range(len(max_levels)):\n",
    "        next_level_tree.append([max_levels[i] - 1 if i == j and max_levels[i] > 0 else max_levels[i] for i in range(len(max_levels))])\n",
    "    \n",
    "    max_levels = np.array(max_levels)\n",
    "    max_levels -= 1\n",
    "    max_levels = [i if i > 0 else 0 for i in max_levels]\n",
    "    all_levels.append(next_level_tree)"
   ]
  },
  {
   "cell_type": "code",
   "execution_count": 511,
   "id": "793108ab-5a3c-4856-b14b-9189728755f0",
   "metadata": {},
   "outputs": [
    {
     "data": {
      "text/plain": [
       "[[0, 0, 0, 0, 0, 0, 0, 0],\n",
       " [0, 0, 0, 0, 0, 0, 0, 0],\n",
       " [0, 0, 0, 0, 0, 0, 0, 0],\n",
       " [0, 0, 0, 0, 0, 0, 0, 0],\n",
       " [0, 0, 0, 0, 0, 0, 0, 0],\n",
       " [0, 0, 0, 0, 0, 0, 0, 0],\n",
       " [0, 0, 0, 0, 0, 0, 0, 0],\n",
       " [0, 0, 0, 0, 0, 0, 0, 0]]"
      ]
     },
     "execution_count": 511,
     "metadata": {},
     "output_type": "execute_result"
    }
   ],
   "source": [
    "next_level_tree"
   ]
  },
  {
   "cell_type": "code",
   "execution_count": 644,
   "id": "7c2f5be0-3214-4594-9820-ae98ca37284a",
   "metadata": {},
   "outputs": [],
   "source": [
    "max_levels = [i.mx_level for i in son]"
   ]
  },
  {
   "cell_type": "code",
   "execution_count": 645,
   "id": "c6b28bd2-55ab-40c0-9df5-a4129713a44a",
   "metadata": {},
   "outputs": [
    {
     "data": {
      "text/plain": [
       "[array([2, 4, 4, 2, 1, 1, 2, 2]),\n",
       " array([3, 3, 4, 2, 1, 1, 2, 2]),\n",
       " array([3, 4, 3, 2, 1, 1, 2, 2]),\n",
       " array([3, 4, 4, 1, 1, 1, 2, 2]),\n",
       " array([3, 4, 4, 2, 0, 1, 2, 2]),\n",
       " array([3, 4, 4, 2, 1, 0, 2, 2]),\n",
       " array([3, 4, 4, 2, 1, 1, 1, 2]),\n",
       " array([3, 4, 4, 2, 1, 1, 2, 1])]"
      ]
     },
     "execution_count": 645,
     "metadata": {},
     "output_type": "execute_result"
    }
   ],
   "source": [
    "branchFromSingle(max_levels)"
   ]
  },
  {
   "cell_type": "code",
   "execution_count": 649,
   "id": "2517fc76-88e9-4898-96c4-f7259917d0ca",
   "metadata": {},
   "outputs": [
    {
     "data": {
      "text/plain": [
       "[array([1, 4, 3, 1, 1, 1, 2, 2]),\n",
       " array([2, 3, 3, 1, 1, 1, 2, 2]),\n",
       " array([2, 4, 2, 1, 1, 1, 2, 2]),\n",
       " array([2, 4, 3, 0, 1, 1, 2, 2]),\n",
       " array([2, 4, 3, 1, 0, 1, 2, 2]),\n",
       " array([2, 4, 3, 1, 1, 0, 2, 2]),\n",
       " array([2, 4, 3, 1, 1, 1, 1, 2]),\n",
       " array([2, 4, 3, 1, 1, 1, 2, 1])]"
      ]
     },
     "execution_count": 649,
     "metadata": {},
     "output_type": "execute_result"
    }
   ],
   "source": [
    "branchFromSingle(branchFromSingle(branchFromSingle(branchFromSingle(max_levels)[0])[2])[3])"
   ]
  },
  {
   "cell_type": "code",
   "execution_count": 24,
   "id": "bc3886a8-e3f0-4d6d-9b80-aecaa70a2093",
   "metadata": {},
   "outputs": [
    {
     "ename": "SyntaxError",
     "evalue": "invalid syntax (1973136908.py, line 10)",
     "output_type": "error",
     "traceback": [
      "\u001b[0;36m  Input \u001b[0;32mIn [24]\u001b[0;36m\u001b[0m\n\u001b[0;31m    while not mapped_levels_df\u001b[0m\n\u001b[0m                               ^\u001b[0m\n\u001b[0;31mSyntaxError\u001b[0m\u001b[0;31m:\u001b[0m invalid syntax\n"
     ]
    }
   ],
   "source": [
    "def generalizeColumn(sdf, target_arr):\n",
    "    xdf = deepcopy(sdf)\n",
    "\n",
    "    for ix, col in enumerate(levels):\n",
    "        mapped_levels_df = xdf[col].map(levels[col])\n",
    "        change_indexes = mapped_levels_df.index[mapped_levels_df > target_arr[ix]].tolist()\n",
    "\n",
    "        xdf[col].loc[change_indexes] = xdf.loc[change_indexes][col].map(DGHs[col])\n",
    "        \n",
    "    while not mapped_levels_df \n",
    "    \n",
    "    return xdf"
   ]
  },
  {
   "cell_type": "code",
   "execution_count": 25,
   "id": "1036447f-bfb2-4583-8acf-2cd355df8a21",
   "metadata": {},
   "outputs": [
    {
     "ename": "NameError",
     "evalue": "name 'sdf' is not defined",
     "output_type": "error",
     "traceback": [
      "\u001b[0;31m---------------------------------------------------------------------------\u001b[0m",
      "\u001b[0;31mNameError\u001b[0m                                 Traceback (most recent call last)",
      "Input \u001b[0;32mIn [25]\u001b[0m, in \u001b[0;36m<cell line: 14>\u001b[0;34m()\u001b[0m\n\u001b[1;32m      1\u001b[0m \u001b[38;5;124;03m\"\"\"def generalizeColumn(sdf, target_arr, levels):\u001b[39;00m\n\u001b[1;32m      2\u001b[0m \u001b[38;5;124;03m    xdf = deepcopy(sdf)\u001b[39;00m\n\u001b[1;32m      3\u001b[0m \n\u001b[0;32m   (...)\u001b[0m\n\u001b[1;32m     11\u001b[0m \u001b[38;5;124;03m    \u001b[39;00m\n\u001b[1;32m     12\u001b[0m \u001b[38;5;124;03m    return xdf\"\"\"\u001b[39;00m\n\u001b[0;32m---> 14\u001b[0m xdf \u001b[38;5;241m=\u001b[39m deepcopy(\u001b[43msdf\u001b[49m)\n\u001b[1;32m     16\u001b[0m \u001b[38;5;28;01mdef\u001b[39;00m \u001b[38;5;21mgeneralizeColumn\u001b[39m(sdf, target_arr, levels):\n\u001b[1;32m     17\u001b[0m     \u001b[38;5;28;01mfor\u001b[39;00m ix, col \u001b[38;5;129;01min\u001b[39;00m \u001b[38;5;28menumerate\u001b[39m(levels):\n",
      "\u001b[0;31mNameError\u001b[0m: name 'sdf' is not defined"
     ]
    }
   ],
   "source": [
    "\"\"\"def generalizeColumn(sdf, target_arr, levels):\n",
    "    xdf = deepcopy(sdf)\n",
    "\n",
    "    for ix, col in enumerate(levels):\n",
    "        mapped_levels_df = xdf[col].map(levels[col])\n",
    "        change_indexes = mapped_levels_df.index[mapped_levels_df > target_arr[ix]].tolist()\n",
    "\n",
    "        xdf[col].loc[change_indexes] = xdf.loc[change_indexes][col].map(DGHs[col])\n",
    "        \n",
    "    while not mapped_levels_df \n",
    "    \n",
    "    return xdf\"\"\"\n",
    "\n",
    "xdf = deepcopy(sdf)\n",
    "\n",
    "def generalizeColumn(sdf, target_arr, levels):\n",
    "    for ix, col in enumerate(levels):\n",
    "        mapped_levels_df = xdf[col].map(levels[col])\n",
    "        change_indexes = mapped_levels_df.index[mapped_levels_df > target_arr[ix]].tolist()\n",
    "\n",
    "        xdf[col].loc[change_indexes] = xdf.loc[change_indexes][col].map(DGHs[col])\n",
    "    \n",
    "    while not getCurrentLevelsDF(xdf, levels) == target_arr:\n",
    "        for ix, col in enumerate(levels):\n",
    "            mapped_levels_df = xdf[col].map(levels[col])\n",
    "            change_indexes = mapped_levels_df.index[mapped_levels_df > target_arr[ix]].tolist()\n",
    "\n",
    "            xdf[col].loc[change_indexes] = xdf.loc[change_indexes][col].map(DGHs[col])\n",
    "            \n",
    "    return xdf"
   ]
  },
  {
   "cell_type": "code",
   "execution_count": 26,
   "id": "e5ae56ea-8b17-43df-935b-f73f74d3c33f",
   "metadata": {},
   "outputs": [],
   "source": [
    "def getCurrentLevelsDF(df, levels):\n",
    "    res = []\n",
    "    for ix, col in enumerate(levels):\n",
    "        mapped_levels_df = df[col].map(levels[col])\n",
    "        res.append(mapped_levels_df.max())\n",
    "        \n",
    "    return res"
   ]
  },
  {
   "cell_type": "code",
   "execution_count": 27,
   "id": "1d389e35-16e3-4fc2-8c14-6591596cff85",
   "metadata": {},
   "outputs": [
    {
     "ename": "NameError",
     "evalue": "name 'xdf' is not defined",
     "output_type": "error",
     "traceback": [
      "\u001b[0;31m---------------------------------------------------------------------------\u001b[0m",
      "\u001b[0;31mNameError\u001b[0m                                 Traceback (most recent call last)",
      "Input \u001b[0;32mIn [27]\u001b[0m, in \u001b[0;36m<cell line: 1>\u001b[0;34m()\u001b[0m\n\u001b[0;32m----> 1\u001b[0m mapped_levels_df \u001b[38;5;241m=\u001b[39m \u001b[43mxdf\u001b[49m[col]\u001b[38;5;241m.\u001b[39mmap(levels[col])\n\u001b[1;32m      2\u001b[0m change_indexes \u001b[38;5;241m=\u001b[39m mapped_levels_df\u001b[38;5;241m.\u001b[39mindex[mapped_levels_df \u001b[38;5;241m>\u001b[39m target_arr[ix]]\u001b[38;5;241m.\u001b[39mtolist()\n",
      "\u001b[0;31mNameError\u001b[0m: name 'xdf' is not defined"
     ]
    }
   ],
   "source": [
    "mapped_levels_df = xdf[col].map(levels[col])\n",
    "change_indexes = mapped_levels_df.index[mapped_levels_df > target_arr[ix]].tolist()"
   ]
  },
  {
   "cell_type": "code",
   "execution_count": null,
   "id": "c6d48536-cbe0-4890-ac37-f7e518942cf9",
   "metadata": {},
   "outputs": [],
   "source": []
  },
  {
   "cell_type": "code",
   "execution_count": null,
   "id": "82682629-71c2-4858-9e87-b8e2dc432c4a",
   "metadata": {},
   "outputs": [],
   "source": []
  },
  {
   "cell_type": "code",
   "execution_count": null,
   "id": "f04ced3b-d31b-4eb0-adab-fecbf11875ee",
   "metadata": {},
   "outputs": [],
   "source": []
  },
  {
   "cell_type": "code",
   "execution_count": 741,
   "id": "58ddc034-49b7-41f0-9e1a-502b684192ca",
   "metadata": {},
   "outputs": [
    {
     "data": {
      "text/plain": [
       "[]"
      ]
     },
     "execution_count": 741,
     "metadata": {},
     "output_type": "execute_result"
    }
   ],
   "source": [
    "mapped_levels_df.index[mapped_levels_df > target_arr[-1]].tolist()"
   ]
  },
  {
   "cell_type": "code",
   "execution_count": 745,
   "id": "d08ceebf-b5af-4749-b7ed-27e946c19e96",
   "metadata": {},
   "outputs": [
    {
     "data": {
      "text/plain": [
       "'for ix, col in enumerate(levels):\\n    mapped_levels_df = xdf[col].map(levels[col])\\n    change_indexes = mapped_levels_df.index[mapped_levels_df > target_arr[ix]].tolist()\\n    print(mapped_levels_df)'"
      ]
     },
     "execution_count": 745,
     "metadata": {},
     "output_type": "execute_result"
    }
   ],
   "source": [
    "'''for ix, col in enumerate(levels):\n",
    "    mapped_levels_df = xdf[col].map(levels[col])\n",
    "    change_indexes = mapped_levels_df.index[mapped_levels_df > target_arr[ix]].tolist()\n",
    "    print(mapped_levels_df)'''"
   ]
  },
  {
   "cell_type": "code",
   "execution_count": 748,
   "id": "d94e74e5-ea89-48f1-bb93-f449931480a2",
   "metadata": {},
   "outputs": [],
   "source": [
    "xdf = deepcopy(sdf)\n",
    "target_arr = [0, 0, 0, 0, 0, 0, 0, 0]\n",
    "for ix, col in enumerate(levels):\n",
    "    mapped_levels_df = xdf[col].map(levels[col])\n",
    "    change_indexes = mapped_levels_df.index[mapped_levels_df > target_arr[ix]].tolist()\n",
    "\n",
    "    xdf[col].loc[change_indexes] = xdf.loc[change_indexes][col].map(DGHs[col])\n",
    "    \n",
    "while not getCurrentLevelsDF(xdf, levels) == target_arr:\n",
    "    for ix, col in enumerate(levels):\n",
    "        mapped_levels_df = xdf[col].map(levels[col])\n",
    "        change_indexes = mapped_levels_df.index[mapped_levels_df > target_arr[ix]].tolist()\n",
    "\n",
    "        xdf[col].loc[change_indexes] = xdf.loc[change_indexes][col].map(DGHs[col])"
   ]
  },
  {
   "cell_type": "code",
   "execution_count": null,
   "id": "262917da-0af7-4484-9be6-b75306225736",
   "metadata": {},
   "outputs": [],
   "source": []
  },
  {
   "cell_type": "code",
   "execution_count": null,
   "id": "8e9090d4-5ec9-486c-bd9e-2683436ebee7",
   "metadata": {},
   "outputs": [],
   "source": []
  },
  {
   "cell_type": "code",
   "execution_count": 698,
   "id": "f4ab6753-10af-4847-b98e-3446d9a1ba95",
   "metadata": {},
   "outputs": [],
   "source": [
    "avx = generalizeColumn(sdf, branchFromSingle(branchFromSingle(max_levels)[2])[4])"
   ]
  },
  {
   "cell_type": "code",
   "execution_count": 717,
   "id": "d6f001a9-f1a1-4f4c-9087-d9b08a0cc086",
   "metadata": {},
   "outputs": [],
   "source": [
    "#DGHs['age']"
   ]
  },
  {
   "cell_type": "code",
   "execution_count": 719,
   "id": "297a54ff-bb67-4262-9916-a52766fd7d9e",
   "metadata": {},
   "outputs": [],
   "source": [
    "#levels['age']"
   ]
  },
  {
   "cell_type": "code",
   "execution_count": 713,
   "id": "191341fe-71d5-4c04-8e22-147c9eadf422",
   "metadata": {},
   "outputs": [],
   "source": [
    "avx = generalizeColumn(sdf, [0, 0, 0, 0, 0, 0, 0, 0])"
   ]
  },
  {
   "cell_type": "code",
   "execution_count": 714,
   "id": "85378a20-30a1-4762-8136-6f850f34fd67",
   "metadata": {},
   "outputs": [
    {
     "data": {
      "text/html": [
       "<div>\n",
       "<style scoped>\n",
       "    .dataframe tbody tr th:only-of-type {\n",
       "        vertical-align: middle;\n",
       "    }\n",
       "\n",
       "    .dataframe tbody tr th {\n",
       "        vertical-align: top;\n",
       "    }\n",
       "\n",
       "    .dataframe thead th {\n",
       "        text-align: right;\n",
       "    }\n",
       "</style>\n",
       "<table border=\"1\" class=\"dataframe\">\n",
       "  <thead>\n",
       "    <tr style=\"text-align: right;\">\n",
       "      <th></th>\n",
       "      <th>age</th>\n",
       "      <th>workclass</th>\n",
       "      <th>education</th>\n",
       "      <th>marital-status</th>\n",
       "      <th>occupation</th>\n",
       "      <th>relationship</th>\n",
       "      <th>gender</th>\n",
       "      <th>native-country</th>\n",
       "      <th>income</th>\n",
       "    </tr>\n",
       "  </thead>\n",
       "  <tbody>\n",
       "    <tr>\n",
       "      <th>1026</th>\n",
       "      <td>[15,19)</td>\n",
       "      <td>Any</td>\n",
       "      <td>Junior-Secondary</td>\n",
       "      <td>Any</td>\n",
       "      <td>Blue-collar</td>\n",
       "      <td>In-family</td>\n",
       "      <td>Any</td>\n",
       "      <td>USA</td>\n",
       "      <td>&lt;=50K</td>\n",
       "    </tr>\n",
       "    <tr>\n",
       "      <th>1336</th>\n",
       "      <td>[15,19)</td>\n",
       "      <td>Any</td>\n",
       "      <td>Junior-Secondary</td>\n",
       "      <td>Any</td>\n",
       "      <td>Other</td>\n",
       "      <td>Any</td>\n",
       "      <td>Any</td>\n",
       "      <td>USA</td>\n",
       "      <td>&lt;=50K</td>\n",
       "    </tr>\n",
       "    <tr>\n",
       "      <th>533</th>\n",
       "      <td>[15,19)</td>\n",
       "      <td>Any</td>\n",
       "      <td>Junior-Secondary</td>\n",
       "      <td>Any</td>\n",
       "      <td>Other</td>\n",
       "      <td>In-family</td>\n",
       "      <td>Any</td>\n",
       "      <td>USA</td>\n",
       "      <td>&lt;=50K</td>\n",
       "    </tr>\n",
       "    <tr>\n",
       "      <th>862</th>\n",
       "      <td>[15,19)</td>\n",
       "      <td>Any</td>\n",
       "      <td>Junior-Secondary</td>\n",
       "      <td>Any</td>\n",
       "      <td>Other</td>\n",
       "      <td>In-family</td>\n",
       "      <td>Any</td>\n",
       "      <td>USA</td>\n",
       "      <td>&lt;=50K</td>\n",
       "    </tr>\n",
       "    <tr>\n",
       "      <th>1977</th>\n",
       "      <td>[15,19)</td>\n",
       "      <td>Any</td>\n",
       "      <td>Junior-Secondary</td>\n",
       "      <td>Any</td>\n",
       "      <td>Other</td>\n",
       "      <td>In-family</td>\n",
       "      <td>Any</td>\n",
       "      <td>USA</td>\n",
       "      <td>&lt;=50K</td>\n",
       "    </tr>\n",
       "    <tr>\n",
       "      <th>...</th>\n",
       "      <td>...</td>\n",
       "      <td>...</td>\n",
       "      <td>...</td>\n",
       "      <td>...</td>\n",
       "      <td>...</td>\n",
       "      <td>...</td>\n",
       "      <td>...</td>\n",
       "      <td>...</td>\n",
       "      <td>...</td>\n",
       "    </tr>\n",
       "    <tr>\n",
       "      <th>1441</th>\n",
       "      <td>[80,84)</td>\n",
       "      <td>Self-employed</td>\n",
       "      <td>Elementary</td>\n",
       "      <td>Any</td>\n",
       "      <td>Other</td>\n",
       "      <td>Any</td>\n",
       "      <td>Any</td>\n",
       "      <td>USA</td>\n",
       "      <td>&lt;=50K</td>\n",
       "    </tr>\n",
       "    <tr>\n",
       "      <th>1986</th>\n",
       "      <td>[80,84)</td>\n",
       "      <td>Self-employed</td>\n",
       "      <td>Elementary</td>\n",
       "      <td>Partner-present</td>\n",
       "      <td>Other</td>\n",
       "      <td>In-family</td>\n",
       "      <td>Any</td>\n",
       "      <td>USA</td>\n",
       "      <td>&lt;=50K</td>\n",
       "    </tr>\n",
       "    <tr>\n",
       "      <th>416</th>\n",
       "      <td>[80,84)</td>\n",
       "      <td>Any</td>\n",
       "      <td>Post-secondary</td>\n",
       "      <td>Any</td>\n",
       "      <td>White-collar</td>\n",
       "      <td>Any</td>\n",
       "      <td>Any</td>\n",
       "      <td>USA</td>\n",
       "      <td>&lt;=50K</td>\n",
       "    </tr>\n",
       "    <tr>\n",
       "      <th>852</th>\n",
       "      <td>[90,94)</td>\n",
       "      <td>Any</td>\n",
       "      <td>Senior-Secondary</td>\n",
       "      <td>Any</td>\n",
       "      <td>Other</td>\n",
       "      <td>Any</td>\n",
       "      <td>Any</td>\n",
       "      <td>USA</td>\n",
       "      <td>&lt;=50K</td>\n",
       "    </tr>\n",
       "    <tr>\n",
       "      <th>1388</th>\n",
       "      <td>[90,94)</td>\n",
       "      <td>Self-employed</td>\n",
       "      <td>University</td>\n",
       "      <td>Partner-absent</td>\n",
       "      <td>White-collar</td>\n",
       "      <td>Any</td>\n",
       "      <td>Any</td>\n",
       "      <td>USA</td>\n",
       "      <td>&lt;=50K</td>\n",
       "    </tr>\n",
       "  </tbody>\n",
       "</table>\n",
       "<p>2000 rows × 9 columns</p>\n",
       "</div>"
      ],
      "text/plain": [
       "          age      workclass         education   marital-status    occupation  \\\n",
       "1026  [15,19)            Any  Junior-Secondary              Any   Blue-collar   \n",
       "1336  [15,19)            Any  Junior-Secondary              Any         Other   \n",
       "533   [15,19)            Any  Junior-Secondary              Any         Other   \n",
       "862   [15,19)            Any  Junior-Secondary              Any         Other   \n",
       "1977  [15,19)            Any  Junior-Secondary              Any         Other   \n",
       "...       ...            ...               ...              ...           ...   \n",
       "1441  [80,84)  Self-employed        Elementary              Any         Other   \n",
       "1986  [80,84)  Self-employed        Elementary  Partner-present         Other   \n",
       "416   [80,84)            Any    Post-secondary              Any  White-collar   \n",
       "852   [90,94)            Any  Senior-Secondary              Any         Other   \n",
       "1388  [90,94)  Self-employed        University   Partner-absent  White-collar   \n",
       "\n",
       "     relationship gender native-country income  \n",
       "1026    In-family   Any             USA  <=50K  \n",
       "1336          Any   Any             USA  <=50K  \n",
       "533     In-family   Any             USA  <=50K  \n",
       "862     In-family   Any             USA  <=50K  \n",
       "1977    In-family   Any             USA  <=50K  \n",
       "...           ...    ...            ...    ...  \n",
       "1441          Any   Any             USA  <=50K  \n",
       "1986    In-family   Any             USA  <=50K  \n",
       "416           Any   Any             USA  <=50K  \n",
       "852           Any   Any             USA  <=50K  \n",
       "1388          Any   Any             USA  <=50K  \n",
       "\n",
       "[2000 rows x 9 columns]"
      ]
     },
     "execution_count": 714,
     "metadata": {},
     "output_type": "execute_result"
    }
   ],
   "source": [
    "avx"
   ]
  },
  {
   "cell_type": "code",
   "execution_count": 701,
   "id": "f407669f-761f-464b-bcc2-36061d24a8b6",
   "metadata": {},
   "outputs": [
    {
     "data": {
      "text/html": [
       "<div>\n",
       "<style scoped>\n",
       "    .dataframe tbody tr th:only-of-type {\n",
       "        vertical-align: middle;\n",
       "    }\n",
       "\n",
       "    .dataframe tbody tr th {\n",
       "        vertical-align: top;\n",
       "    }\n",
       "\n",
       "    .dataframe thead th {\n",
       "        text-align: right;\n",
       "    }\n",
       "</style>\n",
       "<table border=\"1\" class=\"dataframe\">\n",
       "  <thead>\n",
       "    <tr style=\"text-align: right;\">\n",
       "      <th></th>\n",
       "      <th>age</th>\n",
       "      <th>workclass</th>\n",
       "      <th>education</th>\n",
       "      <th>marital-status</th>\n",
       "      <th>occupation</th>\n",
       "      <th>relationship</th>\n",
       "      <th>gender</th>\n",
       "      <th>native-country</th>\n",
       "      <th>income</th>\n",
       "    </tr>\n",
       "  </thead>\n",
       "  <tbody>\n",
       "    <tr>\n",
       "      <th>1026</th>\n",
       "      <td>17</td>\n",
       "      <td>Private</td>\n",
       "      <td>Junior-Secondary</td>\n",
       "      <td>Never-married</td>\n",
       "      <td>Handlers-cleaners</td>\n",
       "      <td>Own-child</td>\n",
       "      <td>Male</td>\n",
       "      <td>United-States</td>\n",
       "      <td>&lt;=50K</td>\n",
       "    </tr>\n",
       "    <tr>\n",
       "      <th>1336</th>\n",
       "      <td>17</td>\n",
       "      <td>Private</td>\n",
       "      <td>Junior-Secondary</td>\n",
       "      <td>Never-married</td>\n",
       "      <td>Other-service</td>\n",
       "      <td>Not-in-family</td>\n",
       "      <td>Male</td>\n",
       "      <td>United-States</td>\n",
       "      <td>&lt;=50K</td>\n",
       "    </tr>\n",
       "    <tr>\n",
       "      <th>533</th>\n",
       "      <td>17</td>\n",
       "      <td>Private</td>\n",
       "      <td>Junior-Secondary</td>\n",
       "      <td>Never-married</td>\n",
       "      <td>Other-service</td>\n",
       "      <td>Own-child</td>\n",
       "      <td>Male</td>\n",
       "      <td>United-States</td>\n",
       "      <td>&lt;=50K</td>\n",
       "    </tr>\n",
       "    <tr>\n",
       "      <th>862</th>\n",
       "      <td>17</td>\n",
       "      <td>Private</td>\n",
       "      <td>Junior-Secondary</td>\n",
       "      <td>Never-married</td>\n",
       "      <td>Other-service</td>\n",
       "      <td>Own-child</td>\n",
       "      <td>Male</td>\n",
       "      <td>United-States</td>\n",
       "      <td>&lt;=50K</td>\n",
       "    </tr>\n",
       "    <tr>\n",
       "      <th>1977</th>\n",
       "      <td>17</td>\n",
       "      <td>Private</td>\n",
       "      <td>Junior-Secondary</td>\n",
       "      <td>Never-married</td>\n",
       "      <td>Other-service</td>\n",
       "      <td>Own-child</td>\n",
       "      <td>Male</td>\n",
       "      <td>United-States</td>\n",
       "      <td>&lt;=50K</td>\n",
       "    </tr>\n",
       "    <tr>\n",
       "      <th>...</th>\n",
       "      <td>...</td>\n",
       "      <td>...</td>\n",
       "      <td>...</td>\n",
       "      <td>...</td>\n",
       "      <td>...</td>\n",
       "      <td>...</td>\n",
       "      <td>...</td>\n",
       "      <td>...</td>\n",
       "      <td>...</td>\n",
       "    </tr>\n",
       "    <tr>\n",
       "      <th>1441</th>\n",
       "      <td>80</td>\n",
       "      <td>Self-emp-not-inc</td>\n",
       "      <td>7th-8th</td>\n",
       "      <td>Never-married</td>\n",
       "      <td>Farming-fishing</td>\n",
       "      <td>Unmarried</td>\n",
       "      <td>Male</td>\n",
       "      <td>United-States</td>\n",
       "      <td>&lt;=50K</td>\n",
       "    </tr>\n",
       "    <tr>\n",
       "      <th>1986</th>\n",
       "      <td>81</td>\n",
       "      <td>Self-emp-not-inc</td>\n",
       "      <td>7th-8th</td>\n",
       "      <td>Married-civ-spouse</td>\n",
       "      <td>Farming-fishing</td>\n",
       "      <td>Husband</td>\n",
       "      <td>Male</td>\n",
       "      <td>United-States</td>\n",
       "      <td>&lt;=50K</td>\n",
       "    </tr>\n",
       "    <tr>\n",
       "      <th>416</th>\n",
       "      <td>83</td>\n",
       "      <td>Private</td>\n",
       "      <td>Some-college</td>\n",
       "      <td>Never-married</td>\n",
       "      <td>Exec-managerial</td>\n",
       "      <td>Not-in-family</td>\n",
       "      <td>Female</td>\n",
       "      <td>United-States</td>\n",
       "      <td>&lt;=50K</td>\n",
       "    </tr>\n",
       "    <tr>\n",
       "      <th>852</th>\n",
       "      <td>90</td>\n",
       "      <td>Private</td>\n",
       "      <td>Senior-Secondary</td>\n",
       "      <td>Never-married</td>\n",
       "      <td>Other-service</td>\n",
       "      <td>Not-in-family</td>\n",
       "      <td>Male</td>\n",
       "      <td>United-States</td>\n",
       "      <td>&lt;=50K</td>\n",
       "    </tr>\n",
       "    <tr>\n",
       "      <th>1388</th>\n",
       "      <td>90</td>\n",
       "      <td>Self-emp-not-inc</td>\n",
       "      <td>Prof-school</td>\n",
       "      <td>Widowed</td>\n",
       "      <td>Prof-specialty</td>\n",
       "      <td>Not-in-family</td>\n",
       "      <td>Male</td>\n",
       "      <td>United-States</td>\n",
       "      <td>&lt;=50K</td>\n",
       "    </tr>\n",
       "  </tbody>\n",
       "</table>\n",
       "<p>2000 rows × 9 columns</p>\n",
       "</div>"
      ],
      "text/plain": [
       "     age         workclass         education      marital-status  \\\n",
       "1026  17           Private  Junior-Secondary       Never-married   \n",
       "1336  17           Private  Junior-Secondary       Never-married   \n",
       "533   17           Private  Junior-Secondary       Never-married   \n",
       "862   17           Private  Junior-Secondary       Never-married   \n",
       "1977  17           Private  Junior-Secondary       Never-married   \n",
       "...   ..               ...               ...                 ...   \n",
       "1441  80  Self-emp-not-inc           7th-8th       Never-married   \n",
       "1986  81  Self-emp-not-inc           7th-8th  Married-civ-spouse   \n",
       "416   83           Private      Some-college       Never-married   \n",
       "852   90           Private  Senior-Secondary       Never-married   \n",
       "1388  90  Self-emp-not-inc       Prof-school             Widowed   \n",
       "\n",
       "             occupation   relationship  gender native-country income  \n",
       "1026  Handlers-cleaners      Own-child    Male  United-States  <=50K  \n",
       "1336      Other-service  Not-in-family    Male  United-States  <=50K  \n",
       "533       Other-service      Own-child    Male  United-States  <=50K  \n",
       "862       Other-service      Own-child    Male  United-States  <=50K  \n",
       "1977      Other-service      Own-child    Male  United-States  <=50K  \n",
       "...                 ...            ...     ...            ...    ...  \n",
       "1441    Farming-fishing      Unmarried    Male  United-States  <=50K  \n",
       "1986    Farming-fishing        Husband    Male  United-States  <=50K  \n",
       "416     Exec-managerial  Not-in-family  Female  United-States  <=50K  \n",
       "852       Other-service  Not-in-family    Male  United-States  <=50K  \n",
       "1388     Prof-specialty  Not-in-family    Male  United-States  <=50K  \n",
       "\n",
       "[2000 rows x 9 columns]"
      ]
     },
     "execution_count": 701,
     "metadata": {},
     "output_type": "execute_result"
    }
   ],
   "source": [
    "generalizeColumn(sdf, branchFromSingle(max_levels)[2])"
   ]
  },
  {
   "cell_type": "code",
   "execution_count": 700,
   "id": "0bea8295-133a-4514-b29f-714605cf892d",
   "metadata": {},
   "outputs": [
    {
     "data": {
      "text/html": [
       "<div>\n",
       "<style scoped>\n",
       "    .dataframe tbody tr th:only-of-type {\n",
       "        vertical-align: middle;\n",
       "    }\n",
       "\n",
       "    .dataframe tbody tr th {\n",
       "        vertical-align: top;\n",
       "    }\n",
       "\n",
       "    .dataframe thead th {\n",
       "        text-align: right;\n",
       "    }\n",
       "</style>\n",
       "<table border=\"1\" class=\"dataframe\">\n",
       "  <thead>\n",
       "    <tr style=\"text-align: right;\">\n",
       "      <th></th>\n",
       "      <th>age</th>\n",
       "      <th>workclass</th>\n",
       "      <th>education</th>\n",
       "      <th>marital-status</th>\n",
       "      <th>occupation</th>\n",
       "      <th>relationship</th>\n",
       "      <th>gender</th>\n",
       "      <th>native-country</th>\n",
       "      <th>income</th>\n",
       "    </tr>\n",
       "  </thead>\n",
       "  <tbody>\n",
       "    <tr>\n",
       "      <th>1026</th>\n",
       "      <td>17</td>\n",
       "      <td>Private</td>\n",
       "      <td>10th</td>\n",
       "      <td>Never-married</td>\n",
       "      <td>Handlers-cleaners</td>\n",
       "      <td>Own-child</td>\n",
       "      <td>Male</td>\n",
       "      <td>United-States</td>\n",
       "      <td>&lt;=50K</td>\n",
       "    </tr>\n",
       "    <tr>\n",
       "      <th>1336</th>\n",
       "      <td>17</td>\n",
       "      <td>Private</td>\n",
       "      <td>10th</td>\n",
       "      <td>Never-married</td>\n",
       "      <td>Other-service</td>\n",
       "      <td>Not-in-family</td>\n",
       "      <td>Male</td>\n",
       "      <td>United-States</td>\n",
       "      <td>&lt;=50K</td>\n",
       "    </tr>\n",
       "    <tr>\n",
       "      <th>533</th>\n",
       "      <td>17</td>\n",
       "      <td>Private</td>\n",
       "      <td>10th</td>\n",
       "      <td>Never-married</td>\n",
       "      <td>Other-service</td>\n",
       "      <td>Own-child</td>\n",
       "      <td>Male</td>\n",
       "      <td>United-States</td>\n",
       "      <td>&lt;=50K</td>\n",
       "    </tr>\n",
       "    <tr>\n",
       "      <th>862</th>\n",
       "      <td>17</td>\n",
       "      <td>Private</td>\n",
       "      <td>10th</td>\n",
       "      <td>Never-married</td>\n",
       "      <td>Other-service</td>\n",
       "      <td>Own-child</td>\n",
       "      <td>Male</td>\n",
       "      <td>United-States</td>\n",
       "      <td>&lt;=50K</td>\n",
       "    </tr>\n",
       "    <tr>\n",
       "      <th>1977</th>\n",
       "      <td>17</td>\n",
       "      <td>Private</td>\n",
       "      <td>10th</td>\n",
       "      <td>Never-married</td>\n",
       "      <td>Other-service</td>\n",
       "      <td>Own-child</td>\n",
       "      <td>Male</td>\n",
       "      <td>United-States</td>\n",
       "      <td>&lt;=50K</td>\n",
       "    </tr>\n",
       "    <tr>\n",
       "      <th>...</th>\n",
       "      <td>...</td>\n",
       "      <td>...</td>\n",
       "      <td>...</td>\n",
       "      <td>...</td>\n",
       "      <td>...</td>\n",
       "      <td>...</td>\n",
       "      <td>...</td>\n",
       "      <td>...</td>\n",
       "      <td>...</td>\n",
       "    </tr>\n",
       "    <tr>\n",
       "      <th>1441</th>\n",
       "      <td>80</td>\n",
       "      <td>Self-emp-not-inc</td>\n",
       "      <td>7th-8th</td>\n",
       "      <td>Never-married</td>\n",
       "      <td>Farming-fishing</td>\n",
       "      <td>Unmarried</td>\n",
       "      <td>Male</td>\n",
       "      <td>United-States</td>\n",
       "      <td>&lt;=50K</td>\n",
       "    </tr>\n",
       "    <tr>\n",
       "      <th>1986</th>\n",
       "      <td>81</td>\n",
       "      <td>Self-emp-not-inc</td>\n",
       "      <td>7th-8th</td>\n",
       "      <td>Married-civ-spouse</td>\n",
       "      <td>Farming-fishing</td>\n",
       "      <td>Husband</td>\n",
       "      <td>Male</td>\n",
       "      <td>United-States</td>\n",
       "      <td>&lt;=50K</td>\n",
       "    </tr>\n",
       "    <tr>\n",
       "      <th>416</th>\n",
       "      <td>83</td>\n",
       "      <td>Private</td>\n",
       "      <td>Some-college</td>\n",
       "      <td>Never-married</td>\n",
       "      <td>Exec-managerial</td>\n",
       "      <td>Not-in-family</td>\n",
       "      <td>Female</td>\n",
       "      <td>United-States</td>\n",
       "      <td>&lt;=50K</td>\n",
       "    </tr>\n",
       "    <tr>\n",
       "      <th>852</th>\n",
       "      <td>90</td>\n",
       "      <td>Private</td>\n",
       "      <td>HS-grad</td>\n",
       "      <td>Never-married</td>\n",
       "      <td>Other-service</td>\n",
       "      <td>Not-in-family</td>\n",
       "      <td>Male</td>\n",
       "      <td>United-States</td>\n",
       "      <td>&lt;=50K</td>\n",
       "    </tr>\n",
       "    <tr>\n",
       "      <th>1388</th>\n",
       "      <td>90</td>\n",
       "      <td>Self-emp-not-inc</td>\n",
       "      <td>Prof-school</td>\n",
       "      <td>Widowed</td>\n",
       "      <td>Prof-specialty</td>\n",
       "      <td>Not-in-family</td>\n",
       "      <td>Male</td>\n",
       "      <td>United-States</td>\n",
       "      <td>&lt;=50K</td>\n",
       "    </tr>\n",
       "  </tbody>\n",
       "</table>\n",
       "<p>2000 rows × 9 columns</p>\n",
       "</div>"
      ],
      "text/plain": [
       "     age         workclass     education      marital-status  \\\n",
       "1026  17           Private          10th       Never-married   \n",
       "1336  17           Private          10th       Never-married   \n",
       "533   17           Private          10th       Never-married   \n",
       "862   17           Private          10th       Never-married   \n",
       "1977  17           Private          10th       Never-married   \n",
       "...   ..               ...           ...                 ...   \n",
       "1441  80  Self-emp-not-inc       7th-8th       Never-married   \n",
       "1986  81  Self-emp-not-inc       7th-8th  Married-civ-spouse   \n",
       "416   83           Private  Some-college       Never-married   \n",
       "852   90           Private       HS-grad       Never-married   \n",
       "1388  90  Self-emp-not-inc   Prof-school             Widowed   \n",
       "\n",
       "             occupation   relationship  gender native-country income  \n",
       "1026  Handlers-cleaners      Own-child    Male  United-States  <=50K  \n",
       "1336      Other-service  Not-in-family    Male  United-States  <=50K  \n",
       "533       Other-service      Own-child    Male  United-States  <=50K  \n",
       "862       Other-service      Own-child    Male  United-States  <=50K  \n",
       "1977      Other-service      Own-child    Male  United-States  <=50K  \n",
       "...                 ...            ...     ...            ...    ...  \n",
       "1441    Farming-fishing      Unmarried    Male  United-States  <=50K  \n",
       "1986    Farming-fishing        Husband    Male  United-States  <=50K  \n",
       "416     Exec-managerial  Not-in-family  Female  United-States  <=50K  \n",
       "852       Other-service  Not-in-family    Male  United-States  <=50K  \n",
       "1388     Prof-specialty  Not-in-family    Male  United-States  <=50K  \n",
       "\n",
       "[2000 rows x 9 columns]"
      ]
     },
     "execution_count": 700,
     "metadata": {},
     "output_type": "execute_result"
    }
   ],
   "source": [
    "sdf"
   ]
  },
  {
   "cell_type": "code",
   "execution_count": 699,
   "id": "45ee2642-8b99-408e-8044-f98d4be9a3e6",
   "metadata": {},
   "outputs": [
    {
     "data": {
      "text/html": [
       "<div>\n",
       "<style scoped>\n",
       "    .dataframe tbody tr th:only-of-type {\n",
       "        vertical-align: middle;\n",
       "    }\n",
       "\n",
       "    .dataframe tbody tr th {\n",
       "        vertical-align: top;\n",
       "    }\n",
       "\n",
       "    .dataframe thead th {\n",
       "        text-align: right;\n",
       "    }\n",
       "</style>\n",
       "<table border=\"1\" class=\"dataframe\">\n",
       "  <thead>\n",
       "    <tr style=\"text-align: right;\">\n",
       "      <th></th>\n",
       "      <th>age</th>\n",
       "      <th>workclass</th>\n",
       "      <th>education</th>\n",
       "      <th>marital-status</th>\n",
       "      <th>occupation</th>\n",
       "      <th>relationship</th>\n",
       "      <th>gender</th>\n",
       "      <th>native-country</th>\n",
       "      <th>income</th>\n",
       "    </tr>\n",
       "  </thead>\n",
       "  <tbody>\n",
       "    <tr>\n",
       "      <th>1026</th>\n",
       "      <td>[15,19)</td>\n",
       "      <td>Private</td>\n",
       "      <td>Junior-Secondary</td>\n",
       "      <td>Never-married</td>\n",
       "      <td>Handlers-cleaners</td>\n",
       "      <td>Own-child</td>\n",
       "      <td>Male</td>\n",
       "      <td>United-States</td>\n",
       "      <td>&lt;=50K</td>\n",
       "    </tr>\n",
       "    <tr>\n",
       "      <th>1336</th>\n",
       "      <td>[15,19)</td>\n",
       "      <td>Private</td>\n",
       "      <td>Junior-Secondary</td>\n",
       "      <td>Never-married</td>\n",
       "      <td>Other-service</td>\n",
       "      <td>Not-in-family</td>\n",
       "      <td>Male</td>\n",
       "      <td>United-States</td>\n",
       "      <td>&lt;=50K</td>\n",
       "    </tr>\n",
       "    <tr>\n",
       "      <th>533</th>\n",
       "      <td>[15,19)</td>\n",
       "      <td>Private</td>\n",
       "      <td>Junior-Secondary</td>\n",
       "      <td>Never-married</td>\n",
       "      <td>Other-service</td>\n",
       "      <td>Own-child</td>\n",
       "      <td>Male</td>\n",
       "      <td>United-States</td>\n",
       "      <td>&lt;=50K</td>\n",
       "    </tr>\n",
       "    <tr>\n",
       "      <th>862</th>\n",
       "      <td>[15,19)</td>\n",
       "      <td>Private</td>\n",
       "      <td>Junior-Secondary</td>\n",
       "      <td>Never-married</td>\n",
       "      <td>Other-service</td>\n",
       "      <td>Own-child</td>\n",
       "      <td>Male</td>\n",
       "      <td>United-States</td>\n",
       "      <td>&lt;=50K</td>\n",
       "    </tr>\n",
       "    <tr>\n",
       "      <th>1977</th>\n",
       "      <td>[15,19)</td>\n",
       "      <td>Private</td>\n",
       "      <td>Junior-Secondary</td>\n",
       "      <td>Never-married</td>\n",
       "      <td>Other-service</td>\n",
       "      <td>Own-child</td>\n",
       "      <td>Male</td>\n",
       "      <td>United-States</td>\n",
       "      <td>&lt;=50K</td>\n",
       "    </tr>\n",
       "    <tr>\n",
       "      <th>...</th>\n",
       "      <td>...</td>\n",
       "      <td>...</td>\n",
       "      <td>...</td>\n",
       "      <td>...</td>\n",
       "      <td>...</td>\n",
       "      <td>...</td>\n",
       "      <td>...</td>\n",
       "      <td>...</td>\n",
       "      <td>...</td>\n",
       "    </tr>\n",
       "    <tr>\n",
       "      <th>1441</th>\n",
       "      <td>[80,84)</td>\n",
       "      <td>Self-emp-not-inc</td>\n",
       "      <td>7th-8th</td>\n",
       "      <td>Never-married</td>\n",
       "      <td>Farming-fishing</td>\n",
       "      <td>Unmarried</td>\n",
       "      <td>Male</td>\n",
       "      <td>United-States</td>\n",
       "      <td>&lt;=50K</td>\n",
       "    </tr>\n",
       "    <tr>\n",
       "      <th>1986</th>\n",
       "      <td>[80,84)</td>\n",
       "      <td>Self-emp-not-inc</td>\n",
       "      <td>7th-8th</td>\n",
       "      <td>Married-civ-spouse</td>\n",
       "      <td>Farming-fishing</td>\n",
       "      <td>Husband</td>\n",
       "      <td>Male</td>\n",
       "      <td>United-States</td>\n",
       "      <td>&lt;=50K</td>\n",
       "    </tr>\n",
       "    <tr>\n",
       "      <th>416</th>\n",
       "      <td>[80,84)</td>\n",
       "      <td>Private</td>\n",
       "      <td>Some-college</td>\n",
       "      <td>Never-married</td>\n",
       "      <td>Exec-managerial</td>\n",
       "      <td>Not-in-family</td>\n",
       "      <td>Female</td>\n",
       "      <td>United-States</td>\n",
       "      <td>&lt;=50K</td>\n",
       "    </tr>\n",
       "    <tr>\n",
       "      <th>852</th>\n",
       "      <td>[90,94)</td>\n",
       "      <td>Private</td>\n",
       "      <td>Senior-Secondary</td>\n",
       "      <td>Never-married</td>\n",
       "      <td>Other-service</td>\n",
       "      <td>Not-in-family</td>\n",
       "      <td>Male</td>\n",
       "      <td>United-States</td>\n",
       "      <td>&lt;=50K</td>\n",
       "    </tr>\n",
       "    <tr>\n",
       "      <th>1388</th>\n",
       "      <td>[90,94)</td>\n",
       "      <td>Self-emp-not-inc</td>\n",
       "      <td>Prof-school</td>\n",
       "      <td>Widowed</td>\n",
       "      <td>Prof-specialty</td>\n",
       "      <td>Not-in-family</td>\n",
       "      <td>Male</td>\n",
       "      <td>United-States</td>\n",
       "      <td>&lt;=50K</td>\n",
       "    </tr>\n",
       "  </tbody>\n",
       "</table>\n",
       "<p>2000 rows × 9 columns</p>\n",
       "</div>"
      ],
      "text/plain": [
       "          age         workclass         education      marital-status  \\\n",
       "1026  [15,19)           Private  Junior-Secondary       Never-married   \n",
       "1336  [15,19)           Private  Junior-Secondary       Never-married   \n",
       "533   [15,19)           Private  Junior-Secondary       Never-married   \n",
       "862   [15,19)           Private  Junior-Secondary       Never-married   \n",
       "1977  [15,19)           Private  Junior-Secondary       Never-married   \n",
       "...       ...               ...               ...                 ...   \n",
       "1441  [80,84)  Self-emp-not-inc           7th-8th       Never-married   \n",
       "1986  [80,84)  Self-emp-not-inc           7th-8th  Married-civ-spouse   \n",
       "416   [80,84)           Private      Some-college       Never-married   \n",
       "852   [90,94)           Private  Senior-Secondary       Never-married   \n",
       "1388  [90,94)  Self-emp-not-inc       Prof-school             Widowed   \n",
       "\n",
       "             occupation   relationship  gender native-country income  \n",
       "1026  Handlers-cleaners      Own-child    Male  United-States  <=50K  \n",
       "1336      Other-service  Not-in-family    Male  United-States  <=50K  \n",
       "533       Other-service      Own-child    Male  United-States  <=50K  \n",
       "862       Other-service      Own-child    Male  United-States  <=50K  \n",
       "1977      Other-service      Own-child    Male  United-States  <=50K  \n",
       "...                 ...            ...     ...            ...    ...  \n",
       "1441    Farming-fishing      Unmarried    Male  United-States  <=50K  \n",
       "1986    Farming-fishing        Husband    Male  United-States  <=50K  \n",
       "416     Exec-managerial  Not-in-family  Female  United-States  <=50K  \n",
       "852       Other-service  Not-in-family    Male  United-States  <=50K  \n",
       "1388     Prof-specialty  Not-in-family    Male  United-States  <=50K  \n",
       "\n",
       "[2000 rows x 9 columns]"
      ]
     },
     "execution_count": 699,
     "metadata": {},
     "output_type": "execute_result"
    }
   ],
   "source": [
    "avx"
   ]
  },
  {
   "cell_type": "code",
   "execution_count": 686,
   "id": "f7b1f913-e125-4092-a822-3e08cb070129",
   "metadata": {},
   "outputs": [
    {
     "name": "stdout",
     "output_type": "stream",
     "text": [
      "Index(['age', 'workclass', 'education', 'marital-status', 'occupation',\n",
      "       'relationship', 'gender', 'native-country'],\n",
      "      dtype='object')\n"
     ]
    },
    {
     "data": {
      "text/plain": [
       "1"
      ]
     },
     "execution_count": 686,
     "metadata": {},
     "output_type": "execute_result"
    }
   ],
   "source": [
    "getK(avx)"
   ]
  },
  {
   "cell_type": "code",
   "execution_count": 697,
   "id": "c7467476-f318-404e-be7d-8818ab26462b",
   "metadata": {},
   "outputs": [
    {
     "data": {
      "text/plain": [
       "1"
      ]
     },
     "execution_count": 697,
     "metadata": {},
     "output_type": "execute_result"
    }
   ],
   "source": [
    "np.min(list(avx.groupby(list(avx.columns[:-1])).count().income))"
   ]
  },
  {
   "cell_type": "code",
   "execution_count": 678,
   "id": "ce951d38-ddd7-42ad-88a9-aba3877f83f7",
   "metadata": {},
   "outputs": [
    {
     "data": {
      "text/plain": [
       "'mini = np.inf\\nfor i, d in df.groupby(list(df.columns[:-1])):\\n    print(len(d))\\n    if mini > len(d):\\n        mini = len(d)'"
      ]
     },
     "execution_count": 678,
     "metadata": {},
     "output_type": "execute_result"
    }
   ],
   "source": [
    "mini = np.inf\n",
    "for i, d in df.groupby(list(df.columns[:-1])):\n",
    "    print(len(d))\n",
    "    if mini > len(d):\n",
    "        mini = len(d)"
   ]
  },
  {
   "cell_type": "code",
   "execution_count": 70,
   "id": "e5ec2e9c-ead8-4b52-a061-4f3cc08eb182",
   "metadata": {},
   "outputs": [
    {
     "ename": "NameError",
     "evalue": "name 'levels' is not defined",
     "output_type": "error",
     "traceback": [
      "\u001b[0;31m---------------------------------------------------------------------------\u001b[0m",
      "\u001b[0;31mNameError\u001b[0m                                 Traceback (most recent call last)",
      "Input \u001b[0;32mIn [70]\u001b[0m, in \u001b[0;36m<cell line: 2>\u001b[0;34m()\u001b[0m\n\u001b[1;32m      1\u001b[0m son \u001b[38;5;241m=\u001b[39m []\n\u001b[0;32m----> 2\u001b[0m \u001b[38;5;28;01mfor\u001b[39;00m col \u001b[38;5;129;01min\u001b[39;00m [i \u001b[38;5;28;01mfor\u001b[39;00m i \u001b[38;5;129;01min\u001b[39;00m \u001b[43mlevels\u001b[49m]:\n\u001b[1;32m      3\u001b[0m     son\u001b[38;5;241m.\u001b[39mappend(sdf[col]\u001b[38;5;241m.\u001b[39mmap(levels[col]))\n\u001b[1;32m      5\u001b[0m \u001b[38;5;28;01mfor\u001b[39;00m i \u001b[38;5;129;01min\u001b[39;00m son:\n",
      "\u001b[0;31mNameError\u001b[0m: name 'levels' is not defined"
     ]
    }
   ],
   "source": [
    "son = []\n",
    "for col in [i for i in levels]:\n",
    "    son.append(sdf[col].map(levels[col]))\n",
    "\n",
    "for i in son:\n",
    "    i.mx_level = np.max(i)\n",
    "\n",
    "max_levels = [i.mx_level for i in son]\n",
    "\n",
    "max_levels = np.array(max_levels)"
   ]
  },
  {
   "cell_type": "code",
   "execution_count": 69,
   "id": "dfcde795-de1a-4beb-abcf-60bcf868ec07",
   "metadata": {},
   "outputs": [
    {
     "ename": "NameError",
     "evalue": "name 'max_levels' is not defined",
     "output_type": "error",
     "traceback": [
      "\u001b[0;31m---------------------------------------------------------------------------\u001b[0m",
      "\u001b[0;31mNameError\u001b[0m                                 Traceback (most recent call last)",
      "Input \u001b[0;32mIn [69]\u001b[0m, in \u001b[0;36m<cell line: 1>\u001b[0;34m()\u001b[0m\n\u001b[0;32m----> 1\u001b[0m \u001b[43mmax_levels\u001b[49m\n",
      "\u001b[0;31mNameError\u001b[0m: name 'max_levels' is not defined"
     ]
    }
   ],
   "source": [
    "max_levels"
   ]
  },
  {
   "cell_type": "code",
   "execution_count": 664,
   "id": "e18fbbc2-6942-4544-8472-f38a0fbfd1cb",
   "metadata": {},
   "outputs": [
    {
     "data": {
      "text/plain": [
       "[array([2, 4, 4, 2, 4, 1, 2, 2]),\n",
       " array([3, 3, 4, 2, 4, 1, 2, 2]),\n",
       " array([3, 4, 3, 2, 4, 1, 2, 2]),\n",
       " array([3, 4, 4, 1, 4, 1, 2, 2]),\n",
       " array([3, 4, 4, 2, 3, 1, 2, 2]),\n",
       " array([3, 4, 4, 2, 4, 0, 2, 2]),\n",
       " array([3, 4, 4, 2, 4, 1, 1, 2]),\n",
       " array([3, 4, 4, 2, 4, 1, 2, 1])]"
      ]
     },
     "execution_count": 664,
     "metadata": {},
     "output_type": "execute_result"
    }
   ],
   "source": [
    "branchFromSingle(max_levels)"
   ]
  },
  {
   "cell_type": "code",
   "execution_count": 712,
   "id": "cadddd76-3679-48e0-a9de-7fdf37326f42",
   "metadata": {},
   "outputs": [
    {
     "data": {
      "text/html": [
       "<div>\n",
       "<style scoped>\n",
       "    .dataframe tbody tr th:only-of-type {\n",
       "        vertical-align: middle;\n",
       "    }\n",
       "\n",
       "    .dataframe tbody tr th {\n",
       "        vertical-align: top;\n",
       "    }\n",
       "\n",
       "    .dataframe thead th {\n",
       "        text-align: right;\n",
       "    }\n",
       "</style>\n",
       "<table border=\"1\" class=\"dataframe\">\n",
       "  <thead>\n",
       "    <tr style=\"text-align: right;\">\n",
       "      <th></th>\n",
       "      <th></th>\n",
       "      <th></th>\n",
       "      <th></th>\n",
       "      <th></th>\n",
       "      <th></th>\n",
       "      <th></th>\n",
       "      <th></th>\n",
       "      <th>income</th>\n",
       "    </tr>\n",
       "    <tr>\n",
       "      <th>age</th>\n",
       "      <th>workclass</th>\n",
       "      <th>education</th>\n",
       "      <th>marital-status</th>\n",
       "      <th>occupation</th>\n",
       "      <th>relationship</th>\n",
       "      <th>gender</th>\n",
       "      <th>native-country</th>\n",
       "      <th></th>\n",
       "    </tr>\n",
       "  </thead>\n",
       "  <tbody>\n",
       "    <tr>\n",
       "      <th rowspan=\"5\" valign=\"top\">[15,19)</th>\n",
       "      <th rowspan=\"2\" valign=\"top\">Local-gov</th>\n",
       "      <th>Senior-Secondary</th>\n",
       "      <th>Divorced</th>\n",
       "      <th>Exec-managerial</th>\n",
       "      <th>Not-in-family</th>\n",
       "      <th>Female</th>\n",
       "      <th>United-States</th>\n",
       "      <td>1</td>\n",
       "    </tr>\n",
       "    <tr>\n",
       "      <th>Some-college</th>\n",
       "      <th>Never-married</th>\n",
       "      <th>Prof-specialty</th>\n",
       "      <th>Own-child</th>\n",
       "      <th>Female</th>\n",
       "      <th>United-States</th>\n",
       "      <td>1</td>\n",
       "    </tr>\n",
       "    <tr>\n",
       "      <th rowspan=\"3\" valign=\"top\">Private</th>\n",
       "      <th>1st-4th</th>\n",
       "      <th>Never-married</th>\n",
       "      <th>Handlers-cleaners</th>\n",
       "      <th>Other-relative</th>\n",
       "      <th>Male</th>\n",
       "      <th>Mexico</th>\n",
       "      <td>1</td>\n",
       "    </tr>\n",
       "    <tr>\n",
       "      <th>7th-8th</th>\n",
       "      <th>Never-married</th>\n",
       "      <th>Sales</th>\n",
       "      <th>Own-child</th>\n",
       "      <th>Male</th>\n",
       "      <th>Mexico</th>\n",
       "      <td>1</td>\n",
       "    </tr>\n",
       "    <tr>\n",
       "      <th>Junior-Secondary</th>\n",
       "      <th>Never-married</th>\n",
       "      <th>Handlers-cleaners</th>\n",
       "      <th>Own-child</th>\n",
       "      <th>Male</th>\n",
       "      <th>United-States</th>\n",
       "      <td>2</td>\n",
       "    </tr>\n",
       "    <tr>\n",
       "      <th>...</th>\n",
       "      <th>...</th>\n",
       "      <th>...</th>\n",
       "      <th>...</th>\n",
       "      <th>...</th>\n",
       "      <th>...</th>\n",
       "      <th>...</th>\n",
       "      <th>...</th>\n",
       "      <td>...</td>\n",
       "    </tr>\n",
       "    <tr>\n",
       "      <th rowspan=\"3\" valign=\"top\">[80,84)</th>\n",
       "      <th>Private</th>\n",
       "      <th>Some-college</th>\n",
       "      <th>Never-married</th>\n",
       "      <th>Exec-managerial</th>\n",
       "      <th>Not-in-family</th>\n",
       "      <th>Female</th>\n",
       "      <th>United-States</th>\n",
       "      <td>1</td>\n",
       "    </tr>\n",
       "    <tr>\n",
       "      <th rowspan=\"2\" valign=\"top\">Self-emp-not-inc</th>\n",
       "      <th rowspan=\"2\" valign=\"top\">7th-8th</th>\n",
       "      <th>Married-civ-spouse</th>\n",
       "      <th>Farming-fishing</th>\n",
       "      <th>Husband</th>\n",
       "      <th>Male</th>\n",
       "      <th>United-States</th>\n",
       "      <td>1</td>\n",
       "    </tr>\n",
       "    <tr>\n",
       "      <th>Never-married</th>\n",
       "      <th>Farming-fishing</th>\n",
       "      <th>Unmarried</th>\n",
       "      <th>Male</th>\n",
       "      <th>United-States</th>\n",
       "      <td>1</td>\n",
       "    </tr>\n",
       "    <tr>\n",
       "      <th rowspan=\"2\" valign=\"top\">[90,94)</th>\n",
       "      <th>Private</th>\n",
       "      <th>Senior-Secondary</th>\n",
       "      <th>Never-married</th>\n",
       "      <th>Other-service</th>\n",
       "      <th>Not-in-family</th>\n",
       "      <th>Male</th>\n",
       "      <th>United-States</th>\n",
       "      <td>1</td>\n",
       "    </tr>\n",
       "    <tr>\n",
       "      <th>Self-emp-not-inc</th>\n",
       "      <th>Prof-school</th>\n",
       "      <th>Widowed</th>\n",
       "      <th>Prof-specialty</th>\n",
       "      <th>Not-in-family</th>\n",
       "      <th>Male</th>\n",
       "      <th>United-States</th>\n",
       "      <td>1</td>\n",
       "    </tr>\n",
       "  </tbody>\n",
       "</table>\n",
       "<p>1470 rows × 1 columns</p>\n",
       "</div>"
      ],
      "text/plain": [
       "                                                                                                                     income\n",
       "age     workclass        education        marital-status     occupation        relationship   gender native-country        \n",
       "[15,19) Local-gov        Senior-Secondary Divorced           Exec-managerial   Not-in-family  Female United-States        1\n",
       "                         Some-college     Never-married      Prof-specialty    Own-child      Female United-States        1\n",
       "        Private          1st-4th          Never-married      Handlers-cleaners Other-relative Male   Mexico               1\n",
       "                         7th-8th          Never-married      Sales             Own-child      Male   Mexico               1\n",
       "                         Junior-Secondary Never-married      Handlers-cleaners Own-child      Male   United-States        2\n",
       "...                                                                                                                     ...\n",
       "[80,84) Private          Some-college     Never-married      Exec-managerial   Not-in-family  Female United-States        1\n",
       "        Self-emp-not-inc 7th-8th          Married-civ-spouse Farming-fishing   Husband        Male   United-States        1\n",
       "                                          Never-married      Farming-fishing   Unmarried      Male   United-States        1\n",
       "[90,94) Private          Senior-Secondary Never-married      Other-service     Not-in-family  Male   United-States        1\n",
       "        Self-emp-not-inc Prof-school      Widowed            Prof-specialty    Not-in-family  Male   United-States        1\n",
       "\n",
       "[1470 rows x 1 columns]"
      ]
     },
     "execution_count": 712,
     "metadata": {},
     "output_type": "execute_result"
    }
   ],
   "source": [
    "avx.groupby(list(sokucam.columns[:-1])).count()"
   ]
  },
  {
   "cell_type": "code",
   "execution_count": 68,
   "id": "bfa5b4a8-7184-4a9c-94ae-dacf748bf681",
   "metadata": {},
   "outputs": [],
   "source": [
    "#sokucam = generalizeColumn(sdf, [0, 0, 0, 0, 1, 0, 2, 2], read_DGHs('DGHs'))"
   ]
  },
  {
   "cell_type": "code",
   "execution_count": 764,
   "id": "ff6c771c-4136-41b7-8ec8-0d994be067d6",
   "metadata": {},
   "outputs": [
    {
     "data": {
      "text/plain": [
       "'def getPotentialSolutions(levels):\\n    son = []\\n    for col in [i for i in levels]:\\n        son.append(sdf[col].map(levels[col]))\\n\\n    for i in son:\\n        i.mx_level = np.max(i)\\n\\n    max_levels = [i.mx_level for i in son]\\n\\n    max_levels = np.array(max_levels)\\n\\n    currentK = getK(generalizeColumn(sdf, max_levels))\\n\\n    if currentK < KVAL:\\n        next_tries_lists = branchFromSingle(max_levels)\\n        for i in next_tries_lists:\\n            getOtherSolutions(i)\\n    else:\\n        result_lists.append(max_levels)'"
      ]
     },
     "execution_count": 764,
     "metadata": {},
     "output_type": "execute_result"
    }
   ],
   "source": [
    "\n",
    "\"\"\"def getPotentialSolutions(levels):\n",
    "    son = []\n",
    "    for col in [i for i in levels]:\n",
    "        son.append(sdf[col].map(levels[col]))\n",
    "\n",
    "    for i in son:\n",
    "        i.mx_level = np.max(i)\n",
    "\n",
    "    max_levels = [i.mx_level for i in son]\n",
    "\n",
    "    max_levels = np.array(max_levels)\n",
    "\n",
    "    currentK = getK(generalizeColumn(sdf, max_levels))\n",
    "\n",
    "    if currentK < KVAL:\n",
    "        next_tries_lists = branchFromSingle(max_levels)\n",
    "        for i in next_tries_lists:\n",
    "            getOtherSolutions(i)\n",
    "    else:\n",
    "        result_lists.append(max_levels)\"\"\""
   ]
  },
  {
   "cell_type": "code",
   "execution_count": 30,
   "id": "0eb78a22-fad7-461e-9be7-2661a7be6b5c",
   "metadata": {},
   "outputs": [],
   "source": [
    "sdf = df"
   ]
  },
  {
   "cell_type": "code",
   "execution_count": 39,
   "id": "58e11943-a065-4c13-8819-5e4bdf6be1da",
   "metadata": {},
   "outputs": [
    {
     "data": {
      "text/plain": [
       "'def getOtherSolutions(sdf, levels_list, K):\\n    #print(levels)\\n    #print(K)\\n    \\n    for levels in levels_list:\\n        levels = list(levels)\\n        if levels in tried_combinations:\\n            return None\\n        tried_combinations.append(levels)\\n\\n        levels = np.array(levels)\\n\\n        currGeneralization = generalizeColumn(sdf, levels, all_level_dict)\\n        currentK = getK(currGeneralization)\\n        kvals.append(currentK)\\n        if currentK < K:\\n            next_tries_lists = branchFromSingle(levels)\\n            return next_tries_lists\\n            #for i in next_tries_lists:\\n             #   if list(i) not in tried_combinations:\\n              #      getOtherSolutions22(sdf, i, K)\\n        else:\\n            result_lists.append(levels)\\n            for i in range(len(sdf)):\\n                if not marks[i]:\\n                    if idx != i:\\n                        dists[i] = single_LM(sdf.iloc[idx], sdf.iloc[i], DGHs)\\n            md_costs.append()'"
      ]
     },
     "execution_count": 39,
     "metadata": {},
     "output_type": "execute_result"
    }
   ],
   "source": [
    "levels = read_Levels('DGHs')\n",
    "\n",
    "def getK(df):\n",
    "    mini = np.inf\n",
    "    #print(list(df.columns[:-1]))\n",
    "    for i, d in df.groupby(list(df.columns[:-1])):\n",
    "        #print(len(d))\n",
    "        if mini > len(d):\n",
    "            mini = len(d)\n",
    "    #print(\"kanon\", mini)\n",
    "    return mini\n",
    "\n",
    "def branchFromSingle(ls):\n",
    "    levels = []\n",
    "    ls = np.array(ls)\n",
    "    for idx, num in enumerate(ls):\n",
    "        addNum = ls[idx] - 1\n",
    "        addNum = max(addNum, 0)\n",
    "        levels.append(np.concatenate([ls[:idx], [addNum], ls[idx + 1:]]))\n",
    "        \n",
    "    return levels\n",
    "\n",
    "\"\"\"def generalizeColumn(sdf, target_arr):\n",
    "    xdf = deepcopy(sdf)\n",
    "\n",
    "    for ix, col in enumerate(levels):\n",
    "        mapped_levels_df = xdf[col].map(levels[col])\n",
    "        change_indexes = mapped_levels_df.index[mapped_levels_df > target_arr[ix]].tolist()\n",
    "\n",
    "        xdf[col].loc[change_indexes] = xdf.loc[change_indexes][col].map(DGHs[col])\n",
    "    return xdf\"\"\"\n",
    "\n",
    "def generalizeColumn(sdf, target_arr, levels_dc):\n",
    "    xdf = deepcopy(sdf)\n",
    "    for ix, col in enumerate(levels_dc):\n",
    "        #print(col)\n",
    "        mapped_levels_df = xdf[col].map(levels_dc[col])\n",
    "        change_indexes = mapped_levels_df.index[mapped_levels_df > target_arr[ix]].tolist()\n",
    "\n",
    "        xdf[col].loc[change_indexes] = xdf.loc[change_indexes][col].map(DGHs[col])\n",
    "    \n",
    "    while not getCurrentLevelsDF(xdf, levels_dc) == list(target_arr):\n",
    "        #print(getCurrentLevelsDF(xdf, levels_dc), list(target_arr))\n",
    "        for ix, col in enumerate(levels_dc):\n",
    "            #print(col)\n",
    "            mapped_levels_df = xdf[col].map(levels_dc[col])\n",
    "            change_indexes = mapped_levels_df.index[mapped_levels_df > target_arr[ix]].tolist()\n",
    "\n",
    "            xdf[col].loc[change_indexes] = xdf.loc[change_indexes][col].map(DGHs[col])\n",
    "            \n",
    "    return xdf\n",
    "\n",
    "\n",
    "def getCurrentLevelsDF(df, levels):\n",
    "    res = []\n",
    "    for ix, col in enumerate(levels):\n",
    "        mapped_levels_df = df[col].map(levels[col])\n",
    "        res.append(mapped_levels_df.max())\n",
    "    return res\n",
    "\n",
    "result_lists = []\n",
    "md_costs = []\n",
    "\n",
    "son = []\n",
    "kvals = []\n",
    "tried_combinations = []\n",
    "for col in [i for i in levels]:\n",
    "    son.append(sdf[col].map(levels[col]))\n",
    "\n",
    "for i in son:\n",
    "    i.mx_level = np.max(i)\n",
    "\n",
    "max_levels = [i.mx_level for i in son]\n",
    "max_levels = np.array(max_levels)\n",
    "all_level_dict = read_Levels('DGHs')\n",
    "    \n",
    "bot_sols = []\n",
    "def getSols(sdf, levels, K):\n",
    "    levels = list(levels)\n",
    "    if levels in tried_combinations:\n",
    "        return None\n",
    "    tried_combinations.append(levels)\n",
    "\n",
    "    levels = np.array(levels)\n",
    "\n",
    "    currGeneralization = generalizeColumn(sdf, levels, all_level_dict)\n",
    "    currentK = getK(currGeneralization)\n",
    "    #kvals.append(currentK)\n",
    "    bot_sols.append((levels, currentK))\n",
    "    \n",
    "    \n",
    "def levelsEnough(current, target):\n",
    "    for idx, c in enumerate(current):\n",
    "        if c > target[idx]:\n",
    "            return False\n",
    "    return True\n",
    "            \n",
    "\"\"\"def getOtherSolutions(sdf, levels_list, K):\n",
    "    #print(levels)\n",
    "    #print(K)\n",
    "    \n",
    "    for levels in levels_list:\n",
    "        levels = list(levels)\n",
    "        if levels in tried_combinations:\n",
    "            return None\n",
    "        tried_combinations.append(levels)\n",
    "\n",
    "        levels = np.array(levels)\n",
    "\n",
    "        currGeneralization = generalizeColumn(sdf, levels, all_level_dict)\n",
    "        currentK = getK(currGeneralization)\n",
    "        kvals.append(currentK)\n",
    "        if currentK < K:\n",
    "            next_tries_lists = branchFromSingle(levels)\n",
    "            return next_tries_lists\n",
    "            #for i in next_tries_lists:\n",
    "             #   if list(i) not in tried_combinations:\n",
    "              #      getOtherSolutions22(sdf, i, K)\n",
    "        else:\n",
    "            result_lists.append(levels)\n",
    "            for i in range(len(sdf)):\n",
    "                if not marks[i]:\n",
    "                    if idx != i:\n",
    "                        dists[i] = single_LM(sdf.iloc[idx], sdf.iloc[i], DGHs)\n",
    "            md_costs.append()\"\"\"\n",
    "        \n",
    "\n",
    "\n"
   ]
  },
  {
   "cell_type": "code",
   "execution_count": 32,
   "id": "6d1c019d-05ea-48e5-81dd-5be92ed013c7",
   "metadata": {},
   "outputs": [
    {
     "data": {
      "text/plain": [
       "array([3, 4, 4, 2, 4, 1, 2, 2])"
      ]
     },
     "execution_count": 32,
     "metadata": {},
     "output_type": "execute_result"
    }
   ],
   "source": [
    "max_levels"
   ]
  },
  {
   "cell_type": "code",
   "execution_count": 33,
   "id": "d27eb248-fb19-4451-ba9a-556ba4fd86e6",
   "metadata": {},
   "outputs": [
    {
     "data": {
      "text/plain": [
       "[array([2, 4, 4, 2, 4, 1, 2, 2]),\n",
       " array([3, 3, 4, 2, 4, 1, 2, 2]),\n",
       " array([3, 4, 3, 2, 4, 1, 2, 2]),\n",
       " array([3, 4, 4, 1, 4, 1, 2, 2]),\n",
       " array([3, 4, 4, 2, 3, 1, 2, 2]),\n",
       " array([3, 4, 4, 2, 4, 0, 2, 2]),\n",
       " array([3, 4, 4, 2, 4, 1, 1, 2]),\n",
       " array([3, 4, 4, 2, 4, 1, 2, 1])]"
      ]
     },
     "execution_count": 33,
     "metadata": {},
     "output_type": "execute_result"
    }
   ],
   "source": [
    "branchFromSingle(max_levels)"
   ]
  },
  {
   "cell_type": "code",
   "execution_count": 34,
   "id": "4a13c298-09e9-43d8-9ef1-68197dad2056",
   "metadata": {},
   "outputs": [
    {
     "name": "stdout",
     "output_type": "stream",
     "text": [
      "marital-status\n",
      "[]\n",
      "0    Married-civ-spouse\n",
      "1               Widowed\n",
      "2         Never-married\n",
      "Name: marital-status, dtype: object\n",
      "xxxxxxxxxaxaxa\n",
      "0    Married-civ-spouse\n",
      "1               Widowed\n",
      "2         Never-married\n",
      "Name: marital-status, dtype: object\n",
      "native-country\n",
      "[]\n",
      "0            India\n",
      "1    United-States\n",
      "2    United-States\n",
      "Name: native-country, dtype: object\n",
      "xxxxxxxxxaxaxa\n",
      "0            India\n",
      "1    United-States\n",
      "2    United-States\n",
      "Name: native-country, dtype: object\n",
      "education\n",
      "[0, 1, 2]\n",
      "0    Bachelors\n",
      "1      HS-grad\n",
      "2         11th\n",
      "Name: education, dtype: object\n",
      "xxxxxxxxxaxaxa\n",
      "0          University\n",
      "1    Senior-Secondary\n",
      "2    Senior-Secondary\n",
      "Name: education, dtype: object\n",
      "occupation\n",
      "[]\n",
      "0     Tech-support\n",
      "1     Adm-clerical\n",
      "2    Other-service\n",
      "Name: occupation, dtype: object\n",
      "xxxxxxxxxaxaxa\n",
      "0     Tech-support\n",
      "1     Adm-clerical\n",
      "2    Other-service\n",
      "Name: occupation, dtype: object\n",
      "age\n",
      "[]\n",
      "0    27\n",
      "1    64\n",
      "2    49\n",
      "Name: age, dtype: object\n",
      "xxxxxxxxxaxaxa\n",
      "0    27\n",
      "1    64\n",
      "2    49\n",
      "Name: age, dtype: object\n",
      "gender\n",
      "[]\n",
      "0      Male\n",
      "1    Female\n",
      "2      Male\n",
      "Name: gender, dtype: object\n",
      "xxxxxxxxxaxaxa\n",
      "0      Male\n",
      "1    Female\n",
      "2      Male\n",
      "Name: gender, dtype: object\n",
      "workclass\n",
      "[]\n",
      "0    Private\n",
      "1    Private\n",
      "2    Private\n",
      "Name: workclass, dtype: object\n",
      "xxxxxxxxxaxaxa\n",
      "0    Private\n",
      "1    Private\n",
      "2    Private\n",
      "Name: workclass, dtype: object\n",
      "relationship\n",
      "[]\n",
      "0          Husband\n",
      "1        Unmarried\n",
      "2    Not-in-family\n",
      "Name: relationship, dtype: object\n",
      "xxxxxxxxxaxaxa\n",
      "0          Husband\n",
      "1        Unmarried\n",
      "2    Not-in-family\n",
      "Name: relationship, dtype: object\n"
     ]
    }
   ],
   "source": [
    "target_arr = [3, 4, 0, 2, 4, 1, 2, 2]\n",
    "\n",
    "xdf = deepcopy(sdf.iloc[:3])\n",
    "for ix, col in enumerate(levels):\n",
    "    print(col)\n",
    "    mapped_levels_df = xdf[col].map(levels[col])\n",
    "    change_indexes = mapped_levels_df.index[mapped_levels_df > target_arr[ix]].tolist()\n",
    "    print(change_indexes)\n",
    "    #print(xdf.loc[change_indexes][col].map(DGHs[col]))\n",
    "    \n",
    "    print(xdf[col])\n",
    "    xdf[col].loc[change_indexes] = xdf.loc[change_indexes][col].map(DGHs[col])\n",
    "    print('xxxxxxxxxaxaxa')\n",
    "    print(xdf[col])"
   ]
  },
  {
   "cell_type": "code",
   "execution_count": null,
   "id": "a9d12ef1-a605-41e6-9ae4-ec220e716000",
   "metadata": {},
   "outputs": [],
   "source": []
  },
  {
   "cell_type": "code",
   "execution_count": 35,
   "id": "d2fc7e1e-2791-458f-aece-efced2f0f7c6",
   "metadata": {},
   "outputs": [
    {
     "data": {
      "text/plain": [
       "0          University\n",
       "1    Senior-Secondary\n",
       "2    Senior-Secondary\n",
       "Name: education, dtype: object"
      ]
     },
     "execution_count": 35,
     "metadata": {},
     "output_type": "execute_result"
    }
   ],
   "source": [
    "xdf['education']"
   ]
  },
  {
   "cell_type": "code",
   "execution_count": 128,
   "id": "0856bec0-33a6-47d3-a763-524d74cecfef",
   "metadata": {},
   "outputs": [],
   "source": [
    "change_indexes = mapped_levels_df.index[mapped_levels_df > target_arr[ix]].tolist()"
   ]
  },
  {
   "cell_type": "code",
   "execution_count": 130,
   "id": "2c8c3a1f-30b5-4658-b9be-97e72f49d192",
   "metadata": {},
   "outputs": [
    {
     "data": {
      "text/plain": [
       "[]"
      ]
     },
     "execution_count": 130,
     "metadata": {},
     "output_type": "execute_result"
    }
   ],
   "source": [
    "change_indexes"
   ]
  },
  {
   "cell_type": "code",
   "execution_count": 129,
   "id": "9398ef31-af8e-4f73-a49f-5cdd286c40fc",
   "metadata": {},
   "outputs": [
    {
     "data": {
      "text/plain": [
       "Series([], Name: relationship, dtype: object)"
      ]
     },
     "execution_count": 129,
     "metadata": {},
     "output_type": "execute_result"
    }
   ],
   "source": [
    "xdf.loc[change_indexes][col].map(DGHs[col])"
   ]
  },
  {
   "cell_type": "code",
   "execution_count": 342,
   "id": "0691be1a-e928-4eda-9079-bf4987869edb",
   "metadata": {},
   "outputs": [
    {
     "data": {
      "text/plain": [
       "[3, 4, 4, 2, 4, 1, 2, 2]"
      ]
     },
     "execution_count": 342,
     "metadata": {},
     "output_type": "execute_result"
    }
   ],
   "source": [
    "getCurrentLevelsDF(sdf, levels)"
   ]
  },
  {
   "cell_type": "code",
   "execution_count": null,
   "id": "70dc9680-81aa-4486-8fb8-6be8e1891b75",
   "metadata": {},
   "outputs": [],
   "source": []
  },
  {
   "cell_type": "code",
   "execution_count": 257,
   "id": "8967b601-2ca3-4fae-b2a2-94a13ee96744",
   "metadata": {},
   "outputs": [],
   "source": [
    "\"*********************\"\n",
    "\n",
    "def levelsEnough(current, target):\n",
    "    for idx, c in enumerate(current):\n",
    "        if c > target[idx]:\n",
    "            return False\n",
    "    return True\n",
    "\n",
    "def generalizeColumn(sdf, target_arr, levels):\n",
    "    xdf = deepcopy(sdf)\n",
    "    while not levelsEnough(getCurrentLevelsDF(xdf, levels), list(target_arr)):\n",
    "        for ix, col in enumerate(levels):\n",
    "            mapped_levels_df = xdf[col].map(levels[col])\n",
    "            change_indexes = mapped_levels_df.index[mapped_levels_df > target_arr[ix]].tolist()\n",
    "            xdf[col].loc[change_indexes] = xdf.loc[change_indexes][col].map(DGHs[col])\n",
    "            \n",
    "    return xdf"
   ]
  },
  {
   "cell_type": "code",
   "execution_count": 41,
   "id": "91ccfb14-eda3-410d-b185-f9e7934fb615",
   "metadata": {},
   "outputs": [],
   "source": [
    "toot = []"
   ]
  },
  {
   "cell_type": "code",
   "execution_count": 42,
   "id": "4b76c4fc-8510-478a-9688-ecd2796452c4",
   "metadata": {},
   "outputs": [],
   "source": [
    "toot.append(max_levels)\n",
    "toot.append(branchFromSingle(max_levels))"
   ]
  },
  {
   "cell_type": "code",
   "execution_count": 43,
   "id": "c52c3b0c-e26a-47c0-aa7e-15cdeff46b29",
   "metadata": {},
   "outputs": [
    {
     "data": {
      "text/plain": [
       "[array([2, 4, 4, 2, 4, 1, 2, 2]),\n",
       " array([3, 3, 4, 2, 4, 1, 2, 2]),\n",
       " array([3, 4, 3, 2, 4, 1, 2, 2]),\n",
       " array([3, 4, 4, 1, 4, 1, 2, 2]),\n",
       " array([3, 4, 4, 2, 3, 1, 2, 2]),\n",
       " array([3, 4, 4, 2, 4, 0, 2, 2]),\n",
       " array([3, 4, 4, 2, 4, 1, 1, 2]),\n",
       " array([3, 4, 4, 2, 4, 1, 2, 1])]"
      ]
     },
     "execution_count": 43,
     "metadata": {},
     "output_type": "execute_result"
    }
   ],
   "source": [
    "cur = max_levels\n",
    "\n",
    "branchFromSingle(max_levels)\n",
    "\n"
   ]
  },
  {
   "cell_type": "code",
   "execution_count": 1138,
   "id": "6074c6a2-97b5-425a-840e-ff5fa1347e11",
   "metadata": {},
   "outputs": [
    {
     "data": {
      "text/plain": [
       "array([2, 4, 4, 2, 4, 0, 2, 2])"
      ]
     },
     "execution_count": 1138,
     "metadata": {},
     "output_type": "execute_result"
    }
   ],
   "source": [
    "root.childrens[0].childrens[5].val"
   ]
  },
  {
   "cell_type": "code",
   "execution_count": 1139,
   "id": "53e83c98-a830-4b87-8f42-c3fc511d6fe6",
   "metadata": {},
   "outputs": [
    {
     "data": {
      "text/plain": [
       "array([2, 3, 4, 2, 4, 0, 2, 2])"
      ]
     },
     "execution_count": 1139,
     "metadata": {},
     "output_type": "execute_result"
    }
   ],
   "source": [
    "root.childrens[0].childrens[5].childrens[1].val"
   ]
  },
  {
   "cell_type": "code",
   "execution_count": null,
   "id": "907dfe90-2d6d-4212-9783-23b49b717624",
   "metadata": {},
   "outputs": [],
   "source": []
  },
  {
   "cell_type": "code",
   "execution_count": 444,
   "id": "0d04197a-43a8-4734-a8c1-3bee86e0e48e",
   "metadata": {},
   "outputs": [],
   "source": [
    "class Tree:\n",
    "    def __init__(self, val):\n",
    "        self.val = val\n",
    "        self.childrens = []"
   ]
  },
  {
   "cell_type": "code",
   "execution_count": 408,
   "id": "22eba49b-0ec2-4b19-b8c8-5acbb1ecafb1",
   "metadata": {},
   "outputs": [],
   "source": [
    "levels_set = []\n",
    "def populateNode(node):\n",
    "    for b in branchFromSingle(node.val):\n",
    "        b = list(b)\n",
    "        if b not in levels_set:\n",
    "            levels_set.append(b)\n",
    "            node.childrens.append(Tree(b))"
   ]
  },
  {
   "cell_type": "code",
   "execution_count": 445,
   "id": "e7d0ce23-7ee3-4589-9366-7e554ef8c998",
   "metadata": {},
   "outputs": [],
   "source": [
    "def addLevel(root):\n",
    "    if root.childrens:\n",
    "        for ch in root.childrens:\n",
    "            levels_set.append(ch)\n",
    "            addLevel(ch)\n",
    "    else:\n",
    "        populateNode(root)"
   ]
  },
  {
   "cell_type": "code",
   "execution_count": 124,
   "id": "93d5ca97-01e1-401f-9d73-412ecbf25382",
   "metadata": {},
   "outputs": [
    {
     "data": {
      "text/plain": [
       "[array([0, 0, 2, 1, 4, 0, 2, 2]),\n",
       " array([0, 0, 2, 1, 4, 0, 2, 2]),\n",
       " array([0, 0, 1, 1, 4, 0, 2, 2]),\n",
       " array([0, 0, 2, 0, 4, 0, 2, 2]),\n",
       " array([0, 0, 2, 1, 3, 0, 2, 2]),\n",
       " array([0, 0, 2, 1, 4, 0, 2, 2]),\n",
       " array([0, 0, 2, 1, 4, 0, 1, 2]),\n",
       " array([0, 0, 2, 1, 4, 0, 2, 1])]"
      ]
     },
     "execution_count": 124,
     "metadata": {},
     "output_type": "execute_result"
    }
   ],
   "source": [
    "branchFromSingle(branchFromSingle(branchFromSingle(branchFromSingle(branchFromSingle([0, 0, 4, 2, 4, 0, 2, 2])[5])[3])[2])[2])"
   ]
  },
  {
   "cell_type": "code",
   "execution_count": 88,
   "id": "35e3f1c8-03f7-483e-b00e-3bc3a3daa2d8",
   "metadata": {},
   "outputs": [],
   "source": [
    "def single_LM(original, modified, DGHs) -> float:\n",
    "    qi_ls = list(original.index)[:-1]\n",
    "    \n",
    "    original = original.T.to_dict()\n",
    "    modified = modified.T.to_dict()\n",
    "    diff = 0\n",
    "\n",
    "    for k in qi_ls:\n",
    "        if original[k] != modified[k]:\n",
    "            score = (countChildren(DGHs, DGHs[k], modified[k]) - 1) / (countLeaves(DGHs, k) - 1)\n",
    "            diff += score / (len(original) - 1)\n",
    "            \n",
    "    return diff"
   ]
  },
  {
   "cell_type": "code",
   "execution_count": null,
   "id": "37325050-472f-4e05-baa6-a5ef3cdf8dae",
   "metadata": {},
   "outputs": [],
   "source": [
    "single_LM(original, modified, DGHs)"
   ]
  },
  {
   "cell_type": "code",
   "execution_count": null,
   "id": "264a5f97-eacf-4bf0-a1f8-bdc629c762a4",
   "metadata": {},
   "outputs": [],
   "source": [
    "max_levels = getCurrentLevelsDF(sdf, all_level_dict)\n",
    "print(max_levels)\n",
    "llength = len(max_levels)\n",
    "\n",
    "root = Tree(max_levels)\n",
    "populateNode(root)\n",
    "\n",
    "addLevel(root)\n",
    "addLevel(root)\n",
    "bots = []\n",
    "\n",
    "getBottoms(root)\n"
   ]
  },
  {
   "cell_type": "code",
   "execution_count": null,
   "id": "7a1125ff-d1ca-4463-af62-4d6c4943496b",
   "metadata": {},
   "outputs": [],
   "source": []
  },
  {
   "cell_type": "code",
   "execution_count": 469,
   "id": "a4ae1303-c6f3-4dd5-b98a-04a998a1208a",
   "metadata": {},
   "outputs": [],
   "source": [
    "levels_set = []"
   ]
  },
  {
   "cell_type": "code",
   "execution_count": 470,
   "id": "42a71dab-bca1-41c5-beac-50186ea44d13",
   "metadata": {},
   "outputs": [],
   "source": [
    "#generalizeColumn(sdf.iloc[0: 3], max_levels, levels)"
   ]
  },
  {
   "cell_type": "code",
   "execution_count": 471,
   "id": "af347af3-0b44-4ed0-9a84-87312a953183",
   "metadata": {},
   "outputs": [],
   "source": [
    "root = Tree(max_levels)"
   ]
  },
  {
   "cell_type": "code",
   "execution_count": 472,
   "id": "afeac746-483d-413f-86d2-54537079f683",
   "metadata": {},
   "outputs": [],
   "source": [
    "populateNode(root)"
   ]
  },
  {
   "cell_type": "code",
   "execution_count": 473,
   "id": "72d41a32-9479-4b58-838c-5d4126566441",
   "metadata": {},
   "outputs": [],
   "source": [
    "addLevel(root)"
   ]
  },
  {
   "cell_type": "code",
   "execution_count": 474,
   "id": "715b8510-b06d-4d08-9d09-6b8ea007e81b",
   "metadata": {},
   "outputs": [],
   "source": [
    "addLevel(root)"
   ]
  },
  {
   "cell_type": "code",
   "execution_count": 475,
   "id": "d5409f6f-ae7e-48c2-bbec-d3ad06f5087f",
   "metadata": {},
   "outputs": [],
   "source": [
    "addLevel(root)"
   ]
  },
  {
   "cell_type": "code",
   "execution_count": 476,
   "id": "c3047c1e-0a9d-4bdc-b90d-a466a86c60e0",
   "metadata": {},
   "outputs": [],
   "source": [
    "addLevel(root)"
   ]
  },
  {
   "cell_type": "code",
   "execution_count": 477,
   "id": "b5f22929-1d66-4eb0-af65-5c5d7019e2af",
   "metadata": {},
   "outputs": [],
   "source": [
    "addLevel(root)"
   ]
  },
  {
   "cell_type": "code",
   "execution_count": 453,
   "id": "d209bc57-9ae7-4968-976b-9fc9d9fa76a0",
   "metadata": {},
   "outputs": [],
   "source": [
    "addLevel(root)"
   ]
  },
  {
   "cell_type": "code",
   "execution_count": 454,
   "id": "350c95f1-06e3-4aa2-83eb-35bd635dc854",
   "metadata": {},
   "outputs": [],
   "source": [
    "addLevel(root)"
   ]
  },
  {
   "cell_type": "code",
   "execution_count": 439,
   "id": "0abe3773-db09-43ef-837d-ca4fb59bcea8",
   "metadata": {},
   "outputs": [],
   "source": [
    "addLevel(root)"
   ]
  },
  {
   "cell_type": "code",
   "execution_count": 440,
   "id": "bd46ffda-2df9-4e95-a0f7-33f1e4c9265c",
   "metadata": {},
   "outputs": [],
   "source": [
    "addLevel(root)"
   ]
  },
  {
   "cell_type": "code",
   "execution_count": 441,
   "id": "b43c7ef4-432a-4b20-95f5-7f51009864c3",
   "metadata": {},
   "outputs": [],
   "source": [
    "addLevel(root)"
   ]
  },
  {
   "cell_type": "code",
   "execution_count": 442,
   "id": "674f4852-5bd0-4a2d-aeb5-166c568871c9",
   "metadata": {},
   "outputs": [],
   "source": [
    "addLevel(root)"
   ]
  },
  {
   "cell_type": "code",
   "execution_count": 443,
   "id": "2d9308e8-61b7-4d1a-a7f5-e96b1bb1b504",
   "metadata": {},
   "outputs": [],
   "source": [
    "addLevel(root)"
   ]
  },
  {
   "cell_type": "code",
   "execution_count": null,
   "id": "c204dcb6-4dde-4bd1-8dfb-23d52aec3dd7",
   "metadata": {},
   "outputs": [],
   "source": []
  },
  {
   "cell_type": "code",
   "execution_count": 219,
   "id": "0d49abb1-6e23-47f0-84a7-b70b3d8cb22c",
   "metadata": {},
   "outputs": [],
   "source": [
    "def printStack(root):\n",
    "    while root.childrens:\n",
    "        print(root.childrens[0].val)\n",
    "        printStack(root.childrens[0])"
   ]
  },
  {
   "cell_type": "code",
   "execution_count": 178,
   "id": "a1027f72-2a66-4913-878b-17b9cc6a5571",
   "metadata": {},
   "outputs": [],
   "source": [
    "root = Tree(max_levels)"
   ]
  },
  {
   "cell_type": "code",
   "execution_count": 143,
   "id": "426c639c-2cbb-40b8-aeb6-1fbd165988b6",
   "metadata": {},
   "outputs": [],
   "source": [
    "#root.childrens = bots"
   ]
  },
  {
   "cell_type": "code",
   "execution_count": 220,
   "id": "51737991-d63a-4b77-9018-8b41bfcebcd1",
   "metadata": {},
   "outputs": [],
   "source": [
    "def populateNodeWithLS(node, ls):\n",
    "    for x in ls:\n",
    "        for b in branchFromSingle(x):\n",
    "            b = list(b)\n",
    "            if b not in levels_set:\n",
    "                levels_set.append(b)\n",
    "                node.childrens.append(Tree(b))"
   ]
  },
  {
   "cell_type": "code",
   "execution_count": 221,
   "id": "734d2b16-3603-4948-b3f2-7fcc47563b99",
   "metadata": {},
   "outputs": [
    {
     "data": {
      "text/plain": [
       "'def addLevelNew(root):\\n    if root.childrens:\\n        for ch in root.childrens:\\n            \\n            levels_set.append(ch)\\n            addLevel(ch)\\n    else:\\n        populateNode(root)'"
      ]
     },
     "execution_count": 221,
     "metadata": {},
     "output_type": "execute_result"
    }
   ],
   "source": [
    "'''def addLevelNew(root):\n",
    "    if root.childrens:\n",
    "        for ch in root.childrens:\n",
    "            \n",
    "            levels_set.append(ch)\n",
    "            addLevel(ch)\n",
    "    else:\n",
    "        populateNode(root)'''"
   ]
  },
  {
   "cell_type": "code",
   "execution_count": 169,
   "id": "bfeed88f-f353-48b6-864e-ccfa638dc117",
   "metadata": {},
   "outputs": [],
   "source": [
    "populateNodeWithLS(root, bots)"
   ]
  },
  {
   "cell_type": "code",
   "execution_count": 231,
   "id": "a9408438-431d-476b-986e-220d542c12d7",
   "metadata": {},
   "outputs": [],
   "source": [
    "addLevel(root)"
   ]
  },
  {
   "cell_type": "code",
   "execution_count": 171,
   "id": "60e13e2b-499d-447a-94eb-bd2e446fa3ad",
   "metadata": {},
   "outputs": [],
   "source": [
    "addLevel(root)"
   ]
  },
  {
   "cell_type": "code",
   "execution_count": 228,
   "id": "5aa0aad0-979c-410e-b1a2-9de576a53243",
   "metadata": {},
   "outputs": [],
   "source": [
    "addLevel(root)"
   ]
  },
  {
   "cell_type": "code",
   "execution_count": 343,
   "id": "18e7dd1f-8bbc-4012-a1a4-c5d4eb86f7cb",
   "metadata": {},
   "outputs": [],
   "source": [
    "def getValidCombinations(ls, df, all_level_dict, K):\n",
    "    res = []\n",
    "    for lv in ls:\n",
    "        currGeneralization = generalizeColumn(df, lv, all_level_dict)\n",
    "        curK = getK(currGeneralization)\n",
    "        \n",
    "        if curK >= K:\n",
    "            res.append(lv)\n",
    "            \n",
    "    return res"
   ]
  },
  {
   "cell_type": "code",
   "execution_count": 83,
   "id": "5a57519d-955e-4a17-a875-170303a71afa",
   "metadata": {},
   "outputs": [
    {
     "data": {
      "text/plain": [
       "0"
      ]
     },
     "execution_count": 83,
     "metadata": {},
     "output_type": "execute_result"
    }
   ],
   "source": [
    "np.argmin(np.sum(bots, axis=1))"
   ]
  },
  {
   "cell_type": "code",
   "execution_count": 225,
   "id": "5bce36fd-fb98-47e9-9c45-44c4582e62fa",
   "metadata": {},
   "outputs": [],
   "source": [
    "def getBottoms(root):\n",
    "    if root.childrens:\n",
    "        for ch in root.childrens:\n",
    "            getBottoms(ch)\n",
    "    else:\n",
    "        l = list(root.val)\n",
    "        if not l in bots:\n",
    "            bots.append(l)\n",
    "        #print(root.val)"
   ]
  },
  {
   "cell_type": "code",
   "execution_count": 232,
   "id": "744b696f-946b-49ac-9518-71f2fc9fca5d",
   "metadata": {},
   "outputs": [],
   "source": [
    "bots = []\n",
    "getBottoms(root)"
   ]
  },
  {
   "cell_type": "code",
   "execution_count": 235,
   "id": "3fd906fb-4b7a-45d2-824d-a3434a369be1",
   "metadata": {},
   "outputs": [
    {
     "data": {
      "text/plain": [
       "0"
      ]
     },
     "execution_count": 235,
     "metadata": {},
     "output_type": "execute_result"
    }
   ],
   "source": [
    "np.argmin(np.array(bots).sum(axis=1))"
   ]
  },
  {
   "cell_type": "code",
   "execution_count": 1144,
   "id": "3f662d0d-7dfa-420e-996f-bd2da4171cc0",
   "metadata": {},
   "outputs": [
    {
     "data": {
      "text/plain": [
       "'mini = np.inf\\nbb = []\\nfor i, d in currGeneralization.groupby(list(currGeneralization.columns[:-1])):\\n    #print(len(d))\\n    print(d, len(d))\\n    bb.append(d)\\n    if mini > len(d):\\n        mini = len(d)'"
      ]
     },
     "execution_count": 1144,
     "metadata": {},
     "output_type": "execute_result"
    }
   ],
   "source": [
    "'''mini = np.inf\n",
    "bb = []\n",
    "for i, d in currGeneralization.groupby(list(currGeneralization.columns[:-1])):\n",
    "    #print(len(d))\n",
    "    print(d, len(d))\n",
    "    bb.append(d)\n",
    "    if mini > len(d):\n",
    "        mini = len(d)'''"
   ]
  },
  {
   "cell_type": "code",
   "execution_count": 1145,
   "id": "e5af530a-eb47-4e65-9c04-8004f71c5598",
   "metadata": {},
   "outputs": [
    {
     "data": {
      "text/plain": [
       "1"
      ]
     },
     "execution_count": 1145,
     "metadata": {},
     "output_type": "execute_result"
    }
   ],
   "source": [
    "mini"
   ]
  },
  {
   "cell_type": "code",
   "execution_count": 1146,
   "id": "9f730437-a05a-4645-bd49-1d9bfb810c07",
   "metadata": {},
   "outputs": [],
   "source": [
    "#getCurrentLevelsDF(currGeneralization, all_level_dict)"
   ]
  },
  {
   "cell_type": "code",
   "execution_count": 241,
   "id": "c818d0d4-53a6-4205-926e-4e79daaf8b9a",
   "metadata": {},
   "outputs": [],
   "source": [
    "def getNexts(bots):\n",
    "    res = []\n",
    "    for i in bots:\n",
    "        for x in branchFromSingle(i):\n",
    "            x = list(x)\n",
    "            if x not in res:\n",
    "                res.append(x)\n",
    "        \n",
    "    return res"
   ]
  },
  {
   "cell_type": "code",
   "execution_count": 243,
   "id": "bae97f18-789f-459c-a1f2-859baf2af763",
   "metadata": {},
   "outputs": [
    {
     "data": {
      "text/plain": [
       "9717"
      ]
     },
     "execution_count": 243,
     "metadata": {},
     "output_type": "execute_result"
    }
   ],
   "source": [
    "len(getNexts(bots))"
   ]
  },
  {
   "cell_type": "code",
   "execution_count": 265,
   "id": "65126148-d870-40c9-99e6-3e1bf68de4d2",
   "metadata": {},
   "outputs": [],
   "source": [
    "net = []\n",
    "for lv in getNexts(bots):\n",
    "    currGeneralization = generalizeColumn(sdf, lv, all_level_dict)\n",
    "    net.append((lv, getK(currGeneralization)))"
   ]
  },
  {
   "cell_type": "code",
   "execution_count": 333,
   "id": "3e44bf84-6d42-4692-8aa5-ef5565b4f12c",
   "metadata": {},
   "outputs": [],
   "source": [
    "newl = []\n",
    "for i, j in net:\n",
    "    if i not in newl:\n",
    "        newl.append(i)"
   ]
  },
  {
   "cell_type": "code",
   "execution_count": 325,
   "id": "d19983f9-8c7f-4912-a044-841a7ee9e632",
   "metadata": {},
   "outputs": [],
   "source": [
    "oo = getNexts(newl)"
   ]
  },
  {
   "cell_type": "code",
   "execution_count": 337,
   "id": "d34ad6c5-7f94-4f03-aab5-52f6b13123e5",
   "metadata": {},
   "outputs": [],
   "source": [
    "all_visited = []"
   ]
  },
  {
   "cell_type": "code",
   "execution_count": 338,
   "id": "dc518b81-50ba-4f16-95e7-05836936c846",
   "metadata": {},
   "outputs": [],
   "source": [
    "net = []\n",
    "for lv in getNexts(newl):\n",
    "    if lv not in net:\n",
    "        currGeneralization = generalizeColumn(sdf, lv, all_level_dict)\n",
    "        all_visited.append(lv)\n",
    "        net.append((lv, getK(currGeneralization)))"
   ]
  },
  {
   "cell_type": "code",
   "execution_count": 335,
   "id": "f79fc970-05a9-443c-bad3-d0c44e22161d",
   "metadata": {},
   "outputs": [
    {
     "data": {
      "text/plain": [
       "[0, 0, 0, 0, 2, 1, 2, 2]"
      ]
     },
     "execution_count": 335,
     "metadata": {},
     "output_type": "execute_result"
    }
   ],
   "source": [
    "newl[0]"
   ]
  },
  {
   "cell_type": "code",
   "execution_count": 336,
   "id": "fb11cfd9-2a81-460b-b85a-96411c0be0ce",
   "metadata": {},
   "outputs": [
    {
     "data": {
      "text/plain": [
       "[array([0, 0, 0, 0, 2, 1, 2, 2]),\n",
       " array([0, 0, 0, 0, 2, 1, 2, 2]),\n",
       " array([0, 0, 0, 0, 2, 1, 2, 2]),\n",
       " array([0, 0, 0, 0, 2, 1, 2, 2]),\n",
       " array([0, 0, 0, 0, 1, 1, 2, 2]),\n",
       " array([0, 0, 0, 0, 2, 0, 2, 2]),\n",
       " array([0, 0, 0, 0, 2, 1, 1, 2]),\n",
       " array([0, 0, 0, 0, 2, 1, 2, 1])]"
      ]
     },
     "execution_count": 336,
     "metadata": {},
     "output_type": "execute_result"
    }
   ],
   "source": [
    "branchFromSingle(newl[0])"
   ]
  },
  {
   "cell_type": "code",
   "execution_count": null,
   "id": "664e8118-cbfd-4d7e-8671-cd6aaecdc9a2",
   "metadata": {},
   "outputs": [],
   "source": []
  },
  {
   "cell_type": "code",
   "execution_count": 320,
   "id": "fbeb9314-5751-4afb-9109-2a01682d6653",
   "metadata": {},
   "outputs": [],
   "source": [
    "acce = generalizeColumn(sdf, [0, 0, 1, 2, 0, 0, 0, 0], all_level_dict)"
   ]
  },
  {
   "cell_type": "code",
   "execution_count": 321,
   "id": "b0e2aa19-c0e1-419e-93d2-b02597d734b9",
   "metadata": {},
   "outputs": [],
   "source": [
    "#acce.to_csv('acce.csv')"
   ]
  },
  {
   "cell_type": "code",
   "execution_count": 322,
   "id": "fb81b0b7-89ec-489f-8045-a9d36272bdb1",
   "metadata": {},
   "outputs": [
    {
     "data": {
      "text/plain": [
       "7"
      ]
     },
     "execution_count": 322,
     "metadata": {},
     "output_type": "execute_result"
    }
   ],
   "source": [
    "np.min(acce.groupby(list(acce.columns[:-1])).count()['income'])"
   ]
  },
  {
   "cell_type": "code",
   "execution_count": 341,
   "id": "eb715efb-79d6-487c-86e7-107d26fb1660",
   "metadata": {},
   "outputs": [
    {
     "data": {
      "text/plain": [
       "matrix([[0],\n",
       "        [0],\n",
       "        [0],\n",
       "        ...,\n",
       "        [0],\n",
       "        [0],\n",
       "        [0]])"
      ]
     },
     "execution_count": 341,
     "metadata": {},
     "output_type": "execute_result"
    }
   ],
   "source": [
    "np.argsort(np.matrix(net)[:, 1])"
   ]
  },
  {
   "cell_type": "code",
   "execution_count": 258,
   "id": "1e163790-9abd-465e-943b-5e771d14cf4a",
   "metadata": {},
   "outputs": [
    {
     "name": "stdout",
     "output_type": "stream",
     "text": [
      "1\n"
     ]
    }
   ],
   "source": [
    "currGeneralization = generalizeColumn(sdf, bots[0], all_level_dict)\n",
    "print(getK(currGeneralization))"
   ]
  },
  {
   "cell_type": "code",
   "execution_count": 259,
   "id": "df50aff0-dae4-40cf-a1f9-cf140fbfd3a2",
   "metadata": {},
   "outputs": [
    {
     "data": {
      "text/html": [
       "<div>\n",
       "<style scoped>\n",
       "    .dataframe tbody tr th:only-of-type {\n",
       "        vertical-align: middle;\n",
       "    }\n",
       "\n",
       "    .dataframe tbody tr th {\n",
       "        vertical-align: top;\n",
       "    }\n",
       "\n",
       "    .dataframe thead th {\n",
       "        text-align: right;\n",
       "    }\n",
       "</style>\n",
       "<table border=\"1\" class=\"dataframe\">\n",
       "  <thead>\n",
       "    <tr style=\"text-align: right;\">\n",
       "      <th></th>\n",
       "      <th>age</th>\n",
       "      <th>workclass</th>\n",
       "      <th>education</th>\n",
       "      <th>marital-status</th>\n",
       "      <th>occupation</th>\n",
       "      <th>relationship</th>\n",
       "      <th>gender</th>\n",
       "      <th>native-country</th>\n",
       "      <th>income</th>\n",
       "    </tr>\n",
       "  </thead>\n",
       "  <tbody>\n",
       "    <tr>\n",
       "      <th>0</th>\n",
       "      <td>[20,30)</td>\n",
       "      <td>Private</td>\n",
       "      <td>Any</td>\n",
       "      <td>Any</td>\n",
       "      <td>Any</td>\n",
       "      <td>Husband</td>\n",
       "      <td>Male</td>\n",
       "      <td>Any</td>\n",
       "      <td>&gt;50K</td>\n",
       "    </tr>\n",
       "    <tr>\n",
       "      <th>1</th>\n",
       "      <td>[60,70)</td>\n",
       "      <td>Private</td>\n",
       "      <td>Any</td>\n",
       "      <td>Any</td>\n",
       "      <td>Any</td>\n",
       "      <td>Unmarried</td>\n",
       "      <td>Female</td>\n",
       "      <td>Any</td>\n",
       "      <td>&lt;=50K</td>\n",
       "    </tr>\n",
       "    <tr>\n",
       "      <th>2</th>\n",
       "      <td>[40,50)</td>\n",
       "      <td>Private</td>\n",
       "      <td>Any</td>\n",
       "      <td>Any</td>\n",
       "      <td>Any</td>\n",
       "      <td>Not-in-family</td>\n",
       "      <td>Male</td>\n",
       "      <td>Any</td>\n",
       "      <td>&lt;=50K</td>\n",
       "    </tr>\n",
       "    <tr>\n",
       "      <th>3</th>\n",
       "      <td>[40,50)</td>\n",
       "      <td>Private</td>\n",
       "      <td>Any</td>\n",
       "      <td>Any</td>\n",
       "      <td>Any</td>\n",
       "      <td>Husband</td>\n",
       "      <td>Male</td>\n",
       "      <td>Any</td>\n",
       "      <td>&lt;=50K</td>\n",
       "    </tr>\n",
       "    <tr>\n",
       "      <th>4</th>\n",
       "      <td>[30,40)</td>\n",
       "      <td>Private</td>\n",
       "      <td>Any</td>\n",
       "      <td>Any</td>\n",
       "      <td>Any</td>\n",
       "      <td>Husband</td>\n",
       "      <td>Male</td>\n",
       "      <td>Any</td>\n",
       "      <td>&gt;50K</td>\n",
       "    </tr>\n",
       "    <tr>\n",
       "      <th>...</th>\n",
       "      <td>...</td>\n",
       "      <td>...</td>\n",
       "      <td>...</td>\n",
       "      <td>...</td>\n",
       "      <td>...</td>\n",
       "      <td>...</td>\n",
       "      <td>...</td>\n",
       "      <td>...</td>\n",
       "      <td>...</td>\n",
       "    </tr>\n",
       "    <tr>\n",
       "      <th>1995</th>\n",
       "      <td>[40,50)</td>\n",
       "      <td>Private</td>\n",
       "      <td>Any</td>\n",
       "      <td>Any</td>\n",
       "      <td>Any</td>\n",
       "      <td>Not-in-family</td>\n",
       "      <td>Female</td>\n",
       "      <td>Any</td>\n",
       "      <td>&lt;=50K</td>\n",
       "    </tr>\n",
       "    <tr>\n",
       "      <th>1996</th>\n",
       "      <td>[40,50)</td>\n",
       "      <td>Private</td>\n",
       "      <td>Any</td>\n",
       "      <td>Any</td>\n",
       "      <td>Any</td>\n",
       "      <td>Own-child</td>\n",
       "      <td>Male</td>\n",
       "      <td>Any</td>\n",
       "      <td>&lt;=50K</td>\n",
       "    </tr>\n",
       "    <tr>\n",
       "      <th>1997</th>\n",
       "      <td>[40,50)</td>\n",
       "      <td>Self-emp-not-inc</td>\n",
       "      <td>Any</td>\n",
       "      <td>Any</td>\n",
       "      <td>Any</td>\n",
       "      <td>Husband</td>\n",
       "      <td>Male</td>\n",
       "      <td>Any</td>\n",
       "      <td>&lt;=50K</td>\n",
       "    </tr>\n",
       "    <tr>\n",
       "      <th>1998</th>\n",
       "      <td>[30,40)</td>\n",
       "      <td>Private</td>\n",
       "      <td>Any</td>\n",
       "      <td>Any</td>\n",
       "      <td>Any</td>\n",
       "      <td>Own-child</td>\n",
       "      <td>Male</td>\n",
       "      <td>Any</td>\n",
       "      <td>&lt;=50K</td>\n",
       "    </tr>\n",
       "    <tr>\n",
       "      <th>1999</th>\n",
       "      <td>[50,60)</td>\n",
       "      <td>Self-emp-inc</td>\n",
       "      <td>Any</td>\n",
       "      <td>Any</td>\n",
       "      <td>Any</td>\n",
       "      <td>Not-in-family</td>\n",
       "      <td>Male</td>\n",
       "      <td>Any</td>\n",
       "      <td>&gt;50K</td>\n",
       "    </tr>\n",
       "  </tbody>\n",
       "</table>\n",
       "<p>2000 rows × 9 columns</p>\n",
       "</div>"
      ],
      "text/plain": [
       "          age         workclass education marital-status occupation  \\\n",
       "0     [20,30)           Private       Any            Any        Any   \n",
       "1     [60,70)           Private       Any            Any        Any   \n",
       "2     [40,50)           Private       Any            Any        Any   \n",
       "3     [40,50)           Private       Any            Any        Any   \n",
       "4     [30,40)           Private       Any            Any        Any   \n",
       "...       ...               ...       ...            ...        ...   \n",
       "1995  [40,50)           Private       Any            Any        Any   \n",
       "1996  [40,50)           Private       Any            Any        Any   \n",
       "1997  [40,50)  Self-emp-not-inc       Any            Any        Any   \n",
       "1998  [30,40)           Private       Any            Any        Any   \n",
       "1999  [50,60)      Self-emp-inc       Any            Any        Any   \n",
       "\n",
       "       relationship  gender native-country income  \n",
       "0           Husband    Male            Any   >50K  \n",
       "1         Unmarried  Female            Any  <=50K  \n",
       "2     Not-in-family    Male            Any  <=50K  \n",
       "3           Husband    Male            Any  <=50K  \n",
       "4           Husband    Male            Any   >50K  \n",
       "...             ...     ...            ...    ...  \n",
       "1995  Not-in-family  Female            Any  <=50K  \n",
       "1996      Own-child    Male            Any  <=50K  \n",
       "1997        Husband    Male            Any  <=50K  \n",
       "1998      Own-child    Male            Any  <=50K  \n",
       "1999  Not-in-family    Male            Any   >50K  \n",
       "\n",
       "[2000 rows x 9 columns]"
      ]
     },
     "execution_count": 259,
     "metadata": {},
     "output_type": "execute_result"
    }
   ],
   "source": [
    "currGeneralization"
   ]
  },
  {
   "cell_type": "code",
   "execution_count": 413,
   "id": "6862f67b-c1e9-4ac3-ad0c-3c9102b313fc",
   "metadata": {},
   "outputs": [],
   "source": [
    "#currGeneralization.groupby(list(currGeneralization.columns)[:-1]).count()"
   ]
  },
  {
   "cell_type": "code",
   "execution_count": 414,
   "id": "9bc177bb-520f-4485-bfec-70c332c9e433",
   "metadata": {},
   "outputs": [],
   "source": [
    "#getK(currGeneralization)"
   ]
  },
  {
   "cell_type": "code",
   "execution_count": 415,
   "id": "e261281e-3680-4435-9dc0-0ed94cbc7a1c",
   "metadata": {},
   "outputs": [],
   "source": [
    "#getK(currGeneralization)"
   ]
  },
  {
   "cell_type": "code",
   "execution_count": 99,
   "id": "bc95bccf-5231-4da4-8159-edd217b9467c",
   "metadata": {},
   "outputs": [],
   "source": [
    "bot_sols = []\n",
    "tried_combinations = []\n",
    "for lv in bots:\n",
    "    getSols(sdf, lv, 5)"
   ]
  },
  {
   "cell_type": "code",
   "execution_count": 100,
   "id": "5c7f89a0-66b7-4893-9993-23bc557cae29",
   "metadata": {},
   "outputs": [
    {
     "name": "stderr",
     "output_type": "stream",
     "text": [
      "/Users/berke/opt/anaconda3/envs/market-courier-assignment/lib/python3.8/site-packages/numpy/matrixlib/defmatrix.py:145: VisibleDeprecationWarning: Creating an ndarray from ragged nested sequences (which is a list-or-tuple of lists-or-tuples-or ndarrays with different lengths or shapes) is deprecated. If you meant to do this, you must specify 'dtype=object' when creating the ndarray.\n",
      "  arr = N.array(data, dtype=dtype, copy=copy)\n"
     ]
    },
    {
     "data": {
      "text/plain": [
       "1"
      ]
     },
     "execution_count": 100,
     "metadata": {},
     "output_type": "execute_result"
    }
   ],
   "source": [
    "np.max(np.matrix(bot_sols)[:, 1])"
   ]
  },
  {
   "cell_type": "code",
   "execution_count": null,
   "id": "51e51583-55bb-4166-904c-0193a2ad10c9",
   "metadata": {},
   "outputs": [],
   "source": []
  },
  {
   "cell_type": "code",
   "execution_count": 478,
   "id": "cec509b8-ca62-4b30-a643-190392d77b19",
   "metadata": {},
   "outputs": [
    {
     "data": {
      "text/plain": [
       "[3, 4, 4, 2, 4, 1, 2, 2]"
      ]
     },
     "execution_count": 478,
     "metadata": {},
     "output_type": "execute_result"
    }
   ],
   "source": [
    "max_levels"
   ]
  },
  {
   "cell_type": "code",
   "execution_count": 479,
   "id": "a5b4839f-1d94-445e-8bc7-0e618dde76d1",
   "metadata": {},
   "outputs": [
    {
     "name": "stdout",
     "output_type": "stream",
     "text": [
      "[3, 4, 4, 2, 4, 1, 2, 2]\n"
     ]
    }
   ],
   "source": [
    "levels_set = []\n",
    "max_levels = getCurrentLevelsDF(sdf, all_level_dict)\n",
    "print(max_levels)\n",
    "llength = len(max_levels)\n",
    "\n",
    "root = Tree(max_levels)\n",
    "populateNode(root)\n",
    "\n",
    "addLevel(root)\n",
    "addLevel(root)\n",
    "addLevel(root)\n",
    "addLevel(root)\n",
    "bots = []\n",
    "\n",
    "getBottoms(root)\n"
   ]
  },
  {
   "cell_type": "code",
   "execution_count": null,
   "id": "0e8c0751-3b6a-4427-abc7-1e33e9133d81",
   "metadata": {},
   "outputs": [],
   "source": [
    "for i in range(4):\n",
    "    addLevel(root)\n",
    "    bots = []\n",
    "    getBottoms(root)\n",
    "    ret_ls = getValidCombinations(bots, sdf, all_level_dict, 5)\n",
    "        "
   ]
  },
  {
   "cell_type": "code",
   "execution_count": 481,
   "id": "8946d633-029f-4918-bfab-c7fd419948af",
   "metadata": {},
   "outputs": [],
   "source": [
    "#bots"
   ]
  },
  {
   "cell_type": "code",
   "execution_count": null,
   "id": "a77113c5-35bd-4d8f-95cb-10df113da421",
   "metadata": {},
   "outputs": [],
   "source": []
  },
  {
   "cell_type": "code",
   "execution_count": 369,
   "id": "655cc2c4-1803-4a02-86a9-c19addd68685",
   "metadata": {},
   "outputs": [
    {
     "data": {
      "text/plain": [
       "[[3, 4, 4, 2, 4, 1, 2, 2]]"
      ]
     },
     "execution_count": 369,
     "metadata": {},
     "output_type": "execute_result"
    }
   ],
   "source": [
    "bots"
   ]
  },
  {
   "cell_type": "code",
   "execution_count": 526,
   "id": "a43f49b3-5740-4d7f-9e42-4011a12a1950",
   "metadata": {},
   "outputs": [],
   "source": [
    "def levelsEnough(current, target):\n",
    "    for idx, c in enumerate(current):\n",
    "        if c > target[idx]:\n",
    "            return False\n",
    "    return True\n",
    "\n",
    "\n",
    "def getCurrentLevelsDF(df, levels):\n",
    "    res = []\n",
    "    for ix, col in enumerate(levels):\n",
    "        mapped_levels_df = df[col].map(levels[col])\n",
    "        res.append(mapped_levels_df.max())\n",
    "    return res\n",
    "\n",
    "def generalizeColumn(sdf, target_arr, levels):\n",
    "    xdf = deepcopy(sdf)\n",
    "    while not levelsEnough(getCurrentLevelsDF(xdf, levels), list(target_arr)):\n",
    "        for ix, col in enumerate(levels):\n",
    "            mapped_levels_df = xdf[col].map(levels[col])\n",
    "            change_indexes = mapped_levels_df.index[mapped_levels_df > target_arr[ix]].tolist()\n",
    "            xdf[col].loc[change_indexes] = xdf.loc[change_indexes][col].map(DGHs[col])\n",
    "            \n",
    "    return xdf\n",
    "\n",
    "\n",
    "class Tree:\n",
    "    def __init__(self, val):\n",
    "        self.val = val\n",
    "        self.childrens = []\n",
    "\n",
    "levels_set = []\n",
    "def populateNode(node):\n",
    "    for b in branchFromSingle(node.val):\n",
    "        b = list(b)\n",
    "        if b not in levels_set:\n",
    "            levels_set.append(b)\n",
    "            node.childrens.append(Tree(b))\n",
    "\n",
    "\n",
    "def addLevel(root):\n",
    "    if root.childrens:\n",
    "        for ch in root.childrens:\n",
    "            levels_set.append(ch)\n",
    "            addLevel(ch)\n",
    "    else:\n",
    "        populateNode(root)\n",
    "\n",
    "        \n",
    "        \n",
    "levels_set = []\n",
    "def populateNode(node):\n",
    "    for b in branchFromSingle(node.val):\n",
    "        b = list(b)\n",
    "        if b not in levels_set:\n",
    "            levels_set.append(b)\n",
    "            node.childrens.append(Tree(b))\n",
    "            \n",
    "def addLevel(root):\n",
    "    if root.childrens:\n",
    "        for ch in root.childrens:\n",
    "            levels_set.append(ch)\n",
    "            addLevel(ch)\n",
    "    else:\n",
    "        populateNode(root)\n",
    "        \n",
    "def populateNodeWithLS(node, ls):\n",
    "    for x in ls:\n",
    "        for b in branchFromSingle(x):\n",
    "            b = list(b)\n",
    "            if b not in levels_set:\n",
    "                levels_set.append(b)\n",
    "                node.childrens.append(Tree(b))\n",
    "\n",
    "def getBottoms(root):\n",
    "    if root.childrens:\n",
    "        for ch in root.childrens:\n",
    "            getBottoms(ch)\n",
    "    else:\n",
    "        l = list(root.val)\n",
    "        #print('in getbottoms', l)\n",
    "        #print(bots)\n",
    "        if not l in bots:\n",
    "            #print('in getbottoms appending', l)\n",
    "            bots.append(l)\n",
    "\n",
    "\n",
    "def getNexts(bots):\n",
    "    res = []\n",
    "    for i in bots:\n",
    "        for x in branchFromSingle(i):\n",
    "            y = x - 1\n",
    "            y[y < 0] = 0\n",
    "            x = list(x)\n",
    "            y = list(y)\n",
    "            if x not in res and x not in all_tried:\n",
    "               \tres.append(x)\n",
    "                all_tried.append(x)\n",
    "                \n",
    "            if y not in res and y not in all_tried:\n",
    "               \tres.append(y)\n",
    "                all_tried.append(y)\n",
    "        \n",
    "    return res\n",
    "\n",
    "def getValidCombinations(ls, df, all_level_dict, K):\n",
    "    res = []\n",
    "    for lv in ls:\n",
    "        currGeneralization = generalizeColumn(df, lv, all_level_dict)\n",
    "        curK = getK(currGeneralization)\n",
    "        #print(lv)\n",
    "        #print(curK)\n",
    "        if curK >= 2:\n",
    "            print(lv, curK)\n",
    "        if curK >= K:\n",
    "            res.append(lv)\n",
    "            \n",
    "    return res\n",
    "\n",
    "\n",
    "all_tried = []\n",
    "global bots\n",
    "bots = []\n",
    "levels_set = []\n",
    "\n",
    "def getPossibleBottomUpSolutions(sdf, all_level_dict, K):\n",
    "    max_levels = getCurrentLevelsDF(sdf, all_level_dict)\n",
    "    print(max_levels)\n",
    "    llength = len(max_levels)\n",
    "    global bots\n",
    "    root = Tree(max_levels)\n",
    "    populateNode(root)\n",
    "    #bots = []\n",
    "    for i in range(4):\n",
    "        addLevel(root)\n",
    "        bots = []\n",
    "        #print(bots)\n",
    "        getBottoms(root)\n",
    "        ret_ls = getValidCombinations(bots, sdf, all_level_dict, K)\n",
    "\n",
    "        if ret_ls:\n",
    "            return ret_ls\n",
    "    \n",
    "    print('For ended ', len(bots))\n",
    "    #bots = []\n",
    "    getBottoms(root)\n",
    "\n",
    "    any_comb = []\n",
    "    for i in range(llength - 1):\n",
    "        any_comb.append(0)\n",
    "\n",
    "    while True:\n",
    "        ret_ls = getValidCombinations(bots, sdf, all_level_dict, K)\n",
    "\n",
    "        if ret_ls:\n",
    "            return ret_ls\n",
    "\n",
    "        bots = getNexts(bots)\n",
    "        print(len(bots))\n",
    "\n",
    "        if any_comb in bots:\n",
    "            return any_comb\n"
   ]
  },
  {
   "cell_type": "code",
   "execution_count": 527,
   "id": "98e370a4-020b-4dcd-a414-dd96130b6d7a",
   "metadata": {},
   "outputs": [
    {
     "name": "stdout",
     "output_type": "stream",
     "text": [
      "[3, 4, 4, 2, 4, 1, 2, 2]\n",
      "For ended  591\n",
      "2000\n",
      "1881\n",
      "[0, 0, 0, 0, 2, 0, 0, 0] 2\n",
      "[0, 0, 1, 0, 1, 0, 0, 0] 182\n",
      "[0, 1, 0, 0, 2, 0, 0, 0] 2\n",
      "[0, 1, 1, 0, 1, 0, 0, 0] 2\n",
      "[0, 1, 0, 0, 1, 0, 0, 0] 5\n",
      "[0, 1, 1, 0, 0, 0, 0, 0] 9\n",
      "[0, 0, 0, 0, 1, 0, 0, 0] 393\n",
      "[0, 0, 1, 0, 0, 0, 0, 0] 911\n",
      "[0, 1, 0, 0, 0, 0, 0, 0] 30\n",
      "[0, 0, 0, 0, 0, 0, 0, 0] 2000\n",
      "[1, 0, 1, 0, 1, 0, 0, 0] 4\n",
      "[1, 0, 0, 0, 1, 0, 0, 0] 17\n",
      "[1, 0, 1, 0, 0, 0, 0, 0] 304\n",
      "[1, 0, 0, 0, 0, 0, 0, 0] 675\n",
      "[1, 1, 0, 0, 1, 0, 0, 0] 5\n",
      "[1, 1, 0, 0, 0, 0, 0, 0] 8\n"
     ]
    }
   ],
   "source": [
    "ret_solutions = getPossibleBottomUpSolutions(sdf, all_level_dict, 5)"
   ]
  },
  {
   "cell_type": "code",
   "execution_count": 576,
   "id": "9728068e-db51-4f7a-af61-544e6b49ac5b",
   "metadata": {},
   "outputs": [],
   "source": [
    "def single_LM(original, modified, DGHs) -> float:\n",
    "    qi_ls = list(original.index)[:-1]\n",
    "    \n",
    "    original = original.T.to_dict()\n",
    "    modified = modified.T.to_dict()\n",
    "    diff = 0\n",
    "\n",
    "    for k in qi_ls:\n",
    "        if original[k] != modified[k]:\n",
    "            score = (countChildren(DGHs, DGHs[k], modified[k]) - 1) / (countLeaves(DGHs, k) - 1)\n",
    "            diff += score / (len(original) - 1)\n",
    "            \n",
    "    return diff"
   ]
  },
  {
   "cell_type": "code",
   "execution_count": 577,
   "id": "03b97f8e-7bc3-42a8-9ba0-f8a1c9575d38",
   "metadata": {},
   "outputs": [],
   "source": [
    "def countLeaves(DGHs, k):\n",
    "    counter = {}\n",
    "    dc = DGHs[k]\n",
    "    for k in dc:\n",
    "        val = dc[k]\n",
    "        counter[val] = counter.get(val, 0) + 1\n",
    "    \n",
    "    return len(set(dc) - set(counter))\n",
    "\n",
    "def isLeaf(nd, dc):\n",
    "    return not (nd in [v for k, v in dc.items()])\n",
    "\n",
    "def countChildren(DGHs, dc, name):\n",
    "    if isLeaf(name, dc):\n",
    "        return 1\n",
    "    res = 0\n",
    "    chls = []\n",
    "    for k in dc:\n",
    "        val = dc[k]\n",
    "        if val == name and name != k:\n",
    "            chls.append(k)\n",
    "            \n",
    "    tt = 0\n",
    "    for i in chls:\n",
    "        tt += countChildren(DGHs, dc, i)\n",
    "\n",
    "    return res + tt"
   ]
  },
  {
   "cell_type": "code",
   "execution_count": null,
   "id": "169a0a7b-06d2-4483-8be6-a6e0394f7a17",
   "metadata": {},
   "outputs": [],
   "source": []
  },
  {
   "cell_type": "code",
   "execution_count": 582,
   "id": "6c1dc53f-d294-474c-96d4-e3adc12e39de",
   "metadata": {},
   "outputs": [],
   "source": [
    "def genCost(sdf, changed, DGHs):\n",
    "    s = 0\n",
    "    for i in range(len(sdf)):\n",
    "        a = changed.iloc[i]\n",
    "        b = sdf.iloc[i]\n",
    "        s += single_LM(b, a, DGHs)\n",
    "        \n",
    "    return s"
   ]
  },
  {
   "cell_type": "code",
   "execution_count": null,
   "id": "2a85e398-7162-4d9a-b55a-9df5138fd003",
   "metadata": {},
   "outputs": [],
   "source": []
  },
  {
   "cell_type": "code",
   "execution_count": 583,
   "id": "b3a4c954-90c7-4271-b113-75d527fb9b8a",
   "metadata": {},
   "outputs": [],
   "source": [
    "lm_costs = []\n",
    "for sol in ret_solutions:\n",
    "    lm_costs.append(genCost(sdf, generalizeColumn(sdf, sol, all_level_dict), DGHs))\n",
    "    \n",
    "generalizeColumn(sdf, ret_solutions[np.argmin(lm_costs)], all_level_dict)"
   ]
  },
  {
   "cell_type": "code",
   "execution_count": null,
   "id": "3a54d3b7-45a5-46b2-99ba-d9ddf1fd0132",
   "metadata": {},
   "outputs": [],
   "source": [
    "return ret_solutions[np.argmin(lm_costs)]"
   ]
  },
  {
   "cell_type": "code",
   "execution_count": 587,
   "id": "a928e87a-c293-4f26-a5b3-c4b892e65f42",
   "metadata": {},
   "outputs": [
    {
     "data": {
      "text/plain": [
       "10"
      ]
     },
     "execution_count": 587,
     "metadata": {},
     "output_type": "execute_result"
    }
   ],
   "source": [
    "np.argmin(lm_costs)"
   ]
  },
  {
   "cell_type": "code",
   "execution_count": 588,
   "id": "d161bd6b-f21c-4aa1-b26b-bd063c2c4966",
   "metadata": {},
   "outputs": [
    {
     "data": {
      "text/plain": [
       "[1, 1, 0, 0, 1, 0, 0, 0]"
      ]
     },
     "execution_count": 588,
     "metadata": {},
     "output_type": "execute_result"
    }
   ],
   "source": [
    "ret_solutions[np.argmin(lm_costs)]"
   ]
  },
  {
   "cell_type": "code",
   "execution_count": 873,
   "id": "4d3b7e58-0e6c-4e0a-a121-78c4c70f799e",
   "metadata": {},
   "outputs": [
    {
     "data": {
      "text/plain": [
       "array([[3, 4, 4, 2, 4, 1, 2, 2],\n",
       "       [2, 4, 4, 2, 4, 1, 2, 2],\n",
       "       [3, 3, 4, 2, 4, 1, 2, 2],\n",
       "       [3, 4, 3, 2, 4, 1, 2, 2],\n",
       "       [3, 4, 4, 1, 4, 1, 2, 2],\n",
       "       [3, 4, 4, 2, 3, 1, 2, 2],\n",
       "       [3, 4, 4, 2, 4, 0, 2, 2],\n",
       "       [3, 4, 4, 2, 4, 1, 1, 2],\n",
       "       [3, 4, 4, 2, 4, 1, 2, 1]])"
      ]
     },
     "execution_count": 873,
     "metadata": {},
     "output_type": "execute_result"
    }
   ],
   "source": [
    "np.vstack(toot)"
   ]
  },
  {
   "cell_type": "code",
   "execution_count": 864,
   "id": "d85314f0-a54a-4f5d-9cdb-b3bc8c659a65",
   "metadata": {},
   "outputs": [
    {
     "data": {
      "text/plain": [
       "array([3, 4, 4, 2, 4, 1, 2, 2])"
      ]
     },
     "execution_count": 864,
     "metadata": {},
     "output_type": "execute_result"
    }
   ],
   "source": [
    "max_levels"
   ]
  },
  {
   "cell_type": "code",
   "execution_count": 865,
   "id": "74979b18-97db-4a5f-9947-8c8c85310152",
   "metadata": {},
   "outputs": [
    {
     "data": {
      "text/plain": [
       "[array([2, 4, 4, 2, 4, 1, 2, 2]),\n",
       " array([3, 3, 4, 2, 4, 1, 2, 2]),\n",
       " array([3, 4, 3, 2, 4, 1, 2, 2]),\n",
       " array([3, 4, 4, 1, 4, 1, 2, 2]),\n",
       " array([3, 4, 4, 2, 3, 1, 2, 2]),\n",
       " array([3, 4, 4, 2, 4, 0, 2, 2]),\n",
       " array([3, 4, 4, 2, 4, 1, 1, 2]),\n",
       " array([3, 4, 4, 2, 4, 1, 2, 1])]"
      ]
     },
     "execution_count": 865,
     "metadata": {},
     "output_type": "execute_result"
    }
   ],
   "source": [
    "branchFromSingle(max_levels)"
   ]
  },
  {
   "cell_type": "code",
   "execution_count": null,
   "id": "24efbbba-de8c-48b2-a0aa-40c9e519d379",
   "metadata": {},
   "outputs": [],
   "source": []
  },
  {
   "cell_type": "code",
   "execution_count": 862,
   "id": "1a44852f-f6f9-484d-951e-861e323650cf",
   "metadata": {},
   "outputs": [
    {
     "data": {
      "text/plain": [
       "array([3, 4, 4, 2, 3, 1, 2, 2])"
      ]
     },
     "execution_count": 862,
     "metadata": {},
     "output_type": "execute_result"
    }
   ],
   "source": [
    "branchFromSingle(max_levels)[4]"
   ]
  },
  {
   "cell_type": "code",
   "execution_count": 863,
   "id": "8dd001dd-7130-4e58-bc25-161256903344",
   "metadata": {},
   "outputs": [
    {
     "ename": "TypeError",
     "evalue": "'numpy.int64' object is not iterable",
     "output_type": "error",
     "traceback": [
      "\u001b[0;31m---------------------------------------------------------------------------\u001b[0m",
      "\u001b[0;31mTypeError\u001b[0m                                 Traceback (most recent call last)",
      "Input \u001b[0;32mIn [863]\u001b[0m, in \u001b[0;36m<cell line: 3>\u001b[0;34m()\u001b[0m\n\u001b[1;32m      2\u001b[0m kvals \u001b[38;5;241m=\u001b[39m [\u001b[38;5;241m0\u001b[39m, \u001b[38;5;241m0\u001b[39m]\n\u001b[1;32m      3\u001b[0m \u001b[38;5;28;01mwhile\u001b[39;00m np\u001b[38;5;241m.\u001b[39mmax(kvals) \u001b[38;5;241m<\u001b[39m \u001b[38;5;241m5\u001b[39m:\n\u001b[0;32m----> 4\u001b[0m     aa \u001b[38;5;241m=\u001b[39m \u001b[43mgetOtherSolutions\u001b[49m\u001b[43m(\u001b[49m\u001b[43msdf\u001b[49m\u001b[43m,\u001b[49m\u001b[43m \u001b[49m\u001b[43mmax_levels\u001b[49m\u001b[43m,\u001b[49m\u001b[43m \u001b[49m\u001b[38;5;241;43m5\u001b[39;49m\u001b[43m)\u001b[49m\n\u001b[1;32m      5\u001b[0m     \u001b[38;5;28;01mif\u001b[39;00m \u001b[38;5;28mtype\u001b[39m(aa) \u001b[38;5;241m==\u001b[39m \u001b[38;5;28mtype\u001b[39m([\u001b[38;5;241m1\u001b[39m,\u001b[38;5;241m2\u001b[39m]):\n\u001b[1;32m      6\u001b[0m         \u001b[38;5;28;01mfor\u001b[39;00m j \u001b[38;5;129;01min\u001b[39;00m aa:\n",
      "Input \u001b[0;32mIn [859]\u001b[0m, in \u001b[0;36mgetOtherSolutions\u001b[0;34m(sdf, levels_list, K)\u001b[0m\n\u001b[1;32m     72\u001b[0m \u001b[38;5;28;01mdef\u001b[39;00m \u001b[38;5;21mgetOtherSolutions\u001b[39m(sdf, levels_list, K):\n\u001b[1;32m     73\u001b[0m     \u001b[38;5;66;03m#print(levels)\u001b[39;00m\n\u001b[1;32m     74\u001b[0m     \u001b[38;5;66;03m#print(K)\u001b[39;00m\n\u001b[1;32m     76\u001b[0m     \u001b[38;5;28;01mfor\u001b[39;00m levels \u001b[38;5;129;01min\u001b[39;00m levels_list:\n\u001b[0;32m---> 77\u001b[0m         levels \u001b[38;5;241m=\u001b[39m \u001b[38;5;28;43mlist\u001b[39;49m\u001b[43m(\u001b[49m\u001b[43mlevels\u001b[49m\u001b[43m)\u001b[49m\n\u001b[1;32m     78\u001b[0m         \u001b[38;5;28;01mif\u001b[39;00m levels \u001b[38;5;129;01min\u001b[39;00m tried_combinations:\n\u001b[1;32m     79\u001b[0m             \u001b[38;5;28;01mreturn\u001b[39;00m \u001b[38;5;28;01mNone\u001b[39;00m\n",
      "\u001b[0;31mTypeError\u001b[0m: 'numpy.int64' object is not iterable"
     ]
    }
   ],
   "source": [
    "o = []\n",
    "kvals = [0, 0]\n",
    "while np.max(kvals) < 5:\n",
    "    aa = getOtherSolutions(sdf, max_levels, 5)\n",
    "    if type(aa) == type([1,2]):\n",
    "        for j in aa:\n",
    "            getOtherSolutions22(sdf, j, 5)"
   ]
  },
  {
   "cell_type": "code",
   "execution_count": 770,
   "id": "8f281a8e-aeb1-417e-8a66-4d2b26c99c30",
   "metadata": {},
   "outputs": [
    {
     "data": {
      "text/plain": [
       "[]"
      ]
     },
     "execution_count": 770,
     "metadata": {},
     "output_type": "execute_result"
    }
   ],
   "source": [
    "result_lists"
   ]
  },
  {
   "cell_type": "code",
   "execution_count": 772,
   "id": "e3c86b2a-ce9d-417b-81a8-de6a53a451fe",
   "metadata": {},
   "outputs": [
    {
     "ename": "KeyboardInterrupt",
     "evalue": "",
     "output_type": "error",
     "traceback": [
      "\u001b[0;31m---------------------------------------------------------------------------\u001b[0m",
      "\u001b[0;31mKeyboardInterrupt\u001b[0m                         Traceback (most recent call last)",
      "Input \u001b[0;32mIn [772]\u001b[0m, in \u001b[0;36m<cell line: 1>\u001b[0;34m()\u001b[0m\n\u001b[0;32m----> 1\u001b[0m \u001b[43mgeneralizeColumn\u001b[49m\u001b[43m(\u001b[49m\u001b[43msdf\u001b[49m\u001b[43m,\u001b[49m\u001b[43m \u001b[49m\u001b[43m[\u001b[49m\u001b[38;5;241;43m0\u001b[39;49m\u001b[43m,\u001b[49m\u001b[43m \u001b[49m\u001b[38;5;241;43m0\u001b[39;49m\u001b[43m,\u001b[49m\u001b[43m \u001b[49m\u001b[38;5;241;43m0\u001b[39;49m\u001b[43m,\u001b[49m\u001b[43m \u001b[49m\u001b[38;5;241;43m0\u001b[39;49m\u001b[43m,\u001b[49m\u001b[43m \u001b[49m\u001b[38;5;241;43m1\u001b[39;49m\u001b[43m,\u001b[49m\u001b[43m \u001b[49m\u001b[38;5;241;43m1\u001b[39;49m\u001b[43m,\u001b[49m\u001b[43m \u001b[49m\u001b[38;5;241;43m1\u001b[39;49m\u001b[43m,\u001b[49m\u001b[43m \u001b[49m\u001b[38;5;241;43m0\u001b[39;49m\u001b[43m]\u001b[49m\u001b[43m,\u001b[49m\u001b[43m \u001b[49m\u001b[43mread_Levels\u001b[49m\u001b[43m(\u001b[49m\u001b[38;5;124;43m'\u001b[39;49m\u001b[38;5;124;43mDGHs\u001b[39;49m\u001b[38;5;124;43m'\u001b[39;49m\u001b[43m)\u001b[49m\u001b[43m)\u001b[49m\n",
      "Input \u001b[0;32mIn [767]\u001b[0m, in \u001b[0;36mgeneralizeColumn\u001b[0;34m(sdf, target_arr, levels_dc)\u001b[0m\n\u001b[1;32m     33\u001b[0m     change_indexes \u001b[38;5;241m=\u001b[39m mapped_levels_df\u001b[38;5;241m.\u001b[39mindex[mapped_levels_df \u001b[38;5;241m>\u001b[39m target_arr[ix]]\u001b[38;5;241m.\u001b[39mtolist()\n\u001b[1;32m     35\u001b[0m     xdf[col]\u001b[38;5;241m.\u001b[39mloc[change_indexes] \u001b[38;5;241m=\u001b[39m xdf\u001b[38;5;241m.\u001b[39mloc[change_indexes][col]\u001b[38;5;241m.\u001b[39mmap(DGHs[col])\n\u001b[0;32m---> 37\u001b[0m \u001b[38;5;28;01mwhile\u001b[39;00m \u001b[38;5;129;01mnot\u001b[39;00m \u001b[43mgetCurrentLevelsDF\u001b[49m\u001b[43m(\u001b[49m\u001b[43mxdf\u001b[49m\u001b[43m,\u001b[49m\u001b[43m \u001b[49m\u001b[43mlevels\u001b[49m\u001b[43m)\u001b[49m \u001b[38;5;241m==\u001b[39m \u001b[38;5;28mlist\u001b[39m(target_arr):\n\u001b[1;32m     38\u001b[0m     \u001b[38;5;28;01mfor\u001b[39;00m ix, col \u001b[38;5;129;01min\u001b[39;00m \u001b[38;5;28menumerate\u001b[39m(levels_dc):\n\u001b[1;32m     39\u001b[0m         mapped_levels_df \u001b[38;5;241m=\u001b[39m xdf[col]\u001b[38;5;241m.\u001b[39mmap(levels_dc[col])\n",
      "Input \u001b[0;32mIn [729]\u001b[0m, in \u001b[0;36mgetCurrentLevelsDF\u001b[0;34m(df, levels)\u001b[0m\n\u001b[1;32m      2\u001b[0m res \u001b[38;5;241m=\u001b[39m []\n\u001b[1;32m      3\u001b[0m \u001b[38;5;28;01mfor\u001b[39;00m ix, col \u001b[38;5;129;01min\u001b[39;00m \u001b[38;5;28menumerate\u001b[39m(levels):\n\u001b[0;32m----> 4\u001b[0m     mapped_levels_df \u001b[38;5;241m=\u001b[39m \u001b[43mdf\u001b[49m\u001b[43m[\u001b[49m\u001b[43mcol\u001b[49m\u001b[43m]\u001b[49m\u001b[38;5;241;43m.\u001b[39;49m\u001b[43mmap\u001b[49m\u001b[43m(\u001b[49m\u001b[43mlevels\u001b[49m\u001b[43m[\u001b[49m\u001b[43mcol\u001b[49m\u001b[43m]\u001b[49m\u001b[43m)\u001b[49m\n\u001b[1;32m      5\u001b[0m     res\u001b[38;5;241m.\u001b[39mappend(mapped_levels_df\u001b[38;5;241m.\u001b[39mmax())\n\u001b[1;32m      7\u001b[0m \u001b[38;5;28;01mreturn\u001b[39;00m res\n",
      "File \u001b[0;32m~/opt/anaconda3/envs/market-courier-assignment/lib/python3.8/site-packages/pandas/core/series.py:4237\u001b[0m, in \u001b[0;36mSeries.map\u001b[0;34m(self, arg, na_action)\u001b[0m\n\u001b[1;32m   4162\u001b[0m \u001b[38;5;28;01mdef\u001b[39;00m \u001b[38;5;21mmap\u001b[39m(\u001b[38;5;28mself\u001b[39m, arg, na_action\u001b[38;5;241m=\u001b[39m\u001b[38;5;28;01mNone\u001b[39;00m) \u001b[38;5;241m-\u001b[39m\u001b[38;5;241m>\u001b[39m Series:\n\u001b[1;32m   4163\u001b[0m     \u001b[38;5;124;03m\"\"\"\u001b[39;00m\n\u001b[1;32m   4164\u001b[0m \u001b[38;5;124;03m    Map values of Series according to an input mapping or function.\u001b[39;00m\n\u001b[1;32m   4165\u001b[0m \n\u001b[0;32m   (...)\u001b[0m\n\u001b[1;32m   4235\u001b[0m \u001b[38;5;124;03m    dtype: object\u001b[39;00m\n\u001b[1;32m   4236\u001b[0m \u001b[38;5;124;03m    \"\"\"\u001b[39;00m\n\u001b[0;32m-> 4237\u001b[0m     new_values \u001b[38;5;241m=\u001b[39m \u001b[38;5;28;43mself\u001b[39;49m\u001b[38;5;241;43m.\u001b[39;49m\u001b[43m_map_values\u001b[49m\u001b[43m(\u001b[49m\u001b[43marg\u001b[49m\u001b[43m,\u001b[49m\u001b[43m \u001b[49m\u001b[43mna_action\u001b[49m\u001b[38;5;241;43m=\u001b[39;49m\u001b[43mna_action\u001b[49m\u001b[43m)\u001b[49m\n\u001b[1;32m   4238\u001b[0m     \u001b[38;5;28;01mreturn\u001b[39;00m \u001b[38;5;28mself\u001b[39m\u001b[38;5;241m.\u001b[39m_constructor(new_values, index\u001b[38;5;241m=\u001b[39m\u001b[38;5;28mself\u001b[39m\u001b[38;5;241m.\u001b[39mindex)\u001b[38;5;241m.\u001b[39m__finalize__(\n\u001b[1;32m   4239\u001b[0m         \u001b[38;5;28mself\u001b[39m, method\u001b[38;5;241m=\u001b[39m\u001b[38;5;124m\"\u001b[39m\u001b[38;5;124mmap\u001b[39m\u001b[38;5;124m\"\u001b[39m\n\u001b[1;32m   4240\u001b[0m     )\n",
      "File \u001b[0;32m~/opt/anaconda3/envs/market-courier-assignment/lib/python3.8/site-packages/pandas/core/base.py:852\u001b[0m, in \u001b[0;36mIndexOpsMixin._map_values\u001b[0;34m(self, mapper, na_action)\u001b[0m\n\u001b[1;32m    848\u001b[0m     \u001b[38;5;28;01mreturn\u001b[39;00m cat\u001b[38;5;241m.\u001b[39mmap(mapper)\n\u001b[1;32m    850\u001b[0m values \u001b[38;5;241m=\u001b[39m \u001b[38;5;28mself\u001b[39m\u001b[38;5;241m.\u001b[39m_values\n\u001b[0;32m--> 852\u001b[0m indexer \u001b[38;5;241m=\u001b[39m \u001b[43mmapper\u001b[49m\u001b[38;5;241;43m.\u001b[39;49m\u001b[43mindex\u001b[49m\u001b[38;5;241;43m.\u001b[39;49m\u001b[43mget_indexer\u001b[49m\u001b[43m(\u001b[49m\u001b[43mvalues\u001b[49m\u001b[43m)\u001b[49m\n\u001b[1;32m    853\u001b[0m new_values \u001b[38;5;241m=\u001b[39m algorithms\u001b[38;5;241m.\u001b[39mtake_nd(mapper\u001b[38;5;241m.\u001b[39m_values, indexer)\n\u001b[1;32m    855\u001b[0m \u001b[38;5;28;01mreturn\u001b[39;00m new_values\n",
      "File \u001b[0;32m~/opt/anaconda3/envs/market-courier-assignment/lib/python3.8/site-packages/pandas/core/indexes/base.py:3784\u001b[0m, in \u001b[0;36mIndex.get_indexer\u001b[0;34m(self, target, method, limit, tolerance)\u001b[0m\n\u001b[1;32m   3779\u001b[0m     target \u001b[38;5;241m=\u001b[39m target\u001b[38;5;241m.\u001b[39mastype(dtype, copy\u001b[38;5;241m=\u001b[39m\u001b[38;5;28;01mFalse\u001b[39;00m)\n\u001b[1;32m   3780\u001b[0m     \u001b[38;5;28;01mreturn\u001b[39;00m this\u001b[38;5;241m.\u001b[39m_get_indexer(\n\u001b[1;32m   3781\u001b[0m         target, method\u001b[38;5;241m=\u001b[39mmethod, limit\u001b[38;5;241m=\u001b[39mlimit, tolerance\u001b[38;5;241m=\u001b[39mtolerance\n\u001b[1;32m   3782\u001b[0m     )\n\u001b[0;32m-> 3784\u001b[0m \u001b[38;5;28;01mreturn\u001b[39;00m \u001b[38;5;28;43mself\u001b[39;49m\u001b[38;5;241;43m.\u001b[39;49m\u001b[43m_get_indexer\u001b[49m\u001b[43m(\u001b[49m\u001b[43mtarget\u001b[49m\u001b[43m,\u001b[49m\u001b[43m \u001b[49m\u001b[43mmethod\u001b[49m\u001b[43m,\u001b[49m\u001b[43m \u001b[49m\u001b[43mlimit\u001b[49m\u001b[43m,\u001b[49m\u001b[43m \u001b[49m\u001b[43mtolerance\u001b[49m\u001b[43m)\u001b[49m\n",
      "File \u001b[0;32m~/opt/anaconda3/envs/market-courier-assignment/lib/python3.8/site-packages/pandas/core/indexes/base.py:3809\u001b[0m, in \u001b[0;36mIndex._get_indexer\u001b[0;34m(self, target, method, limit, tolerance)\u001b[0m\n\u001b[1;32m   3804\u001b[0m         \u001b[38;5;66;03m# error: \"IndexEngine\" has no attribute \"_extract_level_codes\"\u001b[39;00m\n\u001b[1;32m   3805\u001b[0m         tgt_values \u001b[38;5;241m=\u001b[39m engine\u001b[38;5;241m.\u001b[39m_extract_level_codes(  \u001b[38;5;66;03m# type: ignore[attr-defined]\u001b[39;00m\n\u001b[1;32m   3806\u001b[0m             target\n\u001b[1;32m   3807\u001b[0m         )\n\u001b[0;32m-> 3809\u001b[0m     indexer \u001b[38;5;241m=\u001b[39m \u001b[38;5;28;43mself\u001b[39;49m\u001b[38;5;241;43m.\u001b[39;49m\u001b[43m_engine\u001b[49m\u001b[38;5;241;43m.\u001b[39;49m\u001b[43mget_indexer\u001b[49m\u001b[43m(\u001b[49m\u001b[43mtgt_values\u001b[49m\u001b[43m)\u001b[49m\n\u001b[1;32m   3811\u001b[0m \u001b[38;5;28;01mreturn\u001b[39;00m ensure_platform_int(indexer)\n",
      "\u001b[0;31mKeyboardInterrupt\u001b[0m: "
     ]
    }
   ],
   "source": [
    "generalizeColumn(sdf, [0, 0, 0, 0, 1, 1, 1, 0], read_Levels('DGHs'))"
   ]
  },
  {
   "cell_type": "code",
   "execution_count": 771,
   "id": "b9f3876c-7fd1-4a33-a3f4-80f1004ee6e7",
   "metadata": {},
   "outputs": [
    {
     "ename": "KeyboardInterrupt",
     "evalue": "",
     "output_type": "error",
     "traceback": [
      "\u001b[0;31m---------------------------------------------------------------------------\u001b[0m",
      "\u001b[0;31mKeyboardInterrupt\u001b[0m                         Traceback (most recent call last)",
      "Input \u001b[0;32mIn [771]\u001b[0m, in \u001b[0;36m<cell line: 1>\u001b[0;34m()\u001b[0m\n\u001b[0;32m----> 1\u001b[0m getK(\u001b[43mgeneralizeColumn\u001b[49m\u001b[43m(\u001b[49m\u001b[43msdf\u001b[49m\u001b[43m,\u001b[49m\u001b[43m \u001b[49m\u001b[43m[\u001b[49m\u001b[38;5;241;43m0\u001b[39;49m\u001b[43m,\u001b[49m\u001b[43m \u001b[49m\u001b[38;5;241;43m0\u001b[39;49m\u001b[43m,\u001b[49m\u001b[43m \u001b[49m\u001b[38;5;241;43m0\u001b[39;49m\u001b[43m,\u001b[49m\u001b[43m \u001b[49m\u001b[38;5;241;43m0\u001b[39;49m\u001b[43m,\u001b[49m\u001b[43m \u001b[49m\u001b[38;5;241;43m1\u001b[39;49m\u001b[43m,\u001b[49m\u001b[43m \u001b[49m\u001b[38;5;241;43m1\u001b[39;49m\u001b[43m,\u001b[49m\u001b[43m \u001b[49m\u001b[38;5;241;43m1\u001b[39;49m\u001b[43m,\u001b[49m\u001b[43m \u001b[49m\u001b[38;5;241;43m0\u001b[39;49m\u001b[43m]\u001b[49m\u001b[43m,\u001b[49m\u001b[43m \u001b[49m\u001b[43mread_Levels\u001b[49m\u001b[43m(\u001b[49m\u001b[38;5;124;43m'\u001b[39;49m\u001b[38;5;124;43mDGHs\u001b[39;49m\u001b[38;5;124;43m'\u001b[39;49m\u001b[43m)\u001b[49m\u001b[43m)\u001b[49m)\n",
      "Input \u001b[0;32mIn [767]\u001b[0m, in \u001b[0;36mgeneralizeColumn\u001b[0;34m(sdf, target_arr, levels_dc)\u001b[0m\n\u001b[1;32m     39\u001b[0m         mapped_levels_df \u001b[38;5;241m=\u001b[39m xdf[col]\u001b[38;5;241m.\u001b[39mmap(levels_dc[col])\n\u001b[1;32m     40\u001b[0m         change_indexes \u001b[38;5;241m=\u001b[39m mapped_levels_df\u001b[38;5;241m.\u001b[39mindex[mapped_levels_df \u001b[38;5;241m>\u001b[39m target_arr[ix]]\u001b[38;5;241m.\u001b[39mtolist()\n\u001b[0;32m---> 42\u001b[0m         xdf[col]\u001b[38;5;241m.\u001b[39mloc[change_indexes] \u001b[38;5;241m=\u001b[39m \u001b[43mxdf\u001b[49m\u001b[38;5;241;43m.\u001b[39;49m\u001b[43mloc\u001b[49m\u001b[43m[\u001b[49m\u001b[43mchange_indexes\u001b[49m\u001b[43m]\u001b[49m\u001b[43m[\u001b[49m\u001b[43mcol\u001b[49m\u001b[43m]\u001b[49m\u001b[38;5;241m.\u001b[39mmap(DGHs[col])\n\u001b[1;32m     44\u001b[0m \u001b[38;5;28;01mreturn\u001b[39;00m xdf\n",
      "File \u001b[0;32m~/opt/anaconda3/envs/market-courier-assignment/lib/python3.8/site-packages/pandas/core/frame.py:3471\u001b[0m, in \u001b[0;36mDataFrame.__getitem__\u001b[0;34m(self, key)\u001b[0m\n\u001b[1;32m   3466\u001b[0m key \u001b[38;5;241m=\u001b[39m com\u001b[38;5;241m.\u001b[39mapply_if_callable(key, \u001b[38;5;28mself\u001b[39m)\n\u001b[1;32m   3468\u001b[0m \u001b[38;5;28;01mif\u001b[39;00m is_hashable(key) \u001b[38;5;129;01mand\u001b[39;00m \u001b[38;5;129;01mnot\u001b[39;00m is_iterator(key):\n\u001b[1;32m   3469\u001b[0m     \u001b[38;5;66;03m# is_iterator to exclude generator e.g. test_getitem_listlike\u001b[39;00m\n\u001b[1;32m   3470\u001b[0m     \u001b[38;5;66;03m# shortcut if the key is in columns\u001b[39;00m\n\u001b[0;32m-> 3471\u001b[0m     \u001b[38;5;28;01mif\u001b[39;00m \u001b[38;5;28mself\u001b[39m\u001b[38;5;241m.\u001b[39mcolumns\u001b[38;5;241m.\u001b[39mis_unique \u001b[38;5;129;01mand\u001b[39;00m \u001b[43mkey\u001b[49m\u001b[43m \u001b[49m\u001b[38;5;129;43;01min\u001b[39;49;00m\u001b[43m \u001b[49m\u001b[38;5;28;43mself\u001b[39;49m\u001b[38;5;241;43m.\u001b[39;49m\u001b[43mcolumns\u001b[49m:\n\u001b[1;32m   3472\u001b[0m         \u001b[38;5;28;01mif\u001b[39;00m \u001b[38;5;28misinstance\u001b[39m(\u001b[38;5;28mself\u001b[39m\u001b[38;5;241m.\u001b[39mcolumns, MultiIndex):\n\u001b[1;32m   3473\u001b[0m             \u001b[38;5;28;01mreturn\u001b[39;00m \u001b[38;5;28mself\u001b[39m\u001b[38;5;241m.\u001b[39m_getitem_multilevel(key)\n",
      "File \u001b[0;32m~/opt/anaconda3/envs/market-courier-assignment/lib/python3.8/site-packages/pandas/core/indexes/base.py:5010\u001b[0m, in \u001b[0;36mIndex.__contains__\u001b[0;34m(self, key)\u001b[0m\n\u001b[1;32m   5008\u001b[0m \u001b[38;5;28mhash\u001b[39m(key)\n\u001b[1;32m   5009\u001b[0m \u001b[38;5;28;01mtry\u001b[39;00m:\n\u001b[0;32m-> 5010\u001b[0m     \u001b[38;5;28;01mreturn\u001b[39;00m \u001b[43mkey\u001b[49m\u001b[43m \u001b[49m\u001b[38;5;129;43;01min\u001b[39;49;00m\u001b[43m \u001b[49m\u001b[38;5;28;43mself\u001b[39;49m\u001b[38;5;241;43m.\u001b[39;49m\u001b[43m_engine\u001b[49m\n\u001b[1;32m   5011\u001b[0m \u001b[38;5;28;01mexcept\u001b[39;00m (\u001b[38;5;167;01mOverflowError\u001b[39;00m, \u001b[38;5;167;01mTypeError\u001b[39;00m, \u001b[38;5;167;01mValueError\u001b[39;00m):\n\u001b[1;32m   5012\u001b[0m     \u001b[38;5;28;01mreturn\u001b[39;00m \u001b[38;5;28;01mFalse\u001b[39;00m\n",
      "\u001b[0;31mKeyboardInterrupt\u001b[0m: "
     ]
    }
   ],
   "source": [
    "getK(generalizeColumn(sdf, [0, 0, 0, 0, 1, 1, 1, 0], read_Levels('DGHs')))"
   ]
  },
  {
   "cell_type": "code",
   "execution_count": 643,
   "id": "dc3149ef-c1ba-41f9-b125-096dde8279a7",
   "metadata": {},
   "outputs": [],
   "source": [
    "from copy import deepcopy\n",
    "xdf = deepcopy(sdf)\n",
    "\n"
   ]
  },
  {
   "cell_type": "code",
   "execution_count": 637,
   "id": "8ee855a9-a69b-4f57-83a0-3517fc6cc44e",
   "metadata": {},
   "outputs": [],
   "source": [
    "#col = 'marital-status'\n",
    "level = 2\n",
    "xdf = deepcopy(sdf)\n",
    "\n",
    "for col in levels:\n",
    "    mapped_levels_df = xdf[col].map(levels[col])\n",
    "    change_indexes = mapped_levels_df.index[mapped_levels_df > level].tolist()\n",
    "\n",
    "    xdf[col].loc[change_indexes] = xdf.loc[change_indexes][col].map(DGHs[col])\n",
    "\n",
    "#return xdf\n",
    "#xdf.loc[change_indexes][col].applymap(DGHs['marital-status'])"
   ]
  },
  {
   "cell_type": "code",
   "execution_count": 632,
   "id": "841e44fc-9e50-4da3-b222-36f7fc25470e",
   "metadata": {},
   "outputs": [],
   "source": [
    "xdf = deepcopy(sdf)"
   ]
  },
  {
   "cell_type": "code",
   "execution_count": 633,
   "id": "9952acfc-7895-4bc6-8644-5ce96dfa6f56",
   "metadata": {},
   "outputs": [
    {
     "data": {
      "text/plain": [
       "4"
      ]
     },
     "execution_count": 633,
     "metadata": {},
     "output_type": "execute_result"
    }
   ],
   "source": [
    "levels['education']['10th']"
   ]
  },
  {
   "cell_type": "code",
   "execution_count": 638,
   "id": "73be626a-67c4-44bc-bffb-b4e205da7cdb",
   "metadata": {},
   "outputs": [
    {
     "data": {
      "text/plain": [
       "\"col = 'education'\\nmapped_levels_df = xdf[col].map(levels[col])\\nchange_indexes = mapped_levels_df.index[mapped_levels_df > level].tolist()\\n\\nxdf[col].loc[change_indexes] = xdf.loc[change_indexes][col].map(DGHs[col])\""
      ]
     },
     "execution_count": 638,
     "metadata": {},
     "output_type": "execute_result"
    }
   ],
   "source": [
    "'''col = 'education'\n",
    "mapped_levels_df = xdf[col].map(levels[col])\n",
    "change_indexes = mapped_levels_df.index[mapped_levels_df > level].tolist()\n",
    "\n",
    "xdf[col].loc[change_indexes] = xdf.loc[change_indexes][col].map(DGHs[col])'''"
   ]
  },
  {
   "cell_type": "code",
   "execution_count": null,
   "id": "2cbcc6f5-7fe2-4c17-a1ed-5e81e3b531f9",
   "metadata": {},
   "outputs": [],
   "source": []
  },
  {
   "cell_type": "code",
   "execution_count": null,
   "id": "1fb4f663-0406-4576-b226-d31354029357",
   "metadata": {},
   "outputs": [],
   "source": []
  },
  {
   "cell_type": "code",
   "execution_count": 639,
   "id": "2174bf55-b65c-461f-8502-75fc6355f3ab",
   "metadata": {},
   "outputs": [
    {
     "data": {
      "text/html": [
       "<div>\n",
       "<style scoped>\n",
       "    .dataframe tbody tr th:only-of-type {\n",
       "        vertical-align: middle;\n",
       "    }\n",
       "\n",
       "    .dataframe tbody tr th {\n",
       "        vertical-align: top;\n",
       "    }\n",
       "\n",
       "    .dataframe thead th {\n",
       "        text-align: right;\n",
       "    }\n",
       "</style>\n",
       "<table border=\"1\" class=\"dataframe\">\n",
       "  <thead>\n",
       "    <tr style=\"text-align: right;\">\n",
       "      <th></th>\n",
       "      <th>age</th>\n",
       "      <th>workclass</th>\n",
       "      <th>education</th>\n",
       "      <th>marital-status</th>\n",
       "      <th>occupation</th>\n",
       "      <th>relationship</th>\n",
       "      <th>gender</th>\n",
       "      <th>native-country</th>\n",
       "      <th>income</th>\n",
       "    </tr>\n",
       "  </thead>\n",
       "  <tbody>\n",
       "    <tr>\n",
       "      <th>1026</th>\n",
       "      <td>17</td>\n",
       "      <td>Private</td>\n",
       "      <td>10th</td>\n",
       "      <td>Never-married</td>\n",
       "      <td>Handlers-cleaners</td>\n",
       "      <td>Own-child</td>\n",
       "      <td>Male</td>\n",
       "      <td>United-States</td>\n",
       "      <td>&lt;=50K</td>\n",
       "    </tr>\n",
       "    <tr>\n",
       "      <th>1336</th>\n",
       "      <td>17</td>\n",
       "      <td>Private</td>\n",
       "      <td>10th</td>\n",
       "      <td>Never-married</td>\n",
       "      <td>Other-service</td>\n",
       "      <td>Not-in-family</td>\n",
       "      <td>Male</td>\n",
       "      <td>United-States</td>\n",
       "      <td>&lt;=50K</td>\n",
       "    </tr>\n",
       "    <tr>\n",
       "      <th>533</th>\n",
       "      <td>17</td>\n",
       "      <td>Private</td>\n",
       "      <td>10th</td>\n",
       "      <td>Never-married</td>\n",
       "      <td>Other-service</td>\n",
       "      <td>Own-child</td>\n",
       "      <td>Male</td>\n",
       "      <td>United-States</td>\n",
       "      <td>&lt;=50K</td>\n",
       "    </tr>\n",
       "    <tr>\n",
       "      <th>862</th>\n",
       "      <td>17</td>\n",
       "      <td>Private</td>\n",
       "      <td>10th</td>\n",
       "      <td>Never-married</td>\n",
       "      <td>Other-service</td>\n",
       "      <td>Own-child</td>\n",
       "      <td>Male</td>\n",
       "      <td>United-States</td>\n",
       "      <td>&lt;=50K</td>\n",
       "    </tr>\n",
       "    <tr>\n",
       "      <th>1977</th>\n",
       "      <td>17</td>\n",
       "      <td>Private</td>\n",
       "      <td>10th</td>\n",
       "      <td>Never-married</td>\n",
       "      <td>Other-service</td>\n",
       "      <td>Own-child</td>\n",
       "      <td>Male</td>\n",
       "      <td>United-States</td>\n",
       "      <td>&lt;=50K</td>\n",
       "    </tr>\n",
       "    <tr>\n",
       "      <th>...</th>\n",
       "      <td>...</td>\n",
       "      <td>...</td>\n",
       "      <td>...</td>\n",
       "      <td>...</td>\n",
       "      <td>...</td>\n",
       "      <td>...</td>\n",
       "      <td>...</td>\n",
       "      <td>...</td>\n",
       "      <td>...</td>\n",
       "    </tr>\n",
       "    <tr>\n",
       "      <th>1441</th>\n",
       "      <td>80</td>\n",
       "      <td>Self-emp-not-inc</td>\n",
       "      <td>7th-8th</td>\n",
       "      <td>Never-married</td>\n",
       "      <td>Farming-fishing</td>\n",
       "      <td>Unmarried</td>\n",
       "      <td>Male</td>\n",
       "      <td>United-States</td>\n",
       "      <td>&lt;=50K</td>\n",
       "    </tr>\n",
       "    <tr>\n",
       "      <th>1986</th>\n",
       "      <td>81</td>\n",
       "      <td>Self-emp-not-inc</td>\n",
       "      <td>7th-8th</td>\n",
       "      <td>Married-civ-spouse</td>\n",
       "      <td>Farming-fishing</td>\n",
       "      <td>Husband</td>\n",
       "      <td>Male</td>\n",
       "      <td>United-States</td>\n",
       "      <td>&lt;=50K</td>\n",
       "    </tr>\n",
       "    <tr>\n",
       "      <th>416</th>\n",
       "      <td>83</td>\n",
       "      <td>Private</td>\n",
       "      <td>Some-college</td>\n",
       "      <td>Never-married</td>\n",
       "      <td>Exec-managerial</td>\n",
       "      <td>Not-in-family</td>\n",
       "      <td>Female</td>\n",
       "      <td>United-States</td>\n",
       "      <td>&lt;=50K</td>\n",
       "    </tr>\n",
       "    <tr>\n",
       "      <th>852</th>\n",
       "      <td>90</td>\n",
       "      <td>Private</td>\n",
       "      <td>HS-grad</td>\n",
       "      <td>Never-married</td>\n",
       "      <td>Other-service</td>\n",
       "      <td>Not-in-family</td>\n",
       "      <td>Male</td>\n",
       "      <td>United-States</td>\n",
       "      <td>&lt;=50K</td>\n",
       "    </tr>\n",
       "    <tr>\n",
       "      <th>1388</th>\n",
       "      <td>90</td>\n",
       "      <td>Self-emp-not-inc</td>\n",
       "      <td>Prof-school</td>\n",
       "      <td>Widowed</td>\n",
       "      <td>Prof-specialty</td>\n",
       "      <td>Not-in-family</td>\n",
       "      <td>Male</td>\n",
       "      <td>United-States</td>\n",
       "      <td>&lt;=50K</td>\n",
       "    </tr>\n",
       "  </tbody>\n",
       "</table>\n",
       "<p>2000 rows × 9 columns</p>\n",
       "</div>"
      ],
      "text/plain": [
       "     age         workclass     education      marital-status  \\\n",
       "1026  17           Private          10th       Never-married   \n",
       "1336  17           Private          10th       Never-married   \n",
       "533   17           Private          10th       Never-married   \n",
       "862   17           Private          10th       Never-married   \n",
       "1977  17           Private          10th       Never-married   \n",
       "...   ..               ...           ...                 ...   \n",
       "1441  80  Self-emp-not-inc       7th-8th       Never-married   \n",
       "1986  81  Self-emp-not-inc       7th-8th  Married-civ-spouse   \n",
       "416   83           Private  Some-college       Never-married   \n",
       "852   90           Private       HS-grad       Never-married   \n",
       "1388  90  Self-emp-not-inc   Prof-school             Widowed   \n",
       "\n",
       "             occupation   relationship  gender native-country income  \n",
       "1026  Handlers-cleaners      Own-child    Male  United-States  <=50K  \n",
       "1336      Other-service  Not-in-family    Male  United-States  <=50K  \n",
       "533       Other-service      Own-child    Male  United-States  <=50K  \n",
       "862       Other-service      Own-child    Male  United-States  <=50K  \n",
       "1977      Other-service      Own-child    Male  United-States  <=50K  \n",
       "...                 ...            ...     ...            ...    ...  \n",
       "1441    Farming-fishing      Unmarried    Male  United-States  <=50K  \n",
       "1986    Farming-fishing        Husband    Male  United-States  <=50K  \n",
       "416     Exec-managerial  Not-in-family  Female  United-States  <=50K  \n",
       "852       Other-service  Not-in-family    Male  United-States  <=50K  \n",
       "1388     Prof-specialty  Not-in-family    Male  United-States  <=50K  \n",
       "\n",
       "[2000 rows x 9 columns]"
      ]
     },
     "execution_count": 639,
     "metadata": {},
     "output_type": "execute_result"
    }
   ],
   "source": [
    "sdf"
   ]
  },
  {
   "cell_type": "code",
   "execution_count": 640,
   "id": "35bd5a47-1e30-4922-a6a1-91ded9424bc2",
   "metadata": {},
   "outputs": [
    {
     "data": {
      "text/html": [
       "<div>\n",
       "<style scoped>\n",
       "    .dataframe tbody tr th:only-of-type {\n",
       "        vertical-align: middle;\n",
       "    }\n",
       "\n",
       "    .dataframe tbody tr th {\n",
       "        vertical-align: top;\n",
       "    }\n",
       "\n",
       "    .dataframe thead th {\n",
       "        text-align: right;\n",
       "    }\n",
       "</style>\n",
       "<table border=\"1\" class=\"dataframe\">\n",
       "  <thead>\n",
       "    <tr style=\"text-align: right;\">\n",
       "      <th></th>\n",
       "      <th>age</th>\n",
       "      <th>workclass</th>\n",
       "      <th>education</th>\n",
       "      <th>marital-status</th>\n",
       "      <th>occupation</th>\n",
       "      <th>relationship</th>\n",
       "      <th>gender</th>\n",
       "      <th>native-country</th>\n",
       "      <th>income</th>\n",
       "    </tr>\n",
       "  </thead>\n",
       "  <tbody>\n",
       "    <tr>\n",
       "      <th>1026</th>\n",
       "      <td>[15,19)</td>\n",
       "      <td>Private</td>\n",
       "      <td>Junior-Secondary</td>\n",
       "      <td>Never-married</td>\n",
       "      <td>Handlers-cleaners</td>\n",
       "      <td>Own-child</td>\n",
       "      <td>Male</td>\n",
       "      <td>USA</td>\n",
       "      <td>&lt;=50K</td>\n",
       "    </tr>\n",
       "    <tr>\n",
       "      <th>1336</th>\n",
       "      <td>[15,19)</td>\n",
       "      <td>Private</td>\n",
       "      <td>Junior-Secondary</td>\n",
       "      <td>Never-married</td>\n",
       "      <td>Other-service</td>\n",
       "      <td>Not-in-family</td>\n",
       "      <td>Male</td>\n",
       "      <td>USA</td>\n",
       "      <td>&lt;=50K</td>\n",
       "    </tr>\n",
       "    <tr>\n",
       "      <th>533</th>\n",
       "      <td>[15,19)</td>\n",
       "      <td>Private</td>\n",
       "      <td>Junior-Secondary</td>\n",
       "      <td>Never-married</td>\n",
       "      <td>Other-service</td>\n",
       "      <td>Own-child</td>\n",
       "      <td>Male</td>\n",
       "      <td>USA</td>\n",
       "      <td>&lt;=50K</td>\n",
       "    </tr>\n",
       "    <tr>\n",
       "      <th>862</th>\n",
       "      <td>[15,19)</td>\n",
       "      <td>Private</td>\n",
       "      <td>Junior-Secondary</td>\n",
       "      <td>Never-married</td>\n",
       "      <td>Other-service</td>\n",
       "      <td>Own-child</td>\n",
       "      <td>Male</td>\n",
       "      <td>USA</td>\n",
       "      <td>&lt;=50K</td>\n",
       "    </tr>\n",
       "    <tr>\n",
       "      <th>1977</th>\n",
       "      <td>[15,19)</td>\n",
       "      <td>Private</td>\n",
       "      <td>Junior-Secondary</td>\n",
       "      <td>Never-married</td>\n",
       "      <td>Other-service</td>\n",
       "      <td>Own-child</td>\n",
       "      <td>Male</td>\n",
       "      <td>USA</td>\n",
       "      <td>&lt;=50K</td>\n",
       "    </tr>\n",
       "    <tr>\n",
       "      <th>...</th>\n",
       "      <td>...</td>\n",
       "      <td>...</td>\n",
       "      <td>...</td>\n",
       "      <td>...</td>\n",
       "      <td>...</td>\n",
       "      <td>...</td>\n",
       "      <td>...</td>\n",
       "      <td>...</td>\n",
       "      <td>...</td>\n",
       "    </tr>\n",
       "    <tr>\n",
       "      <th>1441</th>\n",
       "      <td>[80,84)</td>\n",
       "      <td>Self-emp-not-inc</td>\n",
       "      <td>Elementary</td>\n",
       "      <td>Never-married</td>\n",
       "      <td>Farming-fishing</td>\n",
       "      <td>Unmarried</td>\n",
       "      <td>Male</td>\n",
       "      <td>USA</td>\n",
       "      <td>&lt;=50K</td>\n",
       "    </tr>\n",
       "    <tr>\n",
       "      <th>1986</th>\n",
       "      <td>[80,84)</td>\n",
       "      <td>Self-emp-not-inc</td>\n",
       "      <td>Elementary</td>\n",
       "      <td>Partner-present</td>\n",
       "      <td>Farming-fishing</td>\n",
       "      <td>Husband</td>\n",
       "      <td>Male</td>\n",
       "      <td>USA</td>\n",
       "      <td>&lt;=50K</td>\n",
       "    </tr>\n",
       "    <tr>\n",
       "      <th>416</th>\n",
       "      <td>[80,84)</td>\n",
       "      <td>Private</td>\n",
       "      <td>Some-college</td>\n",
       "      <td>Never-married</td>\n",
       "      <td>Exec-managerial</td>\n",
       "      <td>Not-in-family</td>\n",
       "      <td>Female</td>\n",
       "      <td>USA</td>\n",
       "      <td>&lt;=50K</td>\n",
       "    </tr>\n",
       "    <tr>\n",
       "      <th>852</th>\n",
       "      <td>[90,94)</td>\n",
       "      <td>Private</td>\n",
       "      <td>Senior-Secondary</td>\n",
       "      <td>Never-married</td>\n",
       "      <td>Other-service</td>\n",
       "      <td>Not-in-family</td>\n",
       "      <td>Male</td>\n",
       "      <td>USA</td>\n",
       "      <td>&lt;=50K</td>\n",
       "    </tr>\n",
       "    <tr>\n",
       "      <th>1388</th>\n",
       "      <td>[90,94)</td>\n",
       "      <td>Self-emp-not-inc</td>\n",
       "      <td>University</td>\n",
       "      <td>Partner-absent</td>\n",
       "      <td>Prof-specialty</td>\n",
       "      <td>Not-in-family</td>\n",
       "      <td>Male</td>\n",
       "      <td>USA</td>\n",
       "      <td>&lt;=50K</td>\n",
       "    </tr>\n",
       "  </tbody>\n",
       "</table>\n",
       "<p>2000 rows × 9 columns</p>\n",
       "</div>"
      ],
      "text/plain": [
       "          age         workclass         education   marital-status  \\\n",
       "1026  [15,19)           Private  Junior-Secondary    Never-married   \n",
       "1336  [15,19)           Private  Junior-Secondary    Never-married   \n",
       "533   [15,19)           Private  Junior-Secondary    Never-married   \n",
       "862   [15,19)           Private  Junior-Secondary    Never-married   \n",
       "1977  [15,19)           Private  Junior-Secondary    Never-married   \n",
       "...       ...               ...               ...              ...   \n",
       "1441  [80,84)  Self-emp-not-inc        Elementary    Never-married   \n",
       "1986  [80,84)  Self-emp-not-inc        Elementary  Partner-present   \n",
       "416   [80,84)           Private      Some-college    Never-married   \n",
       "852   [90,94)           Private  Senior-Secondary    Never-married   \n",
       "1388  [90,94)  Self-emp-not-inc        University   Partner-absent   \n",
       "\n",
       "             occupation   relationship  gender native-country income  \n",
       "1026  Handlers-cleaners      Own-child    Male            USA  <=50K  \n",
       "1336      Other-service  Not-in-family    Male            USA  <=50K  \n",
       "533       Other-service      Own-child    Male            USA  <=50K  \n",
       "862       Other-service      Own-child    Male            USA  <=50K  \n",
       "1977      Other-service      Own-child    Male            USA  <=50K  \n",
       "...                 ...            ...     ...            ...    ...  \n",
       "1441    Farming-fishing      Unmarried    Male            USA  <=50K  \n",
       "1986    Farming-fishing        Husband    Male            USA  <=50K  \n",
       "416     Exec-managerial  Not-in-family  Female            USA  <=50K  \n",
       "852       Other-service  Not-in-family    Male            USA  <=50K  \n",
       "1388     Prof-specialty  Not-in-family    Male            USA  <=50K  \n",
       "\n",
       "[2000 rows x 9 columns]"
      ]
     },
     "execution_count": 640,
     "metadata": {},
     "output_type": "execute_result"
    }
   ],
   "source": [
    "xdf"
   ]
  },
  {
   "cell_type": "code",
   "execution_count": 593,
   "id": "96b1e67a-f0e8-4428-9e2c-2d766b88cc99",
   "metadata": {},
   "outputs": [
    {
     "data": {
      "text/plain": [
       "1157    Partner-present\n",
       "1417      Never-married\n",
       "1826    Partner-present\n",
       "973      Partner-absent\n",
       "965     Partner-present\n",
       "             ...       \n",
       "312     Partner-present\n",
       "1980    Partner-present\n",
       "1795    Partner-present\n",
       "787     Partner-present\n",
       "60       Partner-absent\n",
       "Name: marital-status, Length: 1325, dtype: object"
      ]
     },
     "execution_count": 593,
     "metadata": {},
     "output_type": "execute_result"
    }
   ],
   "source": [
    "xdf.iloc[change_indexes][col]"
   ]
  },
  {
   "cell_type": "code",
   "execution_count": 594,
   "id": "599e555c-b2c1-4f21-9acf-9dd3562b23bb",
   "metadata": {},
   "outputs": [
    {
     "data": {
      "text/plain": [
       "1157    Married-civ-spouse\n",
       "1417         Never-married\n",
       "1826    Married-civ-spouse\n",
       "973               Divorced\n",
       "965     Married-civ-spouse\n",
       "               ...        \n",
       "312     Married-civ-spouse\n",
       "1980    Married-civ-spouse\n",
       "1795    Married-civ-spouse\n",
       "787     Married-civ-spouse\n",
       "60                Divorced\n",
       "Name: marital-status, Length: 1325, dtype: object"
      ]
     },
     "execution_count": 594,
     "metadata": {},
     "output_type": "execute_result"
    }
   ],
   "source": [
    "sdf.iloc[change_indexes][col]"
   ]
  },
  {
   "cell_type": "code",
   "execution_count": 595,
   "id": "f2a119bf-3ca9-4d59-aa67-3bcbdfd18d6c",
   "metadata": {},
   "outputs": [
    {
     "data": {
      "text/plain": [
       "1157    Married\n",
       "1417        Any\n",
       "1826    Married\n",
       "973     Married\n",
       "965     Married\n",
       "         ...   \n",
       "312     Married\n",
       "1980    Married\n",
       "1795    Married\n",
       "787     Married\n",
       "60      Married\n",
       "Name: marital-status, Length: 1325, dtype: object"
      ]
     },
     "execution_count": 595,
     "metadata": {},
     "output_type": "execute_result"
    }
   ],
   "source": [
    "xdf.iloc[change_indexes][col].map(DGHs['marital-status'])"
   ]
  },
  {
   "cell_type": "code",
   "execution_count": 651,
   "id": "4c6908a9-f95e-406d-a88a-2b440f87e834",
   "metadata": {},
   "outputs": [],
   "source": []
  },
  {
   "cell_type": "code",
   "execution_count": null,
   "id": "6bb586f8-6514-4bcb-b51b-c74e6ddf2e4a",
   "metadata": {},
   "outputs": [],
   "source": [
    "mapped_levels_df = xdf[col].map(levels[col])\n",
    "print(len(mapped_levels_df.index[mapped_levels_df > 0].tolist()))"
   ]
  },
  {
   "cell_type": "code",
   "execution_count": 559,
   "id": "3df6b3ca-7e5b-4cce-8203-58f4bb72cb08",
   "metadata": {},
   "outputs": [
    {
     "name": "stdout",
     "output_type": "stream",
     "text": [
      "2000\n"
     ]
    }
   ],
   "source": [
    "mapped_levels_df = sdf[col].map(levels[col])\n",
    "print(len(mapped_levels_df.index[mapped_levels_df > 0].tolist()))"
   ]
  },
  {
   "cell_type": "code",
   "execution_count": 545,
   "id": "487df4ab-a499-4998-a466-f4d607e3feae",
   "metadata": {},
   "outputs": [
    {
     "data": {
      "text/plain": [
       "1157    Partner-present\n",
       "1417                Any\n",
       "1826    Partner-present\n",
       "973      Partner-absent\n",
       "965     Partner-present\n",
       "             ...       \n",
       "312     Partner-present\n",
       "1980    Partner-present\n",
       "1795    Partner-present\n",
       "787     Partner-present\n",
       "60       Partner-absent\n",
       "Name: marital-status, Length: 1325, dtype: object"
      ]
     },
     "execution_count": 545,
     "metadata": {},
     "output_type": "execute_result"
    }
   ],
   "source": [
    "sdf.iloc[change_indexes][col].map(DGHs['marital-status'])"
   ]
  },
  {
   "cell_type": "code",
   "execution_count": 526,
   "id": "a11f5597-aa35-4b95-beaf-8741fa86589a",
   "metadata": {},
   "outputs": [],
   "source": [
    "def branchFromSingle(ls):\n",
    "    levels = []\n",
    "    ls = np.array(ls)\n",
    "    for idx, num in enumerate(ls):\n",
    "        addNum = ls[idx] - 1\n",
    "        addNum = max(addNum, 0)\n",
    "        levels.append(np.concatenate([ls[:idx], [addNum], ls[idx + 1:]]))\n",
    "        \n",
    "    return levels"
   ]
  },
  {
   "cell_type": "code",
   "execution_count": 438,
   "id": "7710fe8a-1cc1-4a0f-9e1c-21eea66feec2",
   "metadata": {},
   "outputs": [],
   "source": [
    "for col in [i for i in levels]:\n",
    "    son.append(df[col].map(levels[col]))"
   ]
  },
  {
   "cell_type": "code",
   "execution_count": 73,
   "id": "73a7c94a-3697-4c30-b061-9d5f4dd8e6b8",
   "metadata": {},
   "outputs": [],
   "source": [
    "levels = read_Levels('DGHs')"
   ]
  },
  {
   "cell_type": "code",
   "execution_count": 273,
   "id": "b0e679cc-521f-43cb-a425-6b62a4e27de2",
   "metadata": {},
   "outputs": [],
   "source": [
    "sdf = df.sort_values(list(df.columns))"
   ]
  },
  {
   "cell_type": "code",
   "execution_count": 275,
   "id": "5193c53f-b64e-4f81-8c78-58c0a034194c",
   "metadata": {},
   "outputs": [
    {
     "data": {
      "text/plain": [
       "age                          17\n",
       "workclass               Private\n",
       "education                  10th\n",
       "marital-status    Never-married\n",
       "occupation        Other-service\n",
       "relationship      Not-in-family\n",
       "gender                     Male\n",
       "native-country    United-States\n",
       "income                    <=50K\n",
       "Name: 1336, dtype: object"
      ]
     },
     "execution_count": 275,
     "metadata": {},
     "output_type": "execute_result"
    }
   ],
   "source": [
    "sdf.iloc[1]"
   ]
  },
  {
   "cell_type": "code",
   "execution_count": 303,
   "id": "5f31e36d-48a9-4902-a5b8-11f5f7b2ad4c",
   "metadata": {},
   "outputs": [
    {
     "data": {
      "text/plain": [
       "age                          18\n",
       "workclass               Private\n",
       "education          Some-college\n",
       "marital-status    Never-married\n",
       "occupation                Sales\n",
       "relationship          Own-child\n",
       "gender                   Female\n",
       "native-country    United-States\n",
       "income                    <=50K\n",
       "Name: 1154, dtype: object"
      ]
     },
     "execution_count": 303,
     "metadata": {},
     "output_type": "execute_result"
    }
   ],
   "source": [
    " sdf.iloc[50]"
   ]
  },
  {
   "cell_type": "code",
   "execution_count": 356,
   "id": "c350c535-d7ab-42f8-914c-c292fed1bbe8",
   "metadata": {},
   "outputs": [
    {
     "data": {
      "text/plain": [
       "88"
      ]
     },
     "execution_count": 356,
     "metadata": {},
     "output_type": "execute_result"
    }
   ],
   "source": [
    "total_added"
   ]
  },
  {
   "cell_type": "code",
   "execution_count": 357,
   "id": "9c857c09-1e2d-4273-8030-cbf26db0b1fa",
   "metadata": {},
   "outputs": [],
   "source": [
    "dists = []\n",
    "clusters = []\n",
    "k = 5\n",
    "marks = len(df) * [False]\n",
    "idx = selectRecord(marks)\n",
    "total_added = 0\n",
    "cur_cluster = []\n",
    "\n",
    "while total_added < len(sdf):\n",
    "    \n",
    "    added_count = 0\n",
    "    dists = []\n",
    "    idx = selectRecord(marks)\n",
    "    cur_cluster = []\n",
    "    cur_cluster.append(idx)\n",
    "    while added_count < k:\n",
    "        for i in range(len(sdf)):\n",
    "            if not marks[i]:\n",
    "                if not idx == i:\n",
    "                    dists.append(single_LM(sdf.iloc[idx], sdf.iloc[i]))\n",
    "                else:\n",
    "                    dists.append(np.inf) # distance to itself\n",
    "\n",
    "        next_added_idx = np.array(dists).argmin()\n",
    "        #print(next_added_idx)\n",
    "        marks[idx] = True\n",
    "        marks[next_added_idx] = True\n",
    "        idx = next_added_idx\n",
    "        cur_cluster.append(idx)\n",
    "        added_count += 1\n",
    "        total_added += 1\n",
    "        dists = []\n",
    "    clusters.append(cur_cluster)"
   ]
  },
  {
   "cell_type": "code",
   "execution_count": 361,
   "id": "c1a8c8b8-ec6c-4ecd-b012-0855f0e43dda",
   "metadata": {},
   "outputs": [],
   "source": [
    "def anonimizeDf(df, col, DGHs, levels):\n",
    "    ls = []\n",
    "    #print(DGHs)\n",
    "    #print(DGHs[col])\n",
    "    import warnings\n",
    "    warnings.filterwarnings(\"ignore\")\n",
    "    for col in df.columns[:-2]:\n",
    "        if not len(df[col].unique()) == 1: ## they are not same\n",
    "            level_dc = levels[col]\n",
    "            while len(df[col].unique()) != 1:\n",
    "                level_df = df[col].map(levels[col])\n",
    "                ch_idx = level_df.argmax()\n",
    "                df[col].iloc[ch_idx] = DGHs[col][df[col].iloc[ch_idx]]\n",
    "                \n",
    "    return df"
   ]
  },
  {
   "cell_type": "code",
   "execution_count": 360,
   "id": "2791abdd-97f9-4d9a-95e2-e29678adb20b",
   "metadata": {},
   "outputs": [
    {
     "data": {
      "text/html": [
       "<div>\n",
       "<style scoped>\n",
       "    .dataframe tbody tr th:only-of-type {\n",
       "        vertical-align: middle;\n",
       "    }\n",
       "\n",
       "    .dataframe tbody tr th {\n",
       "        vertical-align: top;\n",
       "    }\n",
       "\n",
       "    .dataframe thead th {\n",
       "        text-align: right;\n",
       "    }\n",
       "</style>\n",
       "<table border=\"1\" class=\"dataframe\">\n",
       "  <thead>\n",
       "    <tr style=\"text-align: right;\">\n",
       "      <th></th>\n",
       "      <th>age</th>\n",
       "      <th>workclass</th>\n",
       "      <th>education</th>\n",
       "      <th>marital-status</th>\n",
       "      <th>occupation</th>\n",
       "      <th>relationship</th>\n",
       "      <th>gender</th>\n",
       "      <th>native-country</th>\n",
       "      <th>income</th>\n",
       "    </tr>\n",
       "  </thead>\n",
       "  <tbody>\n",
       "    <tr>\n",
       "      <th>1026</th>\n",
       "      <td>17</td>\n",
       "      <td>Private</td>\n",
       "      <td>10th</td>\n",
       "      <td>Never-married</td>\n",
       "      <td>Handlers-cleaners</td>\n",
       "      <td>Own-child</td>\n",
       "      <td>Male</td>\n",
       "      <td>United-States</td>\n",
       "      <td>&lt;=50K</td>\n",
       "    </tr>\n",
       "    <tr>\n",
       "      <th>1433</th>\n",
       "      <td>17</td>\n",
       "      <td>Private</td>\n",
       "      <td>11th</td>\n",
       "      <td>Never-married</td>\n",
       "      <td>Handlers-cleaners</td>\n",
       "      <td>Own-child</td>\n",
       "      <td>Male</td>\n",
       "      <td>United-States</td>\n",
       "      <td>&lt;=50K</td>\n",
       "    </tr>\n",
       "    <tr>\n",
       "      <th>290</th>\n",
       "      <td>18</td>\n",
       "      <td>Private</td>\n",
       "      <td>11th</td>\n",
       "      <td>Never-married</td>\n",
       "      <td>Exec-managerial</td>\n",
       "      <td>Own-child</td>\n",
       "      <td>Male</td>\n",
       "      <td>United-States</td>\n",
       "      <td>&lt;=50K</td>\n",
       "    </tr>\n",
       "    <tr>\n",
       "      <th>1458</th>\n",
       "      <td>18</td>\n",
       "      <td>Private</td>\n",
       "      <td>10th</td>\n",
       "      <td>Never-married</td>\n",
       "      <td>Other-service</td>\n",
       "      <td>Other-relative</td>\n",
       "      <td>Male</td>\n",
       "      <td>United-States</td>\n",
       "      <td>&lt;=50K</td>\n",
       "    </tr>\n",
       "    <tr>\n",
       "      <th>1533</th>\n",
       "      <td>21</td>\n",
       "      <td>Private</td>\n",
       "      <td>HS-grad</td>\n",
       "      <td>Never-married</td>\n",
       "      <td>Exec-managerial</td>\n",
       "      <td>Own-child</td>\n",
       "      <td>Male</td>\n",
       "      <td>United-States</td>\n",
       "      <td>&lt;=50K</td>\n",
       "    </tr>\n",
       "    <tr>\n",
       "      <th>589</th>\n",
       "      <td>21</td>\n",
       "      <td>Private</td>\n",
       "      <td>Assoc-voc</td>\n",
       "      <td>Never-married</td>\n",
       "      <td>Protective-serv</td>\n",
       "      <td>Not-in-family</td>\n",
       "      <td>Male</td>\n",
       "      <td>United-States</td>\n",
       "      <td>&lt;=50K</td>\n",
       "    </tr>\n",
       "  </tbody>\n",
       "</table>\n",
       "</div>"
      ],
      "text/plain": [
       "     age workclass  education marital-status         occupation  \\\n",
       "1026  17   Private       10th  Never-married  Handlers-cleaners   \n",
       "1433  17   Private       11th  Never-married  Handlers-cleaners   \n",
       "290   18   Private       11th  Never-married    Exec-managerial   \n",
       "1458  18   Private       10th  Never-married      Other-service   \n",
       "1533  21   Private    HS-grad  Never-married    Exec-managerial   \n",
       "589   21   Private  Assoc-voc  Never-married    Protective-serv   \n",
       "\n",
       "        relationship gender native-country income  \n",
       "1026       Own-child   Male  United-States  <=50K  \n",
       "1433       Own-child   Male  United-States  <=50K  \n",
       "290        Own-child   Male  United-States  <=50K  \n",
       "1458  Other-relative   Male  United-States  <=50K  \n",
       "1533       Own-child   Male  United-States  <=50K  \n",
       "589    Not-in-family   Male  United-States  <=50K  "
      ]
     },
     "execution_count": 360,
     "metadata": {},
     "output_type": "execute_result"
    }
   ],
   "source": [
    "sdf.iloc[clusters[0]]"
   ]
  },
  {
   "cell_type": "code",
   "execution_count": 373,
   "id": "7fdfda65-d1b7-4847-a44f-887865508c7c",
   "metadata": {},
   "outputs": [],
   "source": [
    "results = []\n",
    "for cluster in clusters:\n",
    "    curdf = anonimizeDf(sdf.iloc[cluster], \"col\", DGHs, read_Levels(\"DGHs\"))\n",
    "    curdf.reset_index(inplace=True)\n",
    "    try:\n",
    "        del curdf['level_0']\n",
    "    except:\n",
    "        pass\n",
    "    ls = []\n",
    "    for i in range(len(curdf)):\n",
    "        ls.append(curdf.iloc[i].to_dict())\n",
    "    results.append(ls)"
   ]
  },
  {
   "cell_type": "code",
   "execution_count": 358,
   "id": "8534707e-7c75-4476-8e8f-f1fd70f3fcc0",
   "metadata": {},
   "outputs": [
    {
     "data": {
      "text/plain": [
       "[0, 14, 27, 26, 155, 149]"
      ]
     },
     "execution_count": 358,
     "metadata": {},
     "output_type": "execute_result"
    }
   ],
   "source": [
    "clusters[0]"
   ]
  },
  {
   "cell_type": "code",
   "execution_count": 370,
   "id": "2dbeaea0-da89-4d55-b340-b2c7c5421cd5",
   "metadata": {},
   "outputs": [],
   "source": [
    "curdf.reset_index(inplace=True)"
   ]
  },
  {
   "cell_type": "code",
   "execution_count": null,
   "id": "bd2d1b86-9ede-4cf7-8580-6f4774431384",
   "metadata": {},
   "outputs": [],
   "source": []
  },
  {
   "cell_type": "code",
   "execution_count": 314,
   "id": "0ab1144e-af4a-46ed-af6c-d2c9539992b5",
   "metadata": {},
   "outputs": [],
   "source": [
    "def countChildren(DGHs, dc, name):\n",
    "    \n",
    "    res = 0\n",
    "    for k in dc:\n",
    "        val = dc[k]\n",
    "        if val == name:\n",
    "            res += 1\n",
    "    return res\n",
    "\n",
    "def countLeaves(DGHs, k):\n",
    "    counter = {}\n",
    "    dc = DGHs[k]\n",
    "    for k in dc:\n",
    "        val = dc[k]\n",
    "        counter[val] = counter.get(val, 0) + 1\n",
    "    \n",
    "    return len(set(dc) - set(counter))"
   ]
  },
  {
   "cell_type": "code",
   "execution_count": 321,
   "id": "88fa5357-71a8-480a-93fc-2e20e3d8f630",
   "metadata": {},
   "outputs": [],
   "source": [
    "def single_LM(original, modified) -> float:\n",
    "    qi_ls = list(original.index)[:-1]\n",
    "    original = original.T.to_dict()\n",
    "    modified = modified.T.to_dict()\n",
    "    diff = 0\n",
    "\n",
    "    for k in qi_ls:\n",
    "        if original[k] != modified[k]:\n",
    "            score = (countChildren(DGHs, DGHs[k], original[k]) - 1) / countLeaves(DGHs, k)\n",
    "            diff += score\n",
    "    return -diff"
   ]
  },
  {
   "cell_type": "code",
   "execution_count": 316,
   "id": "96d87922-a34d-48eb-97bc-6f24ce124984",
   "metadata": {},
   "outputs": [
    {
     "data": {
      "text/plain": [
       "0.5784523809523809"
      ]
     },
     "execution_count": 316,
     "metadata": {},
     "output_type": "execute_result"
    }
   ],
   "source": [
    "single_LM(sdf.iloc[0], sdf.iloc[-1])"
   ]
  },
  {
   "cell_type": "code",
   "execution_count": 283,
   "id": "96211248-c2e6-4f41-b633-36ac7186c008",
   "metadata": {},
   "outputs": [],
   "source": [
    "diff = 0\n",
    "for k in sdf.iloc[0].index:\n",
    "    if sdf.iloc[0][k] != sdf.iloc[1][k]:\n",
    "        diff += 1"
   ]
  },
  {
   "cell_type": "code",
   "execution_count": 284,
   "id": "65456601-2198-416a-b0ce-c432a6488ff3",
   "metadata": {},
   "outputs": [
    {
     "data": {
      "text/plain": [
       "2"
      ]
     },
     "execution_count": 284,
     "metadata": {},
     "output_type": "execute_result"
    }
   ],
   "source": [
    "diff"
   ]
  },
  {
   "cell_type": "code",
   "execution_count": null,
   "id": "df8f2a8f-9c3f-4925-895f-0e68c8d2382b",
   "metadata": {},
   "outputs": [],
   "source": [
    "def getDist(node1, node2):\n",
    "    "
   ]
  },
  {
   "cell_type": "code",
   "execution_count": 257,
   "id": "8990a0d5-0703-4479-8dcd-96dd5a079088",
   "metadata": {},
   "outputs": [
    {
     "data": {
      "text/html": [
       "<div>\n",
       "<style scoped>\n",
       "    .dataframe tbody tr th:only-of-type {\n",
       "        vertical-align: middle;\n",
       "    }\n",
       "\n",
       "    .dataframe tbody tr th {\n",
       "        vertical-align: top;\n",
       "    }\n",
       "\n",
       "    .dataframe thead th {\n",
       "        text-align: right;\n",
       "    }\n",
       "</style>\n",
       "<table border=\"1\" class=\"dataframe\">\n",
       "  <thead>\n",
       "    <tr style=\"text-align: right;\">\n",
       "      <th></th>\n",
       "      <th>age</th>\n",
       "      <th>workclass</th>\n",
       "      <th>education</th>\n",
       "      <th>marital-status</th>\n",
       "      <th>occupation</th>\n",
       "      <th>relationship</th>\n",
       "      <th>gender</th>\n",
       "      <th>native-country</th>\n",
       "      <th>income</th>\n",
       "    </tr>\n",
       "  </thead>\n",
       "  <tbody>\n",
       "    <tr>\n",
       "      <th>1026</th>\n",
       "      <td>17</td>\n",
       "      <td>Private</td>\n",
       "      <td>10th</td>\n",
       "      <td>Never-married</td>\n",
       "      <td>Handlers-cleaners</td>\n",
       "      <td>Own-child</td>\n",
       "      <td>Male</td>\n",
       "      <td>United-States</td>\n",
       "      <td>&lt;=50K</td>\n",
       "    </tr>\n",
       "    <tr>\n",
       "      <th>1336</th>\n",
       "      <td>17</td>\n",
       "      <td>Private</td>\n",
       "      <td>10th</td>\n",
       "      <td>Never-married</td>\n",
       "      <td>Other-service</td>\n",
       "      <td>Not-in-family</td>\n",
       "      <td>Male</td>\n",
       "      <td>United-States</td>\n",
       "      <td>&lt;=50K</td>\n",
       "    </tr>\n",
       "    <tr>\n",
       "      <th>533</th>\n",
       "      <td>17</td>\n",
       "      <td>Private</td>\n",
       "      <td>10th</td>\n",
       "      <td>Never-married</td>\n",
       "      <td>Other-service</td>\n",
       "      <td>Own-child</td>\n",
       "      <td>Male</td>\n",
       "      <td>United-States</td>\n",
       "      <td>&lt;=50K</td>\n",
       "    </tr>\n",
       "    <tr>\n",
       "      <th>862</th>\n",
       "      <td>17</td>\n",
       "      <td>Private</td>\n",
       "      <td>10th</td>\n",
       "      <td>Never-married</td>\n",
       "      <td>Other-service</td>\n",
       "      <td>Own-child</td>\n",
       "      <td>Male</td>\n",
       "      <td>United-States</td>\n",
       "      <td>&lt;=50K</td>\n",
       "    </tr>\n",
       "    <tr>\n",
       "      <th>1977</th>\n",
       "      <td>17</td>\n",
       "      <td>Private</td>\n",
       "      <td>10th</td>\n",
       "      <td>Never-married</td>\n",
       "      <td>Other-service</td>\n",
       "      <td>Own-child</td>\n",
       "      <td>Male</td>\n",
       "      <td>United-States</td>\n",
       "      <td>&lt;=50K</td>\n",
       "    </tr>\n",
       "    <tr>\n",
       "      <th>...</th>\n",
       "      <td>...</td>\n",
       "      <td>...</td>\n",
       "      <td>...</td>\n",
       "      <td>...</td>\n",
       "      <td>...</td>\n",
       "      <td>...</td>\n",
       "      <td>...</td>\n",
       "      <td>...</td>\n",
       "      <td>...</td>\n",
       "    </tr>\n",
       "    <tr>\n",
       "      <th>1441</th>\n",
       "      <td>80</td>\n",
       "      <td>Self-emp-not-inc</td>\n",
       "      <td>7th-8th</td>\n",
       "      <td>Never-married</td>\n",
       "      <td>Farming-fishing</td>\n",
       "      <td>Unmarried</td>\n",
       "      <td>Male</td>\n",
       "      <td>United-States</td>\n",
       "      <td>&lt;=50K</td>\n",
       "    </tr>\n",
       "    <tr>\n",
       "      <th>1986</th>\n",
       "      <td>81</td>\n",
       "      <td>Self-emp-not-inc</td>\n",
       "      <td>7th-8th</td>\n",
       "      <td>Married-civ-spouse</td>\n",
       "      <td>Farming-fishing</td>\n",
       "      <td>Husband</td>\n",
       "      <td>Male</td>\n",
       "      <td>United-States</td>\n",
       "      <td>&lt;=50K</td>\n",
       "    </tr>\n",
       "    <tr>\n",
       "      <th>416</th>\n",
       "      <td>83</td>\n",
       "      <td>Private</td>\n",
       "      <td>Some-college</td>\n",
       "      <td>Never-married</td>\n",
       "      <td>Exec-managerial</td>\n",
       "      <td>Not-in-family</td>\n",
       "      <td>Female</td>\n",
       "      <td>United-States</td>\n",
       "      <td>&lt;=50K</td>\n",
       "    </tr>\n",
       "    <tr>\n",
       "      <th>852</th>\n",
       "      <td>90</td>\n",
       "      <td>Private</td>\n",
       "      <td>HS-grad</td>\n",
       "      <td>Never-married</td>\n",
       "      <td>Other-service</td>\n",
       "      <td>Not-in-family</td>\n",
       "      <td>Male</td>\n",
       "      <td>United-States</td>\n",
       "      <td>&lt;=50K</td>\n",
       "    </tr>\n",
       "    <tr>\n",
       "      <th>1388</th>\n",
       "      <td>90</td>\n",
       "      <td>Self-emp-not-inc</td>\n",
       "      <td>Prof-school</td>\n",
       "      <td>Widowed</td>\n",
       "      <td>Prof-specialty</td>\n",
       "      <td>Not-in-family</td>\n",
       "      <td>Male</td>\n",
       "      <td>United-States</td>\n",
       "      <td>&lt;=50K</td>\n",
       "    </tr>\n",
       "  </tbody>\n",
       "</table>\n",
       "<p>2000 rows × 9 columns</p>\n",
       "</div>"
      ],
      "text/plain": [
       "     age         workclass     education      marital-status  \\\n",
       "1026  17           Private          10th       Never-married   \n",
       "1336  17           Private          10th       Never-married   \n",
       "533   17           Private          10th       Never-married   \n",
       "862   17           Private          10th       Never-married   \n",
       "1977  17           Private          10th       Never-married   \n",
       "...   ..               ...           ...                 ...   \n",
       "1441  80  Self-emp-not-inc       7th-8th       Never-married   \n",
       "1986  81  Self-emp-not-inc       7th-8th  Married-civ-spouse   \n",
       "416   83           Private  Some-college       Never-married   \n",
       "852   90           Private       HS-grad       Never-married   \n",
       "1388  90  Self-emp-not-inc   Prof-school             Widowed   \n",
       "\n",
       "             occupation   relationship  gender native-country income  \n",
       "1026  Handlers-cleaners      Own-child    Male  United-States  <=50K  \n",
       "1336      Other-service  Not-in-family    Male  United-States  <=50K  \n",
       "533       Other-service      Own-child    Male  United-States  <=50K  \n",
       "862       Other-service      Own-child    Male  United-States  <=50K  \n",
       "1977      Other-service      Own-child    Male  United-States  <=50K  \n",
       "...                 ...            ...     ...            ...    ...  \n",
       "1441    Farming-fishing      Unmarried    Male  United-States  <=50K  \n",
       "1986    Farming-fishing        Husband    Male  United-States  <=50K  \n",
       "416     Exec-managerial  Not-in-family  Female  United-States  <=50K  \n",
       "852       Other-service  Not-in-family    Male  United-States  <=50K  \n",
       "1388     Prof-specialty  Not-in-family    Male  United-States  <=50K  \n",
       "\n",
       "[2000 rows x 9 columns]"
      ]
     },
     "execution_count": 257,
     "metadata": {},
     "output_type": "execute_result"
    }
   ],
   "source": [
    "df.sort_values(list(df.columns))"
   ]
  },
  {
   "cell_type": "code",
   "execution_count": 58,
   "id": "8f2667a9-9bf9-4981-a5a4-d0f552496329",
   "metadata": {},
   "outputs": [
    {
     "data": {
      "text/plain": [
       "{'age': '27',\n",
       " 'workclass': 'Private',\n",
       " 'education': 'Bachelors',\n",
       " 'marital-status': 'Married-civ-spouse',\n",
       " 'occupation': 'Tech-support',\n",
       " 'relationship': 'Husband',\n",
       " 'gender': 'Male',\n",
       " 'native-country': 'India',\n",
       " 'income': '>50K'}"
      ]
     },
     "execution_count": 58,
     "metadata": {},
     "output_type": "execute_result"
    }
   ],
   "source": [
    "diff = 0\n",
    "for idx, original in enumerate(raw_dataset):\n",
    "    modified = anonymized_dataset[idx]\n",
    "    \n",
    "    for k in original:\n",
    "        diff += difference(DGHs, k, modified[k], original[k])"
   ]
  },
  {
   "cell_type": "code",
   "execution_count": 59,
   "id": "26a3f34a-d6ce-4a49-9169-fea133ecd77a",
   "metadata": {},
   "outputs": [],
   "source": [
    "def difference(DGHs, k, mdf, org):\n",
    "    cost = 0\n",
    "    ne = mdf\n",
    "    while ne != org:\n",
    "        ne = getParent(DGHs[k], ne)\n",
    "        cost += 1\n",
    "    return cost"
   ]
  },
  {
   "cell_type": "code",
   "execution_count": null,
   "id": "67988d6e-3859-4b96-b53a-f832816f6dff",
   "metadata": {},
   "outputs": [],
   "source": [
    "read_DGH(DGH_file: str)"
   ]
  },
  {
   "cell_type": "code",
   "execution_count": 20,
   "id": "054052d0-4966-4feb-9234-73e0acadc96e",
   "metadata": {},
   "outputs": [],
   "source": [
    "with open('DGHs/occupation.txt', newline = '') as games:                                                                                          \n",
    "    game_reader = csv.reader(games, delimiter='\\t')\n",
    "    ls = [i for i in game_reader]\n",
    "    for game in game_reader:\n",
    "        print(game)"
   ]
  },
  {
   "cell_type": "code",
   "execution_count": 14,
   "id": "9b7cb0b0-3b01-4b40-815a-55c78993d919",
   "metadata": {},
   "outputs": [
    {
     "data": {
      "text/plain": [
       "18"
      ]
     },
     "execution_count": 14,
     "metadata": {},
     "output_type": "execute_result"
    }
   ],
   "source": [
    "for idx, i in enumerate(game_reader):\n",
    "    if idx == 0:\n",
    "        parent = i[0]\n",
    "    if i[]"
   ]
  },
  {
   "cell_type": "code",
   "execution_count": 43,
   "id": "039617b9-ef96-45f4-b785-eebe7f175806",
   "metadata": {},
   "outputs": [],
   "source": [
    "def getParent(ls, name):\n",
    "    placeidx = 0\n",
    "    y = 0\n",
    "    for i in range(len(ls)):\n",
    "        littlelist = ls[i]\n",
    "        if name in littlelist:\n",
    "            placeidx = i\n",
    "            y = littlelist.index(name)\n",
    "    \n",
    "    for i in range(placeidx, -1, -1):\n",
    "        littlelist = ls[i]\n",
    "        if littlelist[y - 1] != '':\n",
    "            return littlelist[y - 1]"
   ]
  },
  {
   "cell_type": "code",
   "execution_count": 46,
   "id": "3aa9a77e-5ac4-42af-b3a1-bd51ef04c761",
   "metadata": {},
   "outputs": [
    {
     "data": {
      "text/plain": [
       "'Blue-collar'"
      ]
     },
     "execution_count": 46,
     "metadata": {},
     "output_type": "execute_result"
    }
   ],
   "source": [
    "getParent(ls, 'Tech-support')"
   ]
  },
  {
   "cell_type": "code",
   "execution_count": 52,
   "id": "a3ecebca-a12f-4de1-bea0-3fe4a680ba61",
   "metadata": {},
   "outputs": [],
   "source": [
    "def read_DGH(DGH_file):\n",
    "    with open(DGH_file, newline = '') as games:                                                                                          \n",
    "        game_reader = csv.reader(games, delimiter='\\t')\n",
    "        ls = [i for i in game_reader]\n",
    "    parents = dict()\n",
    "    for lis in ls:\n",
    "        for j in lis:\n",
    "            if j != '':\n",
    "                parents[j] = getParent(ls, j)\n",
    "    return parents"
   ]
  },
  {
   "cell_type": "code",
   "execution_count": 55,
   "id": "29376e19-ead6-455d-bf37-2371e68940b8",
   "metadata": {},
   "outputs": [],
   "source": [
    "#read_DGH('DGHs/age.txt')"
   ]
  },
  {
   "cell_type": "code",
   "execution_count": 64,
   "id": "51ee4e70-842b-4b76-a806-9144f2d16d1d",
   "metadata": {},
   "outputs": [
    {
     "name": "stdout",
     "output_type": "stream",
     "text": [
      "2022-11-04 22:32:16.284449\n",
      "Traceback (most recent call last):\n",
      "  File \"skeleton.py\", line 303, in <module>\n",
      "    cost_md = cost_MD(raw_file, anonymized_file, dgh_path)\n",
      "  File \"skeleton.py\", line 118, in cost_MD\n",
      "    anonymized_dataset = read_dataset(anonymized_dataset_file)\n",
      "  File \"skeleton.py\", line 36, in read_dataset\n",
      "    with open(dataset_file) as f:\n",
      "FileNotFoundError: [Errno 2] No such file or directory: 'result.csv'\n"
     ]
    }
   ],
   "source": [
    "!python3 skeleton.py clustering DGHs/ adult-hw1.csv result.csv 300 5"
   ]
  },
  {
   "cell_type": "code",
   "execution_count": 65,
   "id": "6f9fb4a4-2e05-463a-8070-06595ad784bf",
   "metadata": {},
   "outputs": [
    {
     "data": {
      "text/plain": [
       "{'__CFBundleIdentifier': 'com.apple.Terminal',\n",
       " 'TMPDIR': '/var/folders/z_/59jqg_q56fs5jr1fc23bt09m0000gn/T/',\n",
       " 'XPC_FLAGS': '0x0',\n",
       " 'LaunchInstanceID': '9626B197-46C0-49CE-85E2-F808CC4F7CC6',\n",
       " 'TERM': 'xterm-color',\n",
       " 'SSH_AUTH_SOCK': '/private/tmp/com.apple.launchd.qDVx9jh09i/Listeners',\n",
       " 'SECURITYSESSIONID': '186a7',\n",
       " 'XPC_SERVICE_NAME': '0',\n",
       " 'TERM_PROGRAM': 'Apple_Terminal',\n",
       " 'TERM_PROGRAM_VERSION': '443',\n",
       " 'TERM_SESSION_ID': '4F28C61C-9B99-44EE-8E4A-12CAC844A61B',\n",
       " 'SHELL': '/bin/zsh',\n",
       " 'HOME': '/Users/berke',\n",
       " 'LOGNAME': 'berke',\n",
       " 'USER': 'berke',\n",
       " 'PATH': '/Users/berke/opt/anaconda3/envs/market-courier-assignment/bin:/Users/berke/miniforge3/condabin:/opt/homebrew/bin:/opt/homebrew/sbin:/usr/local/bin:/usr/bin:/bin:/usr/sbin:/sbin',\n",
       " 'SHLVL': '1',\n",
       " 'PWD': '/Users/berke',\n",
       " 'OLDPWD': '/Users/berke',\n",
       " 'HOMEBREW_PREFIX': '/opt/homebrew',\n",
       " 'HOMEBREW_CELLAR': '/opt/homebrew/Cellar',\n",
       " 'HOMEBREW_REPOSITORY': '/opt/homebrew',\n",
       " 'MANPATH': '/opt/homebrew/share/man::',\n",
       " 'INFOPATH': '/opt/homebrew/share/info:',\n",
       " 'CONDA_EXE': '/Users/berke/opt/anaconda3/bin/conda',\n",
       " '_CE_M': '',\n",
       " '_CE_CONDA': '',\n",
       " 'CONDA_PYTHON_EXE': '/Users/berke/opt/anaconda3/bin/python',\n",
       " 'CONDA_SHLVL': '3',\n",
       " 'CONDA_PREFIX': '/Users/berke/opt/anaconda3/envs/market-courier-assignment',\n",
       " 'CONDA_DEFAULT_ENV': 'market-courier-assignment',\n",
       " 'CONDA_PROMPT_MODIFIER': '(market-courier-assignment) ',\n",
       " 'CONDA_PREFIX_1': '/Users/berke/miniforge3',\n",
       " 'CONDA_PREFIX_2': '/Users/berke/opt/anaconda3',\n",
       " 'LC_CTYPE': 'UTF-8',\n",
       " '_': '/Users/berke/opt/anaconda3/envs/market-courier-assignment/bin/jupyter',\n",
       " 'PYDEVD_USE_FRAME_EVAL': 'NO',\n",
       " 'JPY_PARENT_PID': '8740',\n",
       " 'CLICOLOR': '1',\n",
       " 'PAGER': 'cat',\n",
       " 'GIT_PAGER': 'cat',\n",
       " 'MPLBACKEND': 'module://matplotlib_inline.backend_inline'}"
      ]
     },
     "execution_count": 65,
     "metadata": {},
     "output_type": "execute_result"
    }
   ],
   "source": [
    "%env"
   ]
  },
  {
   "cell_type": "code",
   "execution_count": null,
   "id": "3b63ad47-be9f-4571-aa7d-e27477c903ff",
   "metadata": {},
   "outputs": [],
   "source": []
  },
  {
   "cell_type": "code",
   "execution_count": 383,
   "id": "64ca5b8c-f9df-4a00-83af-3f819409944a",
   "metadata": {},
   "outputs": [
    {
     "data": {
      "text/plain": [
       "2000"
      ]
     },
     "execution_count": 383,
     "metadata": {},
     "output_type": "execute_result"
    }
   ],
   "source": [
    "len(ll)"
   ]
  },
  {
   "cell_type": "code",
   "execution_count": 401,
   "id": "5c27d35a-a477-4fef-b78b-2101b408481d",
   "metadata": {},
   "outputs": [],
   "source": [
    "with open('anonymized_dataset.pickle', 'rb') as handle:\n",
    "    ll = pickle.load(handle)"
   ]
  },
  {
   "cell_type": "code",
   "execution_count": 398,
   "id": "11ffabef-ad40-42f2-8684-5e39ab60f32c",
   "metadata": {},
   "outputs": [],
   "source": [
    "#ll"
   ]
  },
  {
   "cell_type": "code",
   "execution_count": null,
   "id": "c9ced8d7-cc9c-48f8-a67b-363e4191df37",
   "metadata": {},
   "outputs": [],
   "source": [
    "anonymized_dataset = [None] * len(sdf)\n",
    "print('len anon', len(anonymized_dataset))\n",
    "\n",
    "for cluster in clusters:        #restructure according to previous indexes\n",
    "    for item in cluster:\n",
    "        anonymized_dataset[item['index']] = item\n",
    "        del item['index']"
   ]
  },
  {
   "cell_type": "code",
   "execution_count": 399,
   "id": "f3ec23a8-d9ac-4123-9117-848b5aa125c0",
   "metadata": {},
   "outputs": [
    {
     "data": {
      "text/plain": [
       "{'age': '27',\n",
       " 'workclass': 'Private',\n",
       " 'education': 'Bachelors',\n",
       " 'marital-status': 'Married-civ-spouse',\n",
       " 'occupation': 'Tech-support',\n",
       " 'relationship': 'Husband',\n",
       " 'gender': 'Male',\n",
       " 'native-country': 'India',\n",
       " 'income': '>50K'}"
      ]
     },
     "execution_count": 399,
     "metadata": {},
     "output_type": "execute_result"
    }
   ],
   "source": [
    "ll[0]"
   ]
  },
  {
   "cell_type": "code",
   "execution_count": 402,
   "id": "cd18ae73-1b5a-49a1-87f5-b199d57854d5",
   "metadata": {},
   "outputs": [],
   "source": [
    "for idx, i in enumerate(ll):\n",
    "\n",
    "    if i == None:\n",
    "        print(idx)"
   ]
  },
  {
   "cell_type": "code",
   "execution_count": 404,
   "id": "2465d7d1-ac89-4e22-bf9e-630a7bfdf612",
   "metadata": {},
   "outputs": [
    {
     "data": {
      "text/html": [
       "<div>\n",
       "<style scoped>\n",
       "    .dataframe tbody tr th:only-of-type {\n",
       "        vertical-align: middle;\n",
       "    }\n",
       "\n",
       "    .dataframe tbody tr th {\n",
       "        vertical-align: top;\n",
       "    }\n",
       "\n",
       "    .dataframe thead th {\n",
       "        text-align: right;\n",
       "    }\n",
       "</style>\n",
       "<table border=\"1\" class=\"dataframe\">\n",
       "  <thead>\n",
       "    <tr style=\"text-align: right;\">\n",
       "      <th></th>\n",
       "      <th>age</th>\n",
       "      <th>workclass</th>\n",
       "      <th>education</th>\n",
       "      <th>marital-status</th>\n",
       "      <th>occupation</th>\n",
       "      <th>relationship</th>\n",
       "      <th>gender</th>\n",
       "      <th>native-country</th>\n",
       "      <th>income</th>\n",
       "    </tr>\n",
       "  </thead>\n",
       "  <tbody>\n",
       "    <tr>\n",
       "      <th>0</th>\n",
       "      <td>27</td>\n",
       "      <td>Private</td>\n",
       "      <td>Bachelors</td>\n",
       "      <td>Married-civ-spouse</td>\n",
       "      <td>Tech-support</td>\n",
       "      <td>Husband</td>\n",
       "      <td>Male</td>\n",
       "      <td>India</td>\n",
       "      <td>&gt;50K</td>\n",
       "    </tr>\n",
       "    <tr>\n",
       "      <th>1</th>\n",
       "      <td>64</td>\n",
       "      <td>Private</td>\n",
       "      <td>HS-grad</td>\n",
       "      <td>Widowed</td>\n",
       "      <td>Adm-clerical</td>\n",
       "      <td>Unmarried</td>\n",
       "      <td>Female</td>\n",
       "      <td>United-States</td>\n",
       "      <td>&lt;=50K</td>\n",
       "    </tr>\n",
       "    <tr>\n",
       "      <th>2</th>\n",
       "      <td>49</td>\n",
       "      <td>Private</td>\n",
       "      <td>11th</td>\n",
       "      <td>Never-married</td>\n",
       "      <td>Other-service</td>\n",
       "      <td>Not-in-family</td>\n",
       "      <td>Male</td>\n",
       "      <td>United-States</td>\n",
       "      <td>&lt;=50K</td>\n",
       "    </tr>\n",
       "    <tr>\n",
       "      <th>3</th>\n",
       "      <td>45</td>\n",
       "      <td>Private</td>\n",
       "      <td>HS-grad</td>\n",
       "      <td>Married-civ-spouse</td>\n",
       "      <td>Craft-repair</td>\n",
       "      <td>Husband</td>\n",
       "      <td>Male</td>\n",
       "      <td>United-States</td>\n",
       "      <td>&lt;=50K</td>\n",
       "    </tr>\n",
       "    <tr>\n",
       "      <th>4</th>\n",
       "      <td>37</td>\n",
       "      <td>Private</td>\n",
       "      <td>Prof-school</td>\n",
       "      <td>Married-civ-spouse</td>\n",
       "      <td>Prof-specialty</td>\n",
       "      <td>Husband</td>\n",
       "      <td>Male</td>\n",
       "      <td>United-States</td>\n",
       "      <td>&gt;50K</td>\n",
       "    </tr>\n",
       "    <tr>\n",
       "      <th>...</th>\n",
       "      <td>...</td>\n",
       "      <td>...</td>\n",
       "      <td>...</td>\n",
       "      <td>...</td>\n",
       "      <td>...</td>\n",
       "      <td>...</td>\n",
       "      <td>...</td>\n",
       "      <td>...</td>\n",
       "      <td>...</td>\n",
       "    </tr>\n",
       "    <tr>\n",
       "      <th>1995</th>\n",
       "      <td>46</td>\n",
       "      <td>Private</td>\n",
       "      <td>HS-grad</td>\n",
       "      <td>Divorced</td>\n",
       "      <td>Prof-specialty</td>\n",
       "      <td>Not-in-family</td>\n",
       "      <td>Female</td>\n",
       "      <td>United-States</td>\n",
       "      <td>&lt;=50K</td>\n",
       "    </tr>\n",
       "    <tr>\n",
       "      <th>1996</th>\n",
       "      <td>46</td>\n",
       "      <td>Private</td>\n",
       "      <td>7th-8th</td>\n",
       "      <td>Never-married</td>\n",
       "      <td>Other-service</td>\n",
       "      <td>Own-child</td>\n",
       "      <td>Male</td>\n",
       "      <td>United-States</td>\n",
       "      <td>&lt;=50K</td>\n",
       "    </tr>\n",
       "    <tr>\n",
       "      <th>1997</th>\n",
       "      <td>41</td>\n",
       "      <td>Self-emp-not-inc</td>\n",
       "      <td>HS-grad</td>\n",
       "      <td>Married-civ-spouse</td>\n",
       "      <td>Farming-fishing</td>\n",
       "      <td>Husband</td>\n",
       "      <td>Male</td>\n",
       "      <td>United-States</td>\n",
       "      <td>&lt;=50K</td>\n",
       "    </tr>\n",
       "    <tr>\n",
       "      <th>1998</th>\n",
       "      <td>31</td>\n",
       "      <td>Private</td>\n",
       "      <td>HS-grad</td>\n",
       "      <td>Never-married</td>\n",
       "      <td>Adm-clerical</td>\n",
       "      <td>Own-child</td>\n",
       "      <td>Male</td>\n",
       "      <td>United-States</td>\n",
       "      <td>&lt;=50K</td>\n",
       "    </tr>\n",
       "    <tr>\n",
       "      <th>1999</th>\n",
       "      <td>51</td>\n",
       "      <td>Self-emp-inc</td>\n",
       "      <td>HS-grad</td>\n",
       "      <td>Never-married</td>\n",
       "      <td>Exec-managerial</td>\n",
       "      <td>Not-in-family</td>\n",
       "      <td>Male</td>\n",
       "      <td>United-States</td>\n",
       "      <td>&gt;50K</td>\n",
       "    </tr>\n",
       "  </tbody>\n",
       "</table>\n",
       "<p>2000 rows × 9 columns</p>\n",
       "</div>"
      ],
      "text/plain": [
       "     age         workclass    education      marital-status       occupation  \\\n",
       "0     27           Private    Bachelors  Married-civ-spouse     Tech-support   \n",
       "1     64           Private      HS-grad             Widowed     Adm-clerical   \n",
       "2     49           Private         11th       Never-married    Other-service   \n",
       "3     45           Private      HS-grad  Married-civ-spouse     Craft-repair   \n",
       "4     37           Private  Prof-school  Married-civ-spouse   Prof-specialty   \n",
       "...   ..               ...          ...                 ...              ...   \n",
       "1995  46           Private      HS-grad            Divorced   Prof-specialty   \n",
       "1996  46           Private      7th-8th       Never-married    Other-service   \n",
       "1997  41  Self-emp-not-inc      HS-grad  Married-civ-spouse  Farming-fishing   \n",
       "1998  31           Private      HS-grad       Never-married     Adm-clerical   \n",
       "1999  51      Self-emp-inc      HS-grad       Never-married  Exec-managerial   \n",
       "\n",
       "       relationship  gender native-country income  \n",
       "0           Husband    Male          India   >50K  \n",
       "1         Unmarried  Female  United-States  <=50K  \n",
       "2     Not-in-family    Male  United-States  <=50K  \n",
       "3           Husband    Male  United-States  <=50K  \n",
       "4           Husband    Male  United-States   >50K  \n",
       "...             ...     ...            ...    ...  \n",
       "1995  Not-in-family  Female  United-States  <=50K  \n",
       "1996      Own-child    Male  United-States  <=50K  \n",
       "1997        Husband    Male  United-States  <=50K  \n",
       "1998      Own-child    Male  United-States  <=50K  \n",
       "1999  Not-in-family    Male  United-States   >50K  \n",
       "\n",
       "[2000 rows x 9 columns]"
      ]
     },
     "execution_count": 404,
     "metadata": {},
     "output_type": "execute_result"
    }
   ],
   "source": [
    "pd.DataFrame(ll)"
   ]
  },
  {
   "cell_type": "code",
   "execution_count": 407,
   "id": "180825ed-0091-4af2-85b1-9af4c995afe4",
   "metadata": {},
   "outputs": [
    {
     "data": {
      "text/html": [
       "<div>\n",
       "<style scoped>\n",
       "    .dataframe tbody tr th:only-of-type {\n",
       "        vertical-align: middle;\n",
       "    }\n",
       "\n",
       "    .dataframe tbody tr th {\n",
       "        vertical-align: top;\n",
       "    }\n",
       "\n",
       "    .dataframe thead th {\n",
       "        text-align: right;\n",
       "    }\n",
       "</style>\n",
       "<table border=\"1\" class=\"dataframe\">\n",
       "  <thead>\n",
       "    <tr style=\"text-align: right;\">\n",
       "      <th></th>\n",
       "      <th>age</th>\n",
       "      <th>workclass</th>\n",
       "      <th>education</th>\n",
       "      <th>marital-status</th>\n",
       "      <th>occupation</th>\n",
       "      <th>relationship</th>\n",
       "      <th>gender</th>\n",
       "      <th>native-country</th>\n",
       "      <th>income</th>\n",
       "    </tr>\n",
       "  </thead>\n",
       "  <tbody>\n",
       "    <tr>\n",
       "      <th>0</th>\n",
       "      <td>Any</td>\n",
       "      <td>Private</td>\n",
       "      <td>Bachelors</td>\n",
       "      <td>Married-civ-spouse</td>\n",
       "      <td>Tech-support</td>\n",
       "      <td>Husband</td>\n",
       "      <td>Male</td>\n",
       "      <td>India</td>\n",
       "      <td>&gt;50K</td>\n",
       "    </tr>\n",
       "    <tr>\n",
       "      <th>1</th>\n",
       "      <td>Any</td>\n",
       "      <td>Private</td>\n",
       "      <td>HS-grad</td>\n",
       "      <td>Widowed</td>\n",
       "      <td>Adm-clerical</td>\n",
       "      <td>Unmarried</td>\n",
       "      <td>Female</td>\n",
       "      <td>United-States</td>\n",
       "      <td>&lt;=50K</td>\n",
       "    </tr>\n",
       "    <tr>\n",
       "      <th>2</th>\n",
       "      <td>Any</td>\n",
       "      <td>Private</td>\n",
       "      <td>11th</td>\n",
       "      <td>Never-married</td>\n",
       "      <td>Other-service</td>\n",
       "      <td>Not-in-family</td>\n",
       "      <td>Male</td>\n",
       "      <td>United-States</td>\n",
       "      <td>&lt;=50K</td>\n",
       "    </tr>\n",
       "    <tr>\n",
       "      <th>3</th>\n",
       "      <td>Any</td>\n",
       "      <td>Private</td>\n",
       "      <td>HS-grad</td>\n",
       "      <td>Married-civ-spouse</td>\n",
       "      <td>Craft-repair</td>\n",
       "      <td>Husband</td>\n",
       "      <td>Male</td>\n",
       "      <td>United-States</td>\n",
       "      <td>&lt;=50K</td>\n",
       "    </tr>\n",
       "    <tr>\n",
       "      <th>4</th>\n",
       "      <td>Any</td>\n",
       "      <td>Private</td>\n",
       "      <td>Prof-school</td>\n",
       "      <td>Married-civ-spouse</td>\n",
       "      <td>Prof-specialty</td>\n",
       "      <td>Husband</td>\n",
       "      <td>Male</td>\n",
       "      <td>United-States</td>\n",
       "      <td>&gt;50K</td>\n",
       "    </tr>\n",
       "    <tr>\n",
       "      <th>...</th>\n",
       "      <td>...</td>\n",
       "      <td>...</td>\n",
       "      <td>...</td>\n",
       "      <td>...</td>\n",
       "      <td>...</td>\n",
       "      <td>...</td>\n",
       "      <td>...</td>\n",
       "      <td>...</td>\n",
       "      <td>...</td>\n",
       "    </tr>\n",
       "    <tr>\n",
       "      <th>1995</th>\n",
       "      <td>[0,50)</td>\n",
       "      <td>Private</td>\n",
       "      <td>HS-grad</td>\n",
       "      <td>Divorced</td>\n",
       "      <td>Prof-specialty</td>\n",
       "      <td>Not-in-family</td>\n",
       "      <td>Female</td>\n",
       "      <td>United-States</td>\n",
       "      <td>&lt;=50K</td>\n",
       "    </tr>\n",
       "    <tr>\n",
       "      <th>1996</th>\n",
       "      <td>[0,50)</td>\n",
       "      <td>Private</td>\n",
       "      <td>7th-8th</td>\n",
       "      <td>Never-married</td>\n",
       "      <td>Other-service</td>\n",
       "      <td>Own-child</td>\n",
       "      <td>Male</td>\n",
       "      <td>United-States</td>\n",
       "      <td>&lt;=50K</td>\n",
       "    </tr>\n",
       "    <tr>\n",
       "      <th>1997</th>\n",
       "      <td>[0,50)</td>\n",
       "      <td>Self-emp-not-inc</td>\n",
       "      <td>HS-grad</td>\n",
       "      <td>Married-civ-spouse</td>\n",
       "      <td>Farming-fishing</td>\n",
       "      <td>Husband</td>\n",
       "      <td>Male</td>\n",
       "      <td>United-States</td>\n",
       "      <td>&lt;=50K</td>\n",
       "    </tr>\n",
       "    <tr>\n",
       "      <th>1998</th>\n",
       "      <td>[0,50)</td>\n",
       "      <td>Private</td>\n",
       "      <td>HS-grad</td>\n",
       "      <td>Never-married</td>\n",
       "      <td>Adm-clerical</td>\n",
       "      <td>Own-child</td>\n",
       "      <td>Male</td>\n",
       "      <td>United-States</td>\n",
       "      <td>&lt;=50K</td>\n",
       "    </tr>\n",
       "    <tr>\n",
       "      <th>1999</th>\n",
       "      <td>[50,100)</td>\n",
       "      <td>Self-emp-inc</td>\n",
       "      <td>HS-grad</td>\n",
       "      <td>Never-married</td>\n",
       "      <td>Exec-managerial</td>\n",
       "      <td>Not-in-family</td>\n",
       "      <td>Male</td>\n",
       "      <td>United-States</td>\n",
       "      <td>&gt;50K</td>\n",
       "    </tr>\n",
       "  </tbody>\n",
       "</table>\n",
       "<p>2000 rows × 9 columns</p>\n",
       "</div>"
      ],
      "text/plain": [
       "           age         workclass    education      marital-status  \\\n",
       "0          Any           Private    Bachelors  Married-civ-spouse   \n",
       "1          Any           Private      HS-grad             Widowed   \n",
       "2          Any           Private         11th       Never-married   \n",
       "3          Any           Private      HS-grad  Married-civ-spouse   \n",
       "4          Any           Private  Prof-school  Married-civ-spouse   \n",
       "...        ...               ...          ...                 ...   \n",
       "1995    [0,50)           Private      HS-grad            Divorced   \n",
       "1996    [0,50)           Private      7th-8th       Never-married   \n",
       "1997    [0,50)  Self-emp-not-inc      HS-grad  Married-civ-spouse   \n",
       "1998    [0,50)           Private      HS-grad       Never-married   \n",
       "1999  [50,100)      Self-emp-inc      HS-grad       Never-married   \n",
       "\n",
       "           occupation   relationship  gender native-country income  \n",
       "0        Tech-support        Husband    Male          India   >50K  \n",
       "1        Adm-clerical      Unmarried  Female  United-States  <=50K  \n",
       "2       Other-service  Not-in-family    Male  United-States  <=50K  \n",
       "3        Craft-repair        Husband    Male  United-States  <=50K  \n",
       "4      Prof-specialty        Husband    Male  United-States   >50K  \n",
       "...               ...            ...     ...            ...    ...  \n",
       "1995   Prof-specialty  Not-in-family  Female  United-States  <=50K  \n",
       "1996    Other-service      Own-child    Male  United-States  <=50K  \n",
       "1997  Farming-fishing        Husband    Male  United-States  <=50K  \n",
       "1998     Adm-clerical      Own-child    Male  United-States  <=50K  \n",
       "1999  Exec-managerial  Not-in-family    Male  United-States   >50K  \n",
       "\n",
       "[2000 rows x 9 columns]"
      ]
     },
     "execution_count": 407,
     "metadata": {},
     "output_type": "execute_result"
    }
   ],
   "source": [
    "df"
   ]
  },
  {
   "cell_type": "code",
   "execution_count": 415,
   "id": "70d0bfa5-3765-4ae8-8122-139540d0393a",
   "metadata": {},
   "outputs": [
    {
     "data": {
      "text/plain": [
       "True"
      ]
     },
     "execution_count": 415,
     "metadata": {},
     "output_type": "execute_result"
    }
   ],
   "source": [
    "all(df['gender'] == pd.DataFrame(ll)['gender'])"
   ]
  },
  {
   "cell_type": "code",
   "execution_count": 589,
   "id": "aa9cab43-a623-4894-ae56-48679697d5e4",
   "metadata": {},
   "outputs": [
    {
     "data": {
      "text/plain": [
       "[30, 34, 37.5, 38.5, 40, 41]"
      ]
     },
     "execution_count": 589,
     "metadata": {},
     "output_type": "execute_result"
    }
   ],
   "source": []
  },
  {
   "cell_type": "code",
   "execution_count": 594,
   "id": "3ec889fd-53e0-4864-8e42-8b47e15e814c",
   "metadata": {},
   "outputs": [],
   "source": []
  },
  {
   "cell_type": "code",
   "execution_count": 619,
   "id": "4a64711b-67a1-4e37-ab7b-54ae734ddbb2",
   "metadata": {},
   "outputs": [],
   "source": [
    "randomTime = [30, 34, 37.5, 38.5, 40, 41]\n",
    "randomLM = [1535, 1775, 1886, 1950, 1990, 2000]"
   ]
  },
  {
   "cell_type": "code",
   "execution_count": 596,
   "id": "413f0d36-e4cb-4bf7-abe1-76b76ec0f300",
   "metadata": {},
   "outputs": [],
   "source": [
    "k = [4,\n",
    "8,\n",
    "16,\n",
    "32,\n",
    "64,\n",
    "128]"
   ]
  },
  {
   "cell_type": "code",
   "execution_count": 605,
   "id": "171d41e1-24ba-4817-811d-adeac63e224b",
   "metadata": {},
   "outputs": [],
   "source": [
    "clusterTime = [45, 44, 34.2, 28.8, 25.7, 24]\n",
    "clusterLM = [1580, 1695, 1749, 1760, 1760, 1760]"
   ]
  },
  {
   "cell_type": "code",
   "execution_count": 604,
   "id": "af7b044b-c969-4938-abcc-5015b8fc41a5",
   "metadata": {},
   "outputs": [],
   "source": [
    "boTime = [292, 287, 285, 269, 284, 275]\n",
    "boLM = [1610, 1714, 1739, 1760, 1760, 1760]"
   ]
  },
  {
   "cell_type": "code",
   "execution_count": 597,
   "id": "585f0996-15fd-4789-9ff1-8560d827414e",
   "metadata": {},
   "outputs": [],
   "source": [
    "from mpl_toolkits import mplot3d"
   ]
  },
  {
   "cell_type": "code",
   "execution_count": 598,
   "id": "cef454b9-c193-4478-ad56-e6a440ff46d3",
   "metadata": {},
   "outputs": [
    {
     "data": {
      "image/png": "[encoded data removed]",
      "text/plain": [
       "<Figure size 432x288 with 1 Axes>"
      ]
     },
     "metadata": {
      "needs_background": "light"
     },
     "output_type": "display_data"
    }
   ],
   "source": [
    "%matplotlib inline\n",
    "import numpy as np\n",
    "import matplotlib.pyplot as plt\n",
    "fig = plt.figure()\n",
    "ax = plt.axes(projection='3d')"
   ]
  },
  {
   "cell_type": "code",
   "execution_count": 627,
   "id": "a9ee879a-ab4b-4d84-8cb2-aaa2e1bf8658",
   "metadata": {},
   "outputs": [
    {
     "data": {
      "text/plain": [
       "<mpl_toolkits.mplot3d.art3d.Path3DCollection at 0x7fa8d4d39370>"
      ]
     },
     "execution_count": 627,
     "metadata": {},
     "output_type": "execute_result"
    },
    {
     "data": {
      "image/png": "[encoded data removed]",
      "text/plain": [
       "<Figure size 432x288 with 1 Axes>"
      ]
     },
     "metadata": {
      "needs_background": "light"
     },
     "output_type": "display_data"
    }
   ],
   "source": [
    "ax = plt.axes(projection='3d')\n",
    "ax.set_xlabel('K')\n",
    "ax.set_ylabel('Time Cost')\n",
    "ax.set_zlabel('LM Cost')\n",
    "ax.scatter3D(k, clusterTime, clusterLM, c=clusterTime, alpha=1, sizes=np.repeat(150, len(clusterLM)), cmap='inferno', marker='*')\n",
    "ax.scatter3D(k, randomTime, randomLM, c=randomTime, alpha=1, sizes=np.repeat(150, len(clusterLM)), cmap='hot_r', marker='d')\n",
    "ax.scatter3D(k, boTime, boLM, c=boTime, alpha=1, sizes=np.repeat(150, len(clusterLM)), cmap='pink')"
   ]
  },
  {
   "cell_type": "code",
   "execution_count": null,
   "id": "cb1aca79-b4f1-4cd2-a879-4575dcded3ae",
   "metadata": {},
   "outputs": [],
   "source": []
  }
 ],
 "metadata": {
  "kernelspec": {
   "display_name": "Python 3 (ipykernel)",
   "language": "python",
   "name": "python3"
  },
  "language_info": {
   "codemirror_mode": {
    "name": "ipython",
    "version": 3
   },
   "file_extension": ".py",
   "mimetype": "text/x-python",
   "name": "python",
   "nbconvert_exporter": "python",
   "pygments_lexer": "ipython3",
   "version": "3.8.13"
  }
 },
 "nbformat": 4,
 "nbformat_minor": 5
}
